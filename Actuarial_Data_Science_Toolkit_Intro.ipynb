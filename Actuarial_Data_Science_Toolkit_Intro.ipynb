{
  "cells": [
    {
      "attachments": {},
      "cell_type": "markdown",
      "metadata": {
        "id": "Wc3LVh8qXBCK"
      },
      "source": [
        "> [Welcome to Colab](https://colab.research.google.com/), *a hosted `python` notebook environment, where code & documentation live side-by-side.*\n",
        ">\n",
        "> **Note:** if your notebook sections are expanded, please go to *`View > Collapse sections`* or press `Ctrl/⌘ + [`\n",
        "---\n",
        "<img src=\"https://www.actuarialsociety.org.za/wp-content/uploads/2022/10/ASSA-LOGO-20224.png\"  width=\"420\" height=\"80\">\n",
        "\n",
        "# **The Actuarial Data Science Toolkit** \n",
        "### *A Practical Introduction*"
      ]
    },
    {
      "cell_type": "markdown",
      "metadata": {
        "id": "SryZKhcAQKve"
      },
      "source": [
        "# **0. Table of contents** \n",
        "---"
      ]
    },
    {
      "cell_type": "markdown",
      "metadata": {
        "id": "vVIrkzpfQVgR"
      },
      "source": [
        "↖️ `click  task bar`"
      ]
    },
    {
      "cell_type": "markdown",
      "metadata": {
        "id": "KNuDdEzFL0Td"
      },
      "source": [
        "# **1. Introduction**\n",
        "\n",
        "---\n"
      ]
    },
    {
      "attachments": {},
      "cell_type": "markdown",
      "metadata": {
        "id": "F7A1rKE8QhNP"
      },
      "source": [
        "\n",
        "In recent years the rise of data intensive methods has seen terms like *Big Data*, *Data Science* and *Arficial Intelligence* (AI) enter public lexicon. The use of such methods in data-rich, typically in internet-based businesses, has resulted in tools that may be applied more broadly. Data science methods and techniques are indeed being used in broad domains. Actuaries have deep expertise with data, yet we have been slow to adapt to use newer data science type tools. \n",
        "\n",
        ">   ℹ️ *An [actuarial view of Data Science may be found here](https://actuaries.org.uk/learn/lifelong-learning/data-science-an-actuarial-viewpoint/) and an overview of [AI in Actuarial Science may be found here](https://www.actuarialsociety.org.za/wp-content/uploads/2018/10/2018-Richman-FIN.pdf). Some propose that [actuaries and data scientist should work side-by-side](https://www.casact.org/newsletter/article/actuaries-and-data-scientists-how-can-we-work-together-and-what-can-we-bring).*\n",
        "\n",
        "This **practical tutorial** is designed to *introduce* basic data science tools that may prove useful in actuarial workflows. No prior knowledge is assumed and concepts are outlined with provided **reusable code**. Links to more thorough learning materials for individual topics are also provided. The hope is that it will spark curiousity in members and that they will use such tools more regularly in their day-to-day work. \n",
        "\n",
        ">   ℹ️ *Typical actuarial work needs more mature data practices, along with practical upskilling to take full advantage of advanced AI. As a profession of thought leaders we should help shape our industries' futures to take advantage of these rapidly evolving technologies. Read about the [state of insurance in 2030 here](https://www.mckinsey.com/industries/financial-services/our-insights/insurance-2030-the-impact-of-ai-on-the-future-of-insurance).*\n",
        " "
      ]
    },
    {
      "cell_type": "markdown",
      "metadata": {
        "id": "WtYRhAkvQSXv"
      },
      "source": [
        "# **2. From Excel to `python`**  🐍\n",
        "\n",
        "---"
      ]
    },
    {
      "cell_type": "markdown",
      "metadata": {
        "id": "L7aj5BRfZg5P"
      },
      "source": [
        "\n",
        "#### **2.0 Section learning objectives**\n",
        "\n",
        ">The purpose of this section is to introduce a member, who is proficient in Excel, to basic `python` tools. This is intended for an absolute beginner and  afterwards the member should feel comfortable using `python` for common tasks they would normally perform in Excel.\n",
        ">\n",
        ">   * Basic system operation\n",
        ">       * Introduce notebooks\n",
        ">       * `wget` data \n",
        ">       * `os` functionality\n",
        ">       * `pip install`\n",
        ">       * `import` packages\n",
        ">\n",
        ">   * `pandas`\n",
        ">       * Link to learning resoruces\n",
        ">       * Note on `v2.0.0` \n",
        ">       * Summarise data\n",
        ">       * Read `.xlsx` data into df\n",
        ">       * Rename columns\n",
        ">       * Drop `na`\n",
        ">       * Drop duplicates `#TODO`\n",
        ">       * Query with wildcards\n",
        ">       * Filter \n",
        ">       * Conditional formatting\n",
        ">   * `openpyxl` `#TODO`\n",
        ">       * named ranges"
      ]
    },
    {
      "attachments": {},
      "cell_type": "markdown",
      "metadata": {
        "id": "O3KFkU08M-Vu"
      },
      "source": [
        "#### 2.1 **We can't ignore Excel, for now...**\n",
        "\n",
        "There is no denying that the majority of actuarial work is done in Excel (for now!). As such, learning to intergrate Excel as a tool in your data science workflow is essential for practical benefit. \n",
        "\n",
        "\n",
        "#### 2.2 **Why `python`?**\n",
        "\n",
        "In the data science community there has been fierce debate over whether `python` or `R` was the better data science coding language. While both languages are capible, we have opted for `python` as it has become the defacto language used for modern AI tools. It is also worth mentioning that `julia`, a newer language is growing and there is already an [actuarial `julia` community](https://juliaactuary.org/).\n",
        "\n",
        "A major advantage of `python` is the popularity of notebooks, like this document. A notebook is a \"living document\" with live code and documentation displayed side-by-side. We have opted to use Colab as it provides free GPU access, needed for modern AI. We will need this GPU below!  \n",
        "\n",
        "#### 2.3 **Getting data from an external source**\n",
        "GitHub is a platform used to store code. In making this tutorial we created the Actuarial Society's GitHub account. \n",
        "\n",
        "> ℹ️ *GitHub is a where open-source code is stored. It is a great place to colaborate and there are lots of free-to-use data science projects (repositories) to explore. If you don't have an account you can [get a GitHub account here](https://github.com/). GitHub uses `git`, a version control system that makes a code project's history transparent and easy to manage.*\n"
      ]
    },
    {
      "cell_type": "code",
      "execution_count": 1,
      "metadata": {
        "id": "YI6knoNo-0lv"
      },
      "outputs": [
        {
          "name": "stdout",
          "output_type": "stream",
          "text": [
            "Cloning into 'dstoolkit'...\n",
            "remote: Enumerating objects: 575, done.\u001b[K\n",
            "remote: Counting objects: 100% (434/434), done.\u001b[K\n",
            "remote: Compressing objects: 100% (183/183), done.\u001b[K\n",
            "remote: Total 575 (delta 266), reused 411 (delta 249), pack-reused 141\u001b[K\n",
            "Receiving objects: 100% (575/575), 8.44 MiB | 3.11 MiB/s, done.\n",
            "Resolving deltas: 100% (352/352), done.\n"
          ]
        }
      ],
      "source": [
        "# clone the repository from the actuarialsociety's github \n",
        "# bash script (!)\n",
        "!git clone https://github.com/actuarialsociety/dstoolkit.git"
      ]
    },
    {
      "cell_type": "markdown",
      "metadata": {
        "id": "rUop0CTHpwqj"
      },
      "source": [
        "Let's check that our files are there"
      ]
    },
    {
      "cell_type": "code",
      "execution_count": 3,
      "metadata": {
        "id": "aYWe2EKXp7q0"
      },
      "outputs": [
        {
          "name": "stdout",
          "output_type": "stream",
          "text": [
            "Getting our current working directory/Users/neelanpather/dev/dstoolkit \n",
            "\n",
            "Listing what is in our directory \n",
            " ['Advanced_Excel_with_Python-xlwings.ipynb', 'generating_modelpoints.ipynb', 'dstoolkit', 'Actuarial_Data_Science_Toolkit_Intro.ipynb', 'README.md', '.gitignore', '.ipynb_checkpoints', 'Actuarial_Data_Science_Toolkit_Intro-jvsc-a71e880f-183b-48ee-980a-ac2c7b274a6b635d8abd-b6e1-40b4-92b6-8d1afc7bef25.ipynb', '.git', 'model_point.xlsx', '.conda'] \n",
            "\n"
          ]
        }
      ],
      "source": [
        "# Import os package to enable us to work with files\n",
        "import os\n",
        "print(f\"Getting our current working directory{os.getcwd()} \\n\")\n",
        "print(f\"Listing what is in our directory \\n {os.listdir()} \\n\") "
      ]
    },
    {
      "cell_type": "markdown",
      "metadata": {
        "id": "1G48kL10KPN2"
      },
      "source": [
        "We can see the repository we just cloned `dstoolkit` is listed. "
      ]
    },
    {
      "cell_type": "code",
      "execution_count": 4,
      "metadata": {
        "id": "wXIiRI2gKOHr"
      },
      "outputs": [
        {
          "data": {
            "text/plain": [
              "['Advanced_Excel_with_Python-xlwings.ipynb',\n",
              " 'generating_modelpoints.ipynb',\n",
              " 'dstoolkit',\n",
              " 'Actuarial_Data_Science_Toolkit_Intro.ipynb',\n",
              " 'README.md',\n",
              " '.gitignore',\n",
              " '.git',\n",
              " 'model_point.xlsx']"
            ]
          },
          "execution_count": 4,
          "metadata": {},
          "output_type": "execute_result"
        }
      ],
      "source": [
        "# Examining our repo\n",
        "os.listdir(\"./dstoolkit\")"
      ]
    },
    {
      "cell_type": "markdown",
      "metadata": {
        "id": "kA353EXPOZuY"
      },
      "source": [
        " ↖️ We could have also just used the task bar."
      ]
    },
    {
      "attachments": {},
      "cell_type": "markdown",
      "metadata": {
        "id": "ueR7pJHdEZh0"
      },
      "source": [
        "#### 2.4 **How to use `python` to work with Excel**\n",
        "\n",
        "In order to extend the functionality of basic `python` we need to import **packages** into our notebook environment, into which all code is executed. Packages allow for an extension of basic python functionality.\n",
        "\n",
        "The `python` pacakges `numpy` and `pandas` are literally two of the most used packages across any computing language. `numpy` provides broad mathematical functionality and `pandas` allows for data manipulation from multiple sources, including spreadsheets like Excel. \n",
        "In order to extend the functionality of basic `python` we need to import packages into our notebook environment, into which all code is executed. The `python` pacakges `numpy` and `pandas` are literally two of the most used packages across any computing language. `numpy` provides broad mathematical functionality and `pandas` allows for data manipulation from multiple sources, including spreadsheets like Excel. \n",
        "\n",
        "Typically packages are installed into our `python` environment using the `pip` command, however as we see below, due to their popularity, these packages are already installed in the Colab notebook environment. "
      ]
    },
    {
      "cell_type": "code",
      "execution_count": 5,
      "metadata": {
        "id": "pwHUlMhRV6GG"
      },
      "outputs": [
        {
          "name": "stdout",
          "output_type": "stream",
          "text": [
            "Note: you may need to restart the kernel to use updated packages.\n"
          ]
        }
      ],
      "source": [
        "# bash script (!)\n",
        "%pip install numpy pandas Jinja2 sklearn openpyxl matplotlib seaborn -q"
      ]
    },
    {
      "attachments": {},
      "cell_type": "markdown",
      "metadata": {
        "id": "IzuLZRulv59l"
      },
      "source": [
        "> ℹ️ `pandas` has very good documentation and a short introduction can be found [here](https://pandas.pydata.org/docs/user_guide/10min.html).\n",
        "\n",
        "`pandas` a very  capable I/O API (Input/Output capabilities) and can read data from a [variety of sources](https://pandas.pydata.org/docs/user_guide/io.html), including common cloud platforms.\n",
        "\n",
        "> ℹ️ *`pandas` version 2 (`pandas == 2.0`) was recently released. You can find the release notes [here](https://pandas.pydata.org/docs/dev/whatsnew/v2.0.0.html#), as well as a short video on what is new [here](https://www.youtube.com/watch?v=cSLPyRI_ZD8).*"
      ]
    },
    {
      "cell_type": "code",
      "execution_count": 3,
      "metadata": {
        "id": "AVTqVAkqR_xC"
      },
      "outputs": [
        {
          "name": "stdout",
          "output_type": "stream",
          "text": [
            "\n",
            " Getting some basic info about our data... \n",
            " \n",
            "\n",
            "* size: 110000 \n",
            " \n",
            "\n",
            "* shape:(10000, 11) \n",
            " \n",
            "\n",
            "<class 'pandas.core.frame.DataFrame'>\n",
            "RangeIndex: 10000 entries, 0 to 9999\n",
            "Data columns (total 11 columns):\n",
            " #   Column         Non-Null Count  Dtype         \n",
            "---  ------         --------------  -----         \n",
            " 0   policy_id      10000 non-null  int64         \n",
            " 1   UUid           9000 non-null   object        \n",
            " 2   Age At Entry   9000 non-null   float64       \n",
            " 3   Sex            9000 non-null   object        \n",
            " 4   Policy Term    9000 non-null   float64       \n",
            " 5   Policy Count   9000 non-null   float64       \n",
            " 6   Sum Assured    9000 non-null   float64       \n",
            " 7   Issue date     9000 non-null   datetime64[ns]\n",
            " 8   Payment freq   9000 non-null   float64       \n",
            " 9   Payment_term   9000 non-null   float64       \n",
            " 10  Premium        9000 non-null   float64       \n",
            "dtypes: datetime64[ns](1), float64(7), int64(1), object(2)\n",
            "memory usage: 859.5+ KB\n"
          ]
        },
        {
          "data": {
            "text/plain": [
              "None"
            ]
          },
          "metadata": {},
          "output_type": "display_data"
        },
        {
          "name": "stdout",
          "output_type": "stream",
          "text": [
            "\n",
            " Getting an idea about the ranges of each column... \n",
            " \n",
            "\n"
          ]
        },
        {
          "data": {
            "text/html": [
              "<div>\n",
              "<style scoped>\n",
              "    .dataframe tbody tr th:only-of-type {\n",
              "        vertical-align: middle;\n",
              "    }\n",
              "\n",
              "    .dataframe tbody tr th {\n",
              "        vertical-align: top;\n",
              "    }\n",
              "\n",
              "    .dataframe thead th {\n",
              "        text-align: right;\n",
              "    }\n",
              "</style>\n",
              "<table border=\"1\" class=\"dataframe\">\n",
              "  <thead>\n",
              "    <tr style=\"text-align: right;\">\n",
              "      <th></th>\n",
              "      <th>policy_id</th>\n",
              "      <th>Age At Entry</th>\n",
              "      <th>Policy Term</th>\n",
              "      <th>Policy Count</th>\n",
              "      <th>Sum Assured</th>\n",
              "      <th>Issue date</th>\n",
              "      <th>Payment freq</th>\n",
              "      <th>Payment_term</th>\n",
              "      <th>Premium</th>\n",
              "    </tr>\n",
              "  </thead>\n",
              "  <tbody>\n",
              "    <tr>\n",
              "      <th>count</th>\n",
              "      <td>10000.00000</td>\n",
              "      <td>9000.000000</td>\n",
              "      <td>9000.000000</td>\n",
              "      <td>9000.000000</td>\n",
              "      <td>9000.000000</td>\n",
              "      <td>9000</td>\n",
              "      <td>9000.000000</td>\n",
              "      <td>9000.000000</td>\n",
              "      <td>9000.000000</td>\n",
              "    </tr>\n",
              "    <tr>\n",
              "      <th>mean</th>\n",
              "      <td>5000.50000</td>\n",
              "      <td>39.414778</td>\n",
              "      <td>14.953333</td>\n",
              "      <td>50.346444</td>\n",
              "      <td>505461.222222</td>\n",
              "      <td>2016-01-01 01:06:23.999999744</td>\n",
              "      <td>4.976333</td>\n",
              "      <td>11.610000</td>\n",
              "      <td>83.460337</td>\n",
              "    </tr>\n",
              "    <tr>\n",
              "      <th>min</th>\n",
              "      <td>1.00000</td>\n",
              "      <td>20.000000</td>\n",
              "      <td>10.000000</td>\n",
              "      <td>0.000000</td>\n",
              "      <td>10000.000000</td>\n",
              "      <td>2002-01-01 00:00:00</td>\n",
              "      <td>1.000000</td>\n",
              "      <td>5.000000</td>\n",
              "      <td>0.660920</td>\n",
              "    </tr>\n",
              "    <tr>\n",
              "      <th>25%</th>\n",
              "      <td>2500.75000</td>\n",
              "      <td>29.000000</td>\n",
              "      <td>10.000000</td>\n",
              "      <td>25.000000</td>\n",
              "      <td>260000.000000</td>\n",
              "      <td>2012-04-22 00:00:00</td>\n",
              "      <td>1.000000</td>\n",
              "      <td>10.000000</td>\n",
              "      <td>27.604365</td>\n",
              "    </tr>\n",
              "    <tr>\n",
              "      <th>50%</th>\n",
              "      <td>5000.50000</td>\n",
              "      <td>39.000000</td>\n",
              "      <td>15.000000</td>\n",
              "      <td>50.000000</td>\n",
              "      <td>503000.000000</td>\n",
              "      <td>2016-06-09 00:00:00</td>\n",
              "      <td>2.000000</td>\n",
              "      <td>10.000000</td>\n",
              "      <td>54.430256</td>\n",
              "    </tr>\n",
              "    <tr>\n",
              "      <th>75%</th>\n",
              "      <td>7500.25000</td>\n",
              "      <td>49.000000</td>\n",
              "      <td>20.000000</td>\n",
              "      <td>75.000000</td>\n",
              "      <td>753000.000000</td>\n",
              "      <td>2020-10-03 06:00:00</td>\n",
              "      <td>12.000000</td>\n",
              "      <td>15.000000</td>\n",
              "      <td>107.983689</td>\n",
              "    </tr>\n",
              "    <tr>\n",
              "      <th>max</th>\n",
              "      <td>10000.00000</td>\n",
              "      <td>59.000000</td>\n",
              "      <td>20.000000</td>\n",
              "      <td>100.000000</td>\n",
              "      <td>1000000.000000</td>\n",
              "      <td>2024-12-31 00:00:00</td>\n",
              "      <td>12.000000</td>\n",
              "      <td>20.000000</td>\n",
              "      <td>602.477954</td>\n",
              "    </tr>\n",
              "    <tr>\n",
              "      <th>std</th>\n",
              "      <td>2886.89568</td>\n",
              "      <td>11.434117</td>\n",
              "      <td>4.129130</td>\n",
              "      <td>28.810723</td>\n",
              "      <td>285162.183081</td>\n",
              "      <td>NaN</td>\n",
              "      <td>4.955138</td>\n",
              "      <td>4.757377</td>\n",
              "      <td>85.390454</td>\n",
              "    </tr>\n",
              "  </tbody>\n",
              "</table>\n",
              "</div>"
            ],
            "text/plain": [
              "         policy_id  Age At Entry  Policy Term    Policy Count    Sum Assured    \n",
              "count  10000.00000   9000.000000    9000.000000   9000.000000     9000.000000  \\\n",
              "mean    5000.50000     39.414778      14.953333     50.346444   505461.222222   \n",
              "min        1.00000     20.000000      10.000000      0.000000    10000.000000   \n",
              "25%     2500.75000     29.000000      10.000000     25.000000   260000.000000   \n",
              "50%     5000.50000     39.000000      15.000000     50.000000   503000.000000   \n",
              "75%     7500.25000     49.000000      20.000000     75.000000   753000.000000   \n",
              "max    10000.00000     59.000000      20.000000    100.000000  1000000.000000   \n",
              "std     2886.89568     11.434117       4.129130     28.810723   285162.183081   \n",
              "\n",
              "                          Issue date  Payment freq  Payment_term      Premium  \n",
              "count                           9000   9000.000000   9000.000000  9000.000000  \n",
              "mean   2016-01-01 01:06:23.999999744      4.976333     11.610000    83.460337  \n",
              "min              2002-01-01 00:00:00      1.000000      5.000000     0.660920  \n",
              "25%              2012-04-22 00:00:00      1.000000     10.000000    27.604365  \n",
              "50%              2016-06-09 00:00:00      2.000000     10.000000    54.430256  \n",
              "75%              2020-10-03 06:00:00     12.000000     15.000000   107.983689  \n",
              "max              2024-12-31 00:00:00     12.000000     20.000000   602.477954  \n",
              "std                              NaN      4.955138      4.757377    85.390454  "
            ]
          },
          "metadata": {},
          "output_type": "display_data"
        },
        {
          "data": {
            "text/html": [
              "<div>\n",
              "<style scoped>\n",
              "    .dataframe tbody tr th:only-of-type {\n",
              "        vertical-align: middle;\n",
              "    }\n",
              "\n",
              "    .dataframe tbody tr th {\n",
              "        vertical-align: top;\n",
              "    }\n",
              "\n",
              "    .dataframe thead th {\n",
              "        text-align: right;\n",
              "    }\n",
              "</style>\n",
              "<table border=\"1\" class=\"dataframe\">\n",
              "  <thead>\n",
              "    <tr style=\"text-align: right;\">\n",
              "      <th></th>\n",
              "      <th>policy_id</th>\n",
              "      <th>UUid</th>\n",
              "      <th>Age At Entry</th>\n",
              "      <th>Sex</th>\n",
              "      <th>Policy Term</th>\n",
              "      <th>Policy Count</th>\n",
              "      <th>Sum Assured</th>\n",
              "      <th>Issue date</th>\n",
              "      <th>Payment freq</th>\n",
              "      <th>Payment_term</th>\n",
              "      <th>Premium</th>\n",
              "    </tr>\n",
              "  </thead>\n",
              "  <tbody>\n",
              "    <tr>\n",
              "      <th>0</th>\n",
              "      <td>1</td>\n",
              "      <td>ee7602f8-c0ef-11ed-9035-0242ac1c000c</td>\n",
              "      <td>47.0</td>\n",
              "      <td>M</td>\n",
              "      <td>10.0</td>\n",
              "      <td>86.0</td>\n",
              "      <td>622000.0</td>\n",
              "      <td>2021-12-15</td>\n",
              "      <td>1.0</td>\n",
              "      <td>5.0</td>\n",
              "      <td>NaN</td>\n",
              "    </tr>\n",
              "    <tr>\n",
              "      <th>1</th>\n",
              "      <td>2</td>\n",
              "      <td>ee7604c4-c0ef-11ed-9035-0242ac1c000c</td>\n",
              "      <td>29.0</td>\n",
              "      <td>M</td>\n",
              "      <td>20.0</td>\n",
              "      <td>56.0</td>\n",
              "      <td>752000.0</td>\n",
              "      <td>2004-07-02</td>\n",
              "      <td>2.0</td>\n",
              "      <td>NaN</td>\n",
              "      <td>61.139589</td>\n",
              "    </tr>\n",
              "    <tr>\n",
              "      <th>2</th>\n",
              "      <td>3</td>\n",
              "      <td>ee76055a-c0ef-11ed-9035-0242ac1c000c</td>\n",
              "      <td>51.0</td>\n",
              "      <td>F</td>\n",
              "      <td>NaN</td>\n",
              "      <td>83.0</td>\n",
              "      <td>799000.0</td>\n",
              "      <td>2020-10-02</td>\n",
              "      <td>12.0</td>\n",
              "      <td>10.0</td>\n",
              "      <td>158.651775</td>\n",
              "    </tr>\n",
              "  </tbody>\n",
              "</table>\n",
              "</div>"
            ],
            "text/plain": [
              "   policy_id                                 UUid   Age At Entry Sex    \n",
              "0          1  ee7602f8-c0ef-11ed-9035-0242ac1c000c          47.0    M  \\\n",
              "1          2  ee7604c4-c0ef-11ed-9035-0242ac1c000c          29.0    M   \n",
              "2          3  ee76055a-c0ef-11ed-9035-0242ac1c000c          51.0    F   \n",
              "\n",
              "   Policy Term    Policy Count  Sum Assured  Issue date  Payment freq   \n",
              "0           10.0          86.0      622000.0 2021-12-15           1.0  \\\n",
              "1           20.0          56.0      752000.0 2004-07-02           2.0   \n",
              "2            NaN          83.0      799000.0 2020-10-02          12.0   \n",
              "\n",
              "   Payment_term     Premium  \n",
              "0           5.0         NaN  \n",
              "1           NaN   61.139589  \n",
              "2          10.0  158.651775  "
            ]
          },
          "metadata": {},
          "output_type": "display_data"
        }
      ],
      "source": [
        "# import necessary packages\n",
        "import numpy as np\n",
        "import pandas as pd\n",
        "\n",
        "# path to data we just downloaded\n",
        "DATA_XLS = \"./dstoolkit/model_point.xlsx\"\n",
        "\n",
        "# ingesting our data into a dataframe (df)\n",
        "df = pd.read_excel(DATA_XLS)\n",
        "\n",
        "# now printing out some information about our data\n",
        "print(f\"\\n Getting some basic info about our data... \\n \\n\")\n",
        "print(f\"* size: {df.size} \\n \\n\")\n",
        "print(f\"* shape:{df.shape} \\n \\n\")\n",
        "\n",
        "# now disaplying some information\n",
        "# `display` is like `print` but renders pd df's better \n",
        "display(df.info())\n",
        "\n",
        "print(\"\\n Getting an idea about the ranges of each column... \\n \\n\")\n",
        "display(df.describe())\n",
        "\n",
        "display(df.head(3))"
      ]
    },
    {
      "cell_type": "markdown",
      "metadata": {
        "id": "Xsuk9RS5Rd9U"
      },
      "source": [
        "We can already see from our `model_point.info()` command that there are `null` values, that we probably want to drop. In reality it probably worth checking if the data could be better sourced to have fewer `null` values."
      ]
    },
    {
      "cell_type": "code",
      "execution_count": 5,
      "metadata": {
        "id": "x3nPSgqZUpsX"
      },
      "outputs": [
        {
          "name": "stdout",
          "output_type": "stream",
          "text": [
            "\n",
            " We examine the number of null values in our data before dropping them... \n",
            "\n",
            "\n",
            " Number of null items: \n",
            " policy_id           0\n",
            "UUid             1000\n",
            "Age At Entry     1000\n",
            "Sex              1000\n",
            "Policy Term      1000\n",
            "Policy Count     1000\n",
            "Sum Assured      1000\n",
            "Issue date       1000\n",
            "Payment freq     1000\n",
            "Payment_term     1000\n",
            "Premium          1000\n",
            "dtype: int64\n",
            "\n",
            " Shape before dropping nulls: \n",
            " (10000, 11)\n",
            "\n",
            " Shape after dropping nulls: \n",
            " (3444, 11)\n",
            "\n",
            " We probably also what to trim spaces in our column names,convert to lower case and replace spaces with _ to make it easier to work with\n",
            "\n",
            "['policy_id', 'uuid', 'age_at_entry', 'sex', 'policy_term', 'policy_count', 'sum_assured', 'issue_date', 'payment_freq', 'payment_term', 'premium']\n"
          ]
        }
      ],
      "source": [
        "print(f\"\\n We examine the number of null values in our data before dropping them... \\n\")\n",
        "print(f\"\\n Number of null items: \\n {df.isnull( ).sum()}\")\n",
        "print(f\"\\n Shape before dropping nulls: \\n {df.shape}\")\n",
        "df = df.dropna()\n",
        "print(f\"\\n Shape after dropping nulls: \\n {df.shape}\")\n",
        "\n",
        "print(f\"\\n We probably also what to trim spaces in our column names,convert to lower case and replace spaces with _ to make it easier to work with\\n\")\n",
        "new_columns = [str(col).strip().lower().replace(\" \",\"_\") for col in list(df.columns)]\n",
        "print(new_columns)\n",
        "\n",
        "# creating dict to rename df\n",
        "rename_dict = dict()\n",
        "for i in range(0,len(list(df.columns))):\n",
        "  rename_dict.update({list(df.columns)[i]:new_columns[i]})\n",
        "\n",
        "# renaming df\n",
        "df = df.rename(columns=rename_dict)\n",
        "\n",
        "# coverting df.sex to a Categorical variable\n",
        "df.sex = pd.Categorical(df.sex)\n",
        "\n",
        "# coverting df.issue to a datetime\n",
        "df.issue_date =  pd.to_datetime(df.issue_date, format='%d/%m/%Y')\n",
        "\n"
      ]
    },
    {
      "cell_type": "code",
      "execution_count": 6,
      "metadata": {
        "id": "wBicWNv83ffq"
      },
      "outputs": [
        {
          "data": {
            "text/html": [
              "<div>\n",
              "<style scoped>\n",
              "    .dataframe tbody tr th:only-of-type {\n",
              "        vertical-align: middle;\n",
              "    }\n",
              "\n",
              "    .dataframe tbody tr th {\n",
              "        vertical-align: top;\n",
              "    }\n",
              "\n",
              "    .dataframe thead th {\n",
              "        text-align: right;\n",
              "    }\n",
              "</style>\n",
              "<table border=\"1\" class=\"dataframe\">\n",
              "  <thead>\n",
              "    <tr style=\"text-align: right;\">\n",
              "      <th></th>\n",
              "      <th>policy_id</th>\n",
              "      <th>uuid</th>\n",
              "      <th>age_at_entry</th>\n",
              "      <th>sex</th>\n",
              "      <th>policy_term</th>\n",
              "      <th>policy_count</th>\n",
              "      <th>sum_assured</th>\n",
              "      <th>issue_date</th>\n",
              "      <th>payment_freq</th>\n",
              "      <th>payment_term</th>\n",
              "      <th>premium</th>\n",
              "    </tr>\n",
              "  </thead>\n",
              "  <tbody>\n",
              "    <tr>\n",
              "      <th>19</th>\n",
              "      <td>20</td>\n",
              "      <td>ee760e38-c0ef-11ed-9035-0242ac1c000c</td>\n",
              "      <td>57.0</td>\n",
              "      <td>F</td>\n",
              "      <td>15.0</td>\n",
              "      <td>34.0</td>\n",
              "      <td>274000.0</td>\n",
              "      <td>2011-03-29</td>\n",
              "      <td>12.0</td>\n",
              "      <td>15.0</td>\n",
              "      <td>109.263119</td>\n",
              "    </tr>\n",
              "    <tr>\n",
              "      <th>65</th>\n",
              "      <td>66</td>\n",
              "      <td>ee76224c-c0ef-11ed-9035-0242ac1c000c</td>\n",
              "      <td>57.0</td>\n",
              "      <td>M</td>\n",
              "      <td>20.0</td>\n",
              "      <td>76.0</td>\n",
              "      <td>517000.0</td>\n",
              "      <td>2010-11-29</td>\n",
              "      <td>12.0</td>\n",
              "      <td>20.0</td>\n",
              "      <td>263.868782</td>\n",
              "    </tr>\n",
              "    <tr>\n",
              "      <th>164</th>\n",
              "      <td>165</td>\n",
              "      <td>ee764ccc-c0ef-11ed-9035-0242ac1c000c</td>\n",
              "      <td>58.0</td>\n",
              "      <td>F</td>\n",
              "      <td>10.0</td>\n",
              "      <td>25.0</td>\n",
              "      <td>995000.0</td>\n",
              "      <td>2022-10-24</td>\n",
              "      <td>2.0</td>\n",
              "      <td>10.0</td>\n",
              "      <td>332.185054</td>\n",
              "    </tr>\n",
              "  </tbody>\n",
              "</table>\n",
              "</div>"
            ],
            "text/plain": [
              "     policy_id                                  uuid  age_at_entry sex   \n",
              "19          20  ee760e38-c0ef-11ed-9035-0242ac1c000c          57.0   F  \\\n",
              "65          66  ee76224c-c0ef-11ed-9035-0242ac1c000c          57.0   M   \n",
              "164        165  ee764ccc-c0ef-11ed-9035-0242ac1c000c          58.0   F   \n",
              "\n",
              "     policy_term  policy_count  sum_assured issue_date  payment_freq   \n",
              "19          15.0          34.0     274000.0 2011-03-29          12.0  \\\n",
              "65          20.0          76.0     517000.0 2010-11-29          12.0   \n",
              "164         10.0          25.0     995000.0 2022-10-24           2.0   \n",
              "\n",
              "     payment_term     premium  \n",
              "19           15.0  109.263119  \n",
              "65           20.0  263.868782  \n",
              "164          10.0  332.185054  "
            ]
          },
          "execution_count": 6,
          "metadata": {},
          "output_type": "execute_result"
        }
      ],
      "source": [
        "# Importantly this allows one to access columns easier when running queries\n",
        "# Setting query wildcards\n",
        "query_age = 55\n",
        "query_sa = 100000\n",
        "\n",
        "# Querying with wildcards\n",
        "(df\n",
        " .query('age_at_entry > @query_age and sum_assured > @query_sa')\\\n",
        " .head(3))"
      ]
    },
    {
      "cell_type": "code",
      "execution_count": 7,
      "metadata": {
        "id": "jJU_h_4YAZHm"
      },
      "outputs": [
        {
          "data": {
            "text/html": [
              "<div>\n",
              "<style scoped>\n",
              "    .dataframe tbody tr th:only-of-type {\n",
              "        vertical-align: middle;\n",
              "    }\n",
              "\n",
              "    .dataframe tbody tr th {\n",
              "        vertical-align: top;\n",
              "    }\n",
              "\n",
              "    .dataframe thead th {\n",
              "        text-align: right;\n",
              "    }\n",
              "</style>\n",
              "<table border=\"1\" class=\"dataframe\">\n",
              "  <thead>\n",
              "    <tr style=\"text-align: right;\">\n",
              "      <th></th>\n",
              "      <th></th>\n",
              "      <th>sum</th>\n",
              "      <th>mean</th>\n",
              "      <th>count</th>\n",
              "    </tr>\n",
              "    <tr>\n",
              "      <th>sex</th>\n",
              "      <th>policy_term</th>\n",
              "      <th></th>\n",
              "      <th></th>\n",
              "      <th></th>\n",
              "    </tr>\n",
              "  </thead>\n",
              "  <tbody>\n",
              "    <tr>\n",
              "      <th rowspan=\"3\" valign=\"top\">F</th>\n",
              "      <th>10.0</th>\n",
              "      <td>284661000.0</td>\n",
              "      <td>508323.214286</td>\n",
              "      <td>560</td>\n",
              "    </tr>\n",
              "    <tr>\n",
              "      <th>15.0</th>\n",
              "      <td>265194000.0</td>\n",
              "      <td>489287.822878</td>\n",
              "      <td>542</td>\n",
              "    </tr>\n",
              "    <tr>\n",
              "      <th>20.0</th>\n",
              "      <td>296627000.0</td>\n",
              "      <td>507922.945205</td>\n",
              "      <td>584</td>\n",
              "    </tr>\n",
              "    <tr>\n",
              "      <th rowspan=\"3\" valign=\"top\">M</th>\n",
              "      <th>10.0</th>\n",
              "      <td>330525000.0</td>\n",
              "      <td>514836.448598</td>\n",
              "      <td>642</td>\n",
              "    </tr>\n",
              "    <tr>\n",
              "      <th>15.0</th>\n",
              "      <td>274310000.0</td>\n",
              "      <td>518544.423440</td>\n",
              "      <td>529</td>\n",
              "    </tr>\n",
              "    <tr>\n",
              "      <th>20.0</th>\n",
              "      <td>302914000.0</td>\n",
              "      <td>516037.478705</td>\n",
              "      <td>587</td>\n",
              "    </tr>\n",
              "  </tbody>\n",
              "</table>\n",
              "</div>"
            ],
            "text/plain": [
              "                         sum           mean  count\n",
              "sex policy_term                                   \n",
              "F   10.0         284661000.0  508323.214286    560\n",
              "    15.0         265194000.0  489287.822878    542\n",
              "    20.0         296627000.0  507922.945205    584\n",
              "M   10.0         330525000.0  514836.448598    642\n",
              "    15.0         274310000.0  518544.423440    529\n",
              "    20.0         302914000.0  516037.478705    587"
            ]
          },
          "execution_count": 7,
          "metadata": {},
          "output_type": "execute_result"
        }
      ],
      "source": [
        "# We may wish to group by certrain columns and perform aggregations\n",
        "(df\n",
        ".groupby(['sex','policy_term'])\\\n",
        ".sum_assured\\\n",
        ".agg(['sum', 'mean','count']))"
      ]
    },
    {
      "cell_type": "code",
      "execution_count": 8,
      "metadata": {
        "id": "QdD8RQm-CZMz"
      },
      "outputs": [
        {
          "data": {
            "text/html": [
              "<style type=\"text/css\">\n",
              "#T_63819_row0_col0, #T_63819_row1_col0, #T_63819_row2_col0, #T_63819_row2_col1, #T_63819_row3_col0, #T_63819_row4_col0 {\n",
              "  background-color: #f7fbff;\n",
              "  color: #000000;\n",
              "}\n",
              "#T_63819_row0_col1 {\n",
              "  background-color: #2c7cba;\n",
              "  color: #f1f1f1;\n",
              "}\n",
              "#T_63819_row1_col1 {\n",
              "  background-color: #084d96;\n",
              "  color: #f1f1f1;\n",
              "}\n",
              "#T_63819_row3_col1 {\n",
              "  background-color: #08306b;\n",
              "  color: #f1f1f1;\n",
              "}\n",
              "#T_63819_row4_col1 {\n",
              "  background-color: #115ca5;\n",
              "  color: #f1f1f1;\n",
              "}\n",
              "</style>\n",
              "<table id=\"T_63819\">\n",
              "  <thead>\n",
              "    <tr>\n",
              "      <th class=\"blank level0\" >&nbsp;</th>\n",
              "      <th id=\"T_63819_level0_col0\" class=\"col_heading level0 col0\" >age_at_entry</th>\n",
              "      <th id=\"T_63819_level0_col1\" class=\"col_heading level0 col1\" >premium</th>\n",
              "    </tr>\n",
              "  </thead>\n",
              "  <tbody>\n",
              "    <tr>\n",
              "      <th id=\"T_63819_level0_row0\" class=\"row_heading level0 row0\" >5724</th>\n",
              "      <td id=\"T_63819_row0_col0\" class=\"data row0 col0\" >20.000000</td>\n",
              "      <td id=\"T_63819_row0_col1\" class=\"data row0 col1\" >30.491230</td>\n",
              "    </tr>\n",
              "    <tr>\n",
              "      <th id=\"T_63819_level0_row1\" class=\"row_heading level0 row1\" >4157</th>\n",
              "      <td id=\"T_63819_row1_col0\" class=\"data row1 col0\" >20.000000</td>\n",
              "      <td id=\"T_63819_row1_col1\" class=\"data row1 col1\" >36.409983</td>\n",
              "    </tr>\n",
              "    <tr>\n",
              "      <th id=\"T_63819_level0_row2\" class=\"row_heading level0 row2\" >2357</th>\n",
              "      <td id=\"T_63819_row2_col0\" class=\"data row2 col0\" >20.000000</td>\n",
              "      <td id=\"T_63819_row2_col1\" class=\"data row2 col1\" >6.969911</td>\n",
              "    </tr>\n",
              "    <tr>\n",
              "      <th id=\"T_63819_level0_row3\" class=\"row_heading level0 row3\" >3180</th>\n",
              "      <td id=\"T_63819_row3_col0\" class=\"data row3 col0\" >20.000000</td>\n",
              "      <td id=\"T_63819_row3_col1\" class=\"data row3 col1\" >40.155009</td>\n",
              "    </tr>\n",
              "    <tr>\n",
              "      <th id=\"T_63819_level0_row4\" class=\"row_heading level0 row4\" >4969</th>\n",
              "      <td id=\"T_63819_row4_col0\" class=\"data row4 col0\" >20.000000</td>\n",
              "      <td id=\"T_63819_row4_col1\" class=\"data row4 col1\" >34.482472</td>\n",
              "    </tr>\n",
              "  </tbody>\n",
              "</table>\n"
            ],
            "text/plain": [
              "<pandas.io.formats.style.Styler at 0x130333a00>"
            ]
          },
          "execution_count": 8,
          "metadata": {},
          "output_type": "execute_result"
        }
      ],
      "source": [
        "# We may also wish to perform conditional formatting on our dataframe\n",
        "\n",
        "(df.\n",
        " sort_values('age_at_entry').head(5)[['age_at_entry', 'premium']]\\\n",
        ".style\\\n",
        ".background_gradient(\"Blues\"))"
      ]
    },
    {
      "cell_type": "code",
      "execution_count": 9,
      "metadata": {},
      "outputs": [],
      "source": [
        "import pandas as pd\n",
        "import openpyxl\n",
        "\n",
        "def data_frame_from_xlsx(xlsx_file, range_name):\n",
        "    \"\"\" \n",
        "    source: https://stackoverflow.com/questions/20486453/reading-an-excel-named-range-into-a-pandas-dataframe\n",
        "    \n",
        "    Get a single rectangular region from the specified file.\n",
        "    range_name can be a standard Excel reference ('Sheet1!A2:B7') or \n",
        "    refer to a named region ('my_cells').\"\"\"\n",
        "    wb = openpyxl.load_workbook(xlsx_file, data_only=True, read_only=True)\n",
        "    if '!' in range_name:\n",
        "        # passed a worksheet!cell reference\n",
        "        ws_name, reg = range_name.split('!')\n",
        "        if ws_name.startswith(\"'\") and ws_name.endswith(\"'\"):\n",
        "            # optionally strip single quotes around sheet name\n",
        "            ws_name = ws_name[1:-1]\n",
        "        region = wb[ws_name][reg]\n",
        "    else:\n",
        "        # passed a named range; find the cells in the workbook\n",
        "        full_range = wb.get_named_range(range_name)\n",
        "        if full_range is None:\n",
        "            raise ValueError(\n",
        "                'Range \"{}\" not found in workbook \"{}\".'.format(range_name, xlsx_file)\n",
        "            )\n",
        "        # convert to list (openpyxl 2.3 returns a list but 2.4+ returns a generator)\n",
        "        destinations = list(full_range.destinations) \n",
        "        if len(destinations) > 1:\n",
        "            raise ValueError(\n",
        "                'Range \"{}\" in workbook \"{}\" contains more than one region.'\n",
        "                .format(range_name, xlsx_file)\n",
        "            )\n",
        "        ws, reg = destinations[0]\n",
        "        # convert to worksheet object (openpyxl 2.3 returns a worksheet object \n",
        "        # but 2.4+ returns the name of a worksheet)\n",
        "        if isinstance(ws, str):\n",
        "            ws = wb[ws]\n",
        "        region = ws[reg]\n",
        "    # an anonymous user suggested this to catch a single-cell range (untested):\n",
        "    # if not isinstance(region, 'tuple'): df = pd.DataFrame(region.value)\n",
        "    df = pd.DataFrame([cell.value for cell in row] for row in region)\n",
        "    return df"
      ]
    },
    {
      "cell_type": "markdown",
      "metadata": {
        "id": "FnnTMc0luTig"
      },
      "source": [
        "# **3. Make it visual 👀** \n",
        "---\n"
      ]
    },
    {
      "attachments": {},
      "cell_type": "markdown",
      "metadata": {
        "id": "vct36LBila4_"
      },
      "source": [
        "\n",
        "#### **3.0 Section learning objectives** \n",
        "\n",
        ">The purpose of this section is to build upon the previous section; having ingested data, simple visualisation techniques are explored\n",
        ">  * Slice list\n",
        ">  * Basic plotting by looping with `matplotlib.pyplot` & `seaborn`\n",
        ">  * Reduce distinct x-axis values for better visualisation\n",
        ">  * Write & use a basic python function for repeated code\n",
        ">  * Docstrings from own function and from packages\n",
        "  \n",
        "After looking at all available columns, we decide we wish to drop `'model_point'` & `'uuid'`, and thus only focus on columns with index 2 and above."
      ]
    },
    {
      "cell_type": "code",
      "execution_count": 12,
      "metadata": {
        "id": "XwnMYitKfDa4"
      },
      "outputs": [
        {
          "name": "stdout",
          "output_type": "stream",
          "text": [
            "['age_at_entry', 'sex', 'policy_term', 'policy_count', 'sum_assured', 'issue_date', 'payment_freq', 'payment_term', 'premium']\n"
          ]
        }
      ],
      "source": [
        "import matplotlib.pyplot as plt\n",
        "import seaborn as sns\n",
        "sns.set_style(\"whitegrid\")  # Other options: \"darkgrid\", \"white\", \"ticks\", \"dark\"\n",
        "#only focusing on columns with index 2 and above.\n",
        "cols_to_plot = list(df.columns)[2:]\n",
        "print(cols_to_plot)"
      ]
    },
    {
      "cell_type": "code",
      "execution_count": 31,
      "metadata": {},
      "outputs": [],
      "source": [
        "counts = df[cols_to_plot[0]].value_counts().reset_index()"
      ]
    },
    {
      "cell_type": "code",
      "execution_count": 32,
      "metadata": {
        "id": "DZLKhjuxvut0"
      },
      "outputs": [
        {
          "ename": "ValueError",
          "evalue": "Could not interpret input 'index'",
          "output_type": "error",
          "traceback": [
            "\u001b[0;31m---------------------------------------------------------------------------\u001b[0m",
            "\u001b[0;31mValueError\u001b[0m                                Traceback (most recent call last)",
            "Cell \u001b[0;32mIn[32], line 19\u001b[0m\n\u001b[1;32m     16\u001b[0m counts \u001b[39m=\u001b[39m df[col]\u001b[39m.\u001b[39mvalue_counts()\u001b[39m.\u001b[39mreset_index()\n\u001b[1;32m     18\u001b[0m \u001b[39m# Use Seaborn barplot with custom colors\u001b[39;00m\n\u001b[0;32m---> 19\u001b[0m sns\u001b[39m.\u001b[39;49mbarplot(data\u001b[39m=\u001b[39;49mcounts, x\u001b[39m=\u001b[39;49m\u001b[39m'\u001b[39;49m\u001b[39mindex\u001b[39;49m\u001b[39m'\u001b[39;49m, y\u001b[39m=\u001b[39;49mcol, ax\u001b[39m=\u001b[39;49max, palette\u001b[39m=\u001b[39;49m\u001b[39m'\u001b[39;49m\u001b[39mviridis\u001b[39;49m\u001b[39m'\u001b[39;49m)\n\u001b[1;32m     21\u001b[0m \u001b[39m# Chart formatting\u001b[39;00m\n\u001b[1;32m     22\u001b[0m \u001b[39m# Chart title\u001b[39;00m\n\u001b[1;32m     23\u001b[0m ax\u001b[39m.\u001b[39mset_title(col)\n",
            "File \u001b[0;32m~/dev/dstoolkit/.conda/lib/python3.10/site-packages/seaborn/categorical.py:2755\u001b[0m, in \u001b[0;36mbarplot\u001b[0;34m(data, x, y, hue, order, hue_order, estimator, errorbar, n_boot, units, seed, orient, color, palette, saturation, width, errcolor, errwidth, capsize, dodge, ci, ax, **kwargs)\u001b[0m\n\u001b[1;32m   2752\u001b[0m \u001b[39mif\u001b[39;00m estimator \u001b[39mis\u001b[39;00m \u001b[39mlen\u001b[39m:\n\u001b[1;32m   2753\u001b[0m     estimator \u001b[39m=\u001b[39m \u001b[39m\"\u001b[39m\u001b[39msize\u001b[39m\u001b[39m\"\u001b[39m\n\u001b[0;32m-> 2755\u001b[0m plotter \u001b[39m=\u001b[39m _BarPlotter(x, y, hue, data, order, hue_order,\n\u001b[1;32m   2756\u001b[0m                       estimator, errorbar, n_boot, units, seed,\n\u001b[1;32m   2757\u001b[0m                       orient, color, palette, saturation,\n\u001b[1;32m   2758\u001b[0m                       width, errcolor, errwidth, capsize, dodge)\n\u001b[1;32m   2760\u001b[0m \u001b[39mif\u001b[39;00m ax \u001b[39mis\u001b[39;00m \u001b[39mNone\u001b[39;00m:\n\u001b[1;32m   2761\u001b[0m     ax \u001b[39m=\u001b[39m plt\u001b[39m.\u001b[39mgca()\n",
            "File \u001b[0;32m~/dev/dstoolkit/.conda/lib/python3.10/site-packages/seaborn/categorical.py:1530\u001b[0m, in \u001b[0;36m_BarPlotter.__init__\u001b[0;34m(self, x, y, hue, data, order, hue_order, estimator, errorbar, n_boot, units, seed, orient, color, palette, saturation, width, errcolor, errwidth, capsize, dodge)\u001b[0m\n\u001b[1;32m   1525\u001b[0m \u001b[39mdef\u001b[39;00m \u001b[39m__init__\u001b[39m(\u001b[39mself\u001b[39m, x, y, hue, data, order, hue_order,\n\u001b[1;32m   1526\u001b[0m              estimator, errorbar, n_boot, units, seed,\n\u001b[1;32m   1527\u001b[0m              orient, color, palette, saturation, width,\n\u001b[1;32m   1528\u001b[0m              errcolor, errwidth, capsize, dodge):\n\u001b[1;32m   1529\u001b[0m \u001b[39m    \u001b[39m\u001b[39m\"\"\"Initialize the plotter.\"\"\"\u001b[39;00m\n\u001b[0;32m-> 1530\u001b[0m     \u001b[39mself\u001b[39;49m\u001b[39m.\u001b[39;49mestablish_variables(x, y, hue, data, orient,\n\u001b[1;32m   1531\u001b[0m                              order, hue_order, units)\n\u001b[1;32m   1532\u001b[0m     \u001b[39mself\u001b[39m\u001b[39m.\u001b[39mestablish_colors(color, palette, saturation)\n\u001b[1;32m   1533\u001b[0m     \u001b[39mself\u001b[39m\u001b[39m.\u001b[39mestimate_statistic(estimator, errorbar, n_boot, seed)\n",
            "File \u001b[0;32m~/dev/dstoolkit/.conda/lib/python3.10/site-packages/seaborn/categorical.py:541\u001b[0m, in \u001b[0;36m_CategoricalPlotter.establish_variables\u001b[0;34m(self, x, y, hue, data, orient, order, hue_order, units)\u001b[0m\n\u001b[1;32m    539\u001b[0m     \u001b[39mif\u001b[39;00m \u001b[39misinstance\u001b[39m(var, \u001b[39mstr\u001b[39m):\n\u001b[1;32m    540\u001b[0m         err \u001b[39m=\u001b[39m \u001b[39mf\u001b[39m\u001b[39m\"\u001b[39m\u001b[39mCould not interpret input \u001b[39m\u001b[39m'\u001b[39m\u001b[39m{\u001b[39;00mvar\u001b[39m}\u001b[39;00m\u001b[39m'\u001b[39m\u001b[39m\"\u001b[39m\n\u001b[0;32m--> 541\u001b[0m         \u001b[39mraise\u001b[39;00m \u001b[39mValueError\u001b[39;00m(err)\n\u001b[1;32m    543\u001b[0m \u001b[39m# Figure out the plotting orientation\u001b[39;00m\n\u001b[1;32m    544\u001b[0m orient \u001b[39m=\u001b[39m infer_orient(\n\u001b[1;32m    545\u001b[0m     x, y, orient, require_numeric\u001b[39m=\u001b[39m\u001b[39mself\u001b[39m\u001b[39m.\u001b[39mrequire_numeric\n\u001b[1;32m    546\u001b[0m )\n",
            "\u001b[0;31mValueError\u001b[0m: Could not interpret input 'index'"
          ]
        },
        {
          "data": {
            "image/png": "[encoded data removed]",
            "text/plain": [
              "<Figure size 1500x1200 with 10 Axes>"
            ]
          },
          "metadata": {},
          "output_type": "display_data"
        }
      ],
      "source": [
        "import seaborn as sns\n",
        "import matplotlib.pyplot as plt\n",
        "\n",
        "# Set a Seaborn style=\"white\", \"dark\", \"whitegrid\", \"darkgrid\", \"ticks\"\n",
        "sns.set(style=\"darkgrid\", font_scale=1.1)\n",
        "\n",
        "# Define subplot grid\n",
        "fig, axs = plt.subplots(nrows=int(len(cols_to_plot) / 2) + 1, ncols=2, figsize=(15, 12))\n",
        "\n",
        "# Set figure title\n",
        "fig.suptitle(\"Examining df... take 1\", fontsize=18, y=0.95)\n",
        "\n",
        "# Loop through cols_to_plot\n",
        "for col, ax in zip(cols_to_plot, axs.ravel()):\n",
        "    # Getting an idea of the distribution by counting values\n",
        "    counts = df[col].value_counts().reset_index()\n",
        "    \n",
        "    # Use Seaborn barplot with custom colors\n",
        "    sns.barplot(data=counts, x='index', y=col, ax=ax, palette='viridis')\n",
        "\n",
        "    # Chart formatting\n",
        "    # Chart title\n",
        "    ax.set_title(col)\n",
        "    # Chart y label\n",
        "    ax.set_ylabel(\"count\")\n",
        "    # Chart x label\n",
        "    ax.set_xlabel(\"value\")\n",
        "\n",
        "plt.tight_layout()\n",
        "plt.show()\n"
      ]
    },
    {
      "cell_type": "markdown",
      "metadata": {
        "id": "TXHmCR8SQysu"
      },
      "source": [
        "We can see that for `issue_date, sum_assured, premium` there are too many values we are counting by, and thus we struggle to see what is happening. \n",
        "\n",
        "We will create new variables that aggregate these columns for fewer values and replace those columns in our `cols_to_plot` list. \n"
      ]
    },
    {
      "cell_type": "code",
      "execution_count": 19,
      "metadata": {
        "id": "Xkzy0vVDS6Kx"
      },
      "outputs": [
        {
          "name": "stdout",
          "output_type": "stream",
          "text": [
            "For `issue_date_month`, we previously had 2735 unique values; now we have 276 \n"
          ]
        }
      ],
      "source": [
        "df['issue_date_month'] = df['issue_date'].dt.to_period('M')\n",
        "\n",
        "print(f\"For `issue_date_month`, we previously had {df['issue_date'].nunique() } unique values; now we have {df['issue_date_month'].nunique() } \")"
      ]
    },
    {
      "cell_type": "code",
      "execution_count": 14,
      "metadata": {
        "id": "WnTHYhATg88S"
      },
      "outputs": [
        {
          "name": "stdout",
          "output_type": "stream",
          "text": [
            "For `sum_assured`, we previously had 952 unique values; now we have 9 \n"
          ]
        }
      ],
      "source": [
        "# using list comprehension to creat bins\n",
        "bins = [(df['sum_assured'].max())*(i/10) for i in range(1,11)]\n",
        "df['sum_assured_binned'] = pd.cut(df['sum_assured'], bins)\n",
        "print(f\"For `sum_assured`, we previously had {df['sum_assured'].nunique() } unique values; now we have {df['sum_assured_binned'].nunique() } \")"
      ]
    },
    {
      "cell_type": "code",
      "execution_count": 15,
      "metadata": {
        "id": "jkNjyieDkj1-"
      },
      "outputs": [
        {
          "name": "stdout",
          "output_type": "stream",
          "text": [
            "For `premium`, we previously had 3389 unique values; now we have 9 \n"
          ]
        }
      ],
      "source": [
        "# using list comprehension to creat bins\n",
        "bins = [(df['premium'].max())*(i/10) for i in range(1,11)]\n",
        "df['premium_binned'] = pd.cut(df['premium'], bins)\n",
        "print(f\"For `premium`, we previously had {df['premium'].nunique() } unique values; now we have {df['premium_binned'].nunique() } \")"
      ]
    },
    {
      "cell_type": "code",
      "execution_count": null,
      "metadata": {
        "id": "ooD957bDmVba"
      },
      "outputs": [],
      "source": [
        "# we make a dictionary to change items in our cols_to_plot list\n",
        "rename_dict = dict()\n",
        "for i in cols_to_plot:\n",
        "  rename_dict.update({i:i})\n",
        "rename_dict[\"issue_month\"] = \"issue_month_month\"\n",
        "rename_dict[\"sum_assured\"] = \"sum_assured_binned\"\n",
        "rename_dict[\"premium\"] = \"premium_binned\"\n",
        "\n",
        "# now we map rename_dict to cols_to_plot \n",
        "cols_to_plot = [*map(rename_dict.get, cols_to_plot)]\n",
        "print(f\"We're going to plot these columns \\n {cols_to_plot}\")"
      ]
    },
    {
      "cell_type": "code",
      "execution_count": 17,
      "metadata": {},
      "outputs": [],
      "source": [
        "import pandas as pd\n",
        "from typing import Union\n",
        "\n",
        "def bin_values(data: pd.Series, num_bins: int) -> Union[pd.Series, None]:\n",
        "    \"\"\"\n",
        "    Bin the values in a pandas Series if there are too many unique values to display.\n",
        "\n",
        "    Parameters:\n",
        "    data (pd.Series): The pandas Series containing the values to bin.\n",
        "    num_bins (int): The number of bins to use if binning is necessary.\n",
        "\n",
        "    Returns:\n",
        "    pd.Series or None: The binned values as a pandas Series, or None if binning is not necessary.\n",
        "    \"\"\"\n",
        "\n",
        "    # Get the number of unique values in the Series\n",
        "    num_unique = len(data.unique())\n",
        "\n",
        "    # Bin the values if there are too many to display\n",
        "    if num_unique > 10:\n",
        "        bins = pd.qcut(data, q=num_bins, precision=0)\n",
        "        counts = bins.value_counts().sort_index().reset_index()\n",
        "        counts['index'] = counts['index'].astype(str)\n",
        "        return counts.set_index('index')[data.name]\n",
        "    else:\n",
        "        return None"
      ]
    },
    {
      "cell_type": "markdown",
      "metadata": {
        "id": "imRUnmP8ohZ6"
      },
      "source": [
        "Now that we have updated `cols_to_plot` we will turn our plot commands into a function. Note the description (known as a Doc String) which outlines the detail of inputs and outputs. This will appear if you say `help(function_name)`\n",
        "\n",
        "Notebooks are messy and often used for ad-hoc investigations. In a production environment we would want to turn all our commands into neat functions. "
      ]
    },
    {
      "cell_type": "code",
      "execution_count": 40,
      "metadata": {
        "id": "vNmb4VfHpIg8"
      },
      "outputs": [],
      "source": [
        "import seaborn as sns\n",
        "import matplotlib.pyplot as plt\n",
        "from typing import List\n",
        "\n",
        "def plot_distribution(df: pd.DataFrame, cols_to_plot: List[str], style: str = 'whitegrid', palette: str = 'viridis'):\n",
        "    \"\"\"\n",
        "    Plot the distribution of the specified columns in a DataFrame using Seaborn's barplot.\n",
        "\n",
        "    Parameters:\n",
        "    df (pd.DataFrame): The DataFrame containing the columns to plot\n",
        "    cols_to_plot (list): A list of column names to plot\n",
        "    style (str): The Seaborn style to use for the plot. Options: \"darkgrid\", \"whitegrid\", \"dark\", \"white\", \"ticks\"\n",
        "    palette (str): The color palette to use for the plot. Options: \"deep\", \"muted\", \"pastel\", \"bright\", \"dark\", \"colorblind\", \"viridis\", \"inferno\", \"plasma\", \"magma\", \"cividis\"\n",
        "\n",
        "    Returns:\n",
        "    None\n",
        "    \"\"\"\n",
        "\n",
        "    # Set the Seaborn style\n",
        "    sns.set(style=style, font_scale=1.1)\n",
        "\n",
        "    # Define the subplot grid\n",
        "    fig, axs = plt.subplots(nrows=int(len(cols_to_plot) / 2) + 1, ncols=2, figsize=(15, 12))\n",
        "\n",
        "    # Set the figure title\n",
        "    fig.suptitle(\"Examining df... take 1\", fontsize=18, y=0.95)\n",
        "\n",
        "    # Loop through the specified columns to plot\n",
        "    for col, ax in zip(cols_to_plot, axs.ravel()):\n",
        "        # Plot the bar chart with the specified palette\n",
        "        sns.barplot(data=counts, x='index', y=col, ax=ax, palette=palette)\n",
        "\n",
        "        # Set the x-axis tick labels and rotation\n",
        "        ax.tick_params(axis='x', rotation=90)\n",
        "        ax.xaxis.set_major_formatter(plt.FuncFormatter(lambda x, _: '{:.2f}'.format(x)))\n",
        "\n",
        "        # Set the chart title, x-label, and y-label\n",
        "        ax.set_title(col)\n",
        "        ax.set_xlabel(\"Value\")\n",
        "        ax.set_ylabel(\"Count\")\n",
        "\n",
        "    # Adjust the subplot layout with more space between subplots\n",
        "    plt.subplots_adjust(wspace=0.5, hspace=1.2)\n",
        "\n",
        "    # Show the plot\n",
        "    plt.show()\n"
      ]
    },
    {
      "cell_type": "markdown",
      "metadata": {
        "id": "Q4XGexEMsELO"
      },
      "source": [
        "Examining our doc string"
      ]
    },
    {
      "cell_type": "code",
      "execution_count": null,
      "metadata": {
        "id": "JzAK6lgVqXGE"
      },
      "outputs": [],
      "source": [
        "help(plot_distribution)"
      ]
    },
    {
      "cell_type": "markdown",
      "metadata": {
        "id": "VVK1ImPxs3b4"
      },
      "source": [
        "Importantly, this will provide in-context help for any function importanted from a package. "
      ]
    },
    {
      "cell_type": "code",
      "execution_count": null,
      "metadata": {
        "id": "e8d__9pUtGaK"
      },
      "outputs": [],
      "source": [
        "help(pd.Categorical)"
      ]
    },
    {
      "cell_type": "markdown",
      "metadata": {
        "id": "v12W-dXztknj"
      },
      "source": [
        "Now running our function"
      ]
    },
    {
      "cell_type": "code",
      "execution_count": 39,
      "metadata": {
        "id": "Fqxf3GqfYzei"
      },
      "outputs": [
        {
          "data": {
            "image/png": "[encoded data removed]",
            "text/plain": [
              "<Figure size 1500x1200 with 10 Axes>"
            ]
          },
          "metadata": {},
          "output_type": "display_data"
        }
      ],
      "source": [
        "# Executing our function\n",
        "plot_distribution(df, cols_to_plot)"
      ]
    },
    {
      "cell_type": "markdown",
      "metadata": {
        "id": "VsLqWeDWVMcO"
      },
      "source": [
        "# **4. A taste of cutting edge AI**  🦾🤖\n",
        "---\n"
      ]
    },
    {
      "cell_type": "markdown",
      "metadata": {
        "id": "0hN7X2FMuiJ3"
      },
      "source": [
        "#### 4.0 **Section learning objectives** \n",
        ">This section tries to bring some basic NLP (natural language processing) processing from `huggingface` into our workflow. \n",
        "* Brief introduction to `huggingface`\n",
        "* Live demo of whisper\n",
        "* Sentiment analysis of free-text\n",
        "* `pd` feature: merge \n",
        "* `pd` feature: pivot \n",
        "* `pd` feature: Write Excel output\n",
        "\n",
        "Within AI, in the last few years, language models have improved dramatically. This is due to a sequence based model called the [Transformer](https://www.youtube.com/watch?v=SZorAJ4I-sA). If you have heard of *Chat GPT*, the \"T\" in \"GPT\" is for Transformer!\n",
        "\n",
        "[`huggingface`](https://huggingface.co/) 🤗, rose to populatity from their `transformers` package. However, since their inception they have built a cutting-edge community, with lots of open-source models that are shared and freely available. [Huggingface spaces](https://huggingface.co/?recent=update-space) allows one to explore and run these models in a browser. Importantly, there are lots of [educational materials](https://huggingface.co/course/) that one can use to upskill.\n",
        "\n"
      ]
    },
    {
      "cell_type": "code",
      "execution_count": 16,
      "metadata": {
        "id": "TXwdC05hBLcR"
      },
      "outputs": [
        {
          "name": "stdout",
          "output_type": "stream",
          "text": [
            "\n",
            "\u001b[1m[\u001b[0m\u001b[34;49mnotice\u001b[0m\u001b[1;39;49m]\u001b[0m\u001b[39;49m A new release of pip available: \u001b[0m\u001b[31;49m22.2.2\u001b[0m\u001b[39;49m -> \u001b[0m\u001b[32;49m23.0.1\u001b[0m\n",
            "\u001b[1m[\u001b[0m\u001b[34;49mnotice\u001b[0m\u001b[1;39;49m]\u001b[0m\u001b[39;49m To update, run: \u001b[0m\u001b[32;49mpython3.10 -m pip install --upgrade pip\u001b[0m\n"
          ]
        }
      ],
      "source": [
        "# bash script (!)\n",
        "! pip install -q transformers ipywebrtc"
      ]
    },
    {
      "cell_type": "markdown",
      "metadata": {
        "id": "LEW0u9-1Yvcm"
      },
      "source": [
        "We will use Open AI's [Whisper](https://huggingface.co/openai/whisper-base.en), a high capable automatic speech recongition model."
      ]
    },
    {
      "cell_type": "code",
      "execution_count": null,
      "metadata": {
        "id": "WUOrfaKLBQKP"
      },
      "outputs": [],
      "source": [
        "# importing necessary packages\n",
        "import librosa # for audio processing\n",
        "import torch # for AI\n",
        "import torchaudio # for AI audio processing\n",
        "from transformers import WhisperTokenizer # for tokenizing inputs\n",
        "from ipywebrtc import AudioRecorder, CameraStream # for recording audio\n",
        "\n",
        "from IPython.display import Audio # for playing audio\n",
        "\n",
        "\n",
        "# as mentioned, modern AI requires a Graphic Processing Unit (GPU)\n",
        "# we set the device we will run on based on whether a GPU is available\n",
        "# cuda is a software layer, allowing us to control the GPU\n",
        "device = \"cuda:0\" if torch.cuda.is_available() else \"cpu\"\n",
        "\n",
        "# Create a pipeline for speech recognition\n",
        "# using the Whisper model, with a chunk length of 1 second\n",
        "# and the device specified above.\n",
        "pipe = pipeline(\n",
        "  \"automatic-speech-recognition\",\n",
        "  model=\"openai/whisper-base.en\",\n",
        "  chunk_length_s=1,\n",
        "  device=device,\n",
        ")"
      ]
    },
    {
      "cell_type": "code",
      "execution_count": null,
      "metadata": {
        "id": "d0EkcKA8B5wL"
      },
      "outputs": [],
      "source": [
        "# Create a camera stream with audio enabled\n",
        "camera = CameraStream(constraints={'audio': True,'video':False})\n",
        "\n",
        "# Create a recorder instance and pass it the camera stream\n",
        "recorder = AudioRecorder(stream=camera)\n",
        "\n",
        "# Enable the custom widget manager\n",
        "from google.colab import output\n",
        "output.enable_custom_widget_manager()\n",
        "\n",
        "# Display the recorder widget\n",
        "recorder"
      ]
    },
    {
      "cell_type": "code",
      "execution_count": null,
      "metadata": {
        "id": "7WxKFX11C4HM"
      },
      "outputs": [],
      "source": [
        "# record phrase\n",
        "with open('recording.webm', 'wb') as f:\n",
        "    f.write(recorder.audio.value)\n",
        "# convert to wav\n",
        "!ffmpeg -i recording.webm -ac 1 -f wav recording.wav -y -hide_banner -loglevel panic\n",
        "# load wav\n",
        "sig, sr = torchaudio.load(\"recording.wav\")\n",
        "print(sig.shape)\n",
        "# play wav\n",
        "Audio(data=sig, rate=sr)"
      ]
    },
    {
      "cell_type": "code",
      "execution_count": null,
      "metadata": {
        "id": "UeFdgpNWBUec"
      },
      "outputs": [],
      "source": [
        "#load audio file we just recorded\n",
        "speech, rate = librosa.load(\"recording.wav\",sr=16000)"
      ]
    },
    {
      "cell_type": "markdown",
      "metadata": {
        "id": "duteC7l3ImX4"
      },
      "source": [
        "`#TODO`\n",
        "* create second data source of *Underwriter text comments*, where only some `uuid` values match `model_point` so that `merge` is needed to extract relevant items called `underwrite.csv`\n",
        "* Perform Sentiment analysis with appopriate `huggingface` model\n",
        "* Give discount to policies with positive underwriter sentiment"
      ]
    },
    {
      "attachments": {},
      "cell_type": "markdown",
      "metadata": {},
      "source": [
        "Now let's say we wanted to perform a task other that `automatic-speech-recognition`"
      ]
    },
    {
      "cell_type": "code",
      "execution_count": null,
      "metadata": {},
      "outputs": [],
      "source": [
        "pipe_sentiment = pipeline(\"text-classification\")\n",
        "pipe_sentiment([\"This restaurant is awesome\",\"This restaurant is awful\"])"
      ]
    },
    {
      "attachments": {},
      "cell_type": "markdown",
      "metadata": {},
      "source": [
        "What about GPT, can we access that?"
      ]
    },
    {
      "cell_type": "code",
      "execution_count": null,
      "metadata": {},
      "outputs": [],
      "source": [
        "generator = pipeline('text-generation', model='openai-gpt')\n",
        "generator(\"Hello, I'm a language model\", max_length=30, num_return_sequences=5)"
      ]
    },
    {
      "attachments": {},
      "cell_type": "markdown",
      "metadata": {
        "id": "XrMqkzY-Kb1N"
      },
      "source": [
        "# **5. Additional Resources**  📓\n",
        "---"
      ]
    },
    {
      "attachments": {},
      "cell_type": "markdown",
      "metadata": {
        "id": "xLdM7OeHSC-Z"
      },
      "source": [
        "* VSCode is a popular Interactive Development Environment (IDE). It makes working with code **much** easier. In addition, their [developer training material](https://code.visualstudio.com/docs/introvideos/basics) is a great place to learn practical software development skills.\n",
        "\n",
        "* [GitHub Copilot](https://www.youtube.com/watch?v=Fi3AJZZregI) is effectively auto-complete for code. It is a transformer model applied to code and is an incredibly powerful tool. It can even [answer questions](https://www.youtube.com/watch?v=gRNo_JOl-9g).\n",
        "\n",
        "* [How to survive the AI revolution](https://www.youtube.com/watch?v=oak1CqqIzug), Stanford Graduate School of Business professors' arguement that AI is not a competitor, it as a **collaborator**.\n",
        "\n",
        "* [Swiss Association of Actuaries Data Science initiative](https://www.actuarialdatascience.org/), seems to be the most mature data science effort by any actuarial society.\n",
        "\n",
        "* Prof Marcos Lopez de Prado lectures on [Advances in Fiancial Machine Learning](https://quantresearch.org/Lectures.htm), academic materials for Cornell University's **ORIE 5256 course**. \n",
        "\n",
        "* A curated list of [free and open source actuarial software](https://github.com/genedan/actuarial-foss).\n",
        "\n",
        "* [fast.ai](https://www.fast.ai/), a course and python `fastai` package for practical, results-driven deep learning.\n",
        "\n",
        "* [Distil](https://distill.pub/), interactive articles about technical machine learning & AI.\n",
        "\n",
        "![Alt Text](https://media.tenor.com/oFO9mCbbj98AAAAC/rocket-lift-off.gif)"
      ]
    },
    {
      "cell_type": "markdown",
      "metadata": {},
      "source": []
    }
  ],
  "metadata": {
    "colab": {
      "private_outputs": true,
      "provenance": []
    },
    "kernelspec": {
      "display_name": "Python 3",
      "language": "python",
      "name": "python3"
    },
    "language_info": {
      "codemirror_mode": {
        "name": "ipython",
        "version": 3
      },
      "file_extension": ".py",
      "mimetype": "text/x-python",
      "name": "python",
      "nbconvert_exporter": "python",
      "pygments_lexer": "ipython3",
      "version": "3.8.16"
    },
    "vscode": {
      "interpreter": {
        "hash": "f6d9bc0a9092f2a46cbf7759509c214af57f5c4436f9f797145ab10897d6cd07"
      }
    }
  },
  "nbformat": 4,
  "nbformat_minor": 0
}
