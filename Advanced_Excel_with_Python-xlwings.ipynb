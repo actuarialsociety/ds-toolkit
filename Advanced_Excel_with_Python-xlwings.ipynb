{
 "cells": [
  {
   "cell_type": "code",
   "execution_count": 71,
   "metadata": {},
   "outputs": [
    {
     "name": "stdout",
     "output_type": "stream",
     "text": [
      "Note: you may need to restart the kernel to use updated packages.\n"
     ]
    }
   ],
   "source": [
    "%pip install openpyxl appscript psutil xlwings -q"
   ]
  },
  {
   "attachments": {},
   "cell_type": "markdown",
   "metadata": {},
   "source": [
    "### [Syntax Overview](https://docs.xlwings.org/en/latest/syntax_overview.html)"
   ]
  },
  {
   "cell_type": "code",
   "execution_count": 72,
   "metadata": {},
   "outputs": [
    {
     "data": {
      "text/plain": [
       "<App [excel] 1456>"
      ]
     },
     "execution_count": 72,
     "metadata": {},
     "output_type": "execute_result"
    }
   ],
   "source": [
    "import xlwings as xw\n",
    "# Active app (i.e. Excel instance)\n",
    "app = xw.apps.active\n",
    "app\n"
   ]
  },
  {
   "cell_type": "code",
   "execution_count": 73,
   "metadata": {},
   "outputs": [],
   "source": [
    "#!TODO The object you are trying to access does not exist\n",
    "# Active book\n",
    "wb = xw.books.active  # in active app\n",
    "#wb"
   ]
  },
  {
   "cell_type": "code",
   "execution_count": 52,
   "metadata": {},
   "outputs": [],
   "source": [
    "#TODO The object you are trying to access does not exist\n",
    "#wb = app.books.active  # in specific app\n",
    "#wb"
   ]
  },
  {
   "cell_type": "code",
   "execution_count": 53,
   "metadata": {},
   "outputs": [],
   "source": [
    "#TODO The object you are trying to access does not exist\n",
    "# Active sheet\n",
    "#sheet = xw.sheets.active  # in active book\n",
    "#sheet"
   ]
  },
  {
   "cell_type": "code",
   "execution_count": 74,
   "metadata": {},
   "outputs": [],
   "source": [
    "# import necessary packages\n",
    "import numpy as np\n",
    "import pandas as pd\n",
    "import xlwings as xw\n",
    "\n",
    "# path to data we just downloaded\n",
    "# if you are interested in how modelpoints were created,\n",
    "# check out the `generating_modelpoints.ipynb` file in the repo\n",
    "DATA_XLS = \"./dstoolkit/model_point.xlsx\"\n",
    "\n",
    "# ingesting our data into a dataframe (df)\n",
    "\n",
    "\n",
    "# Open workbook in < Interactve Mode >\n",
    "#new = xw.Book()\n",
    "wb = xw.Book(DATA_XLS) # connect to a file that is open or in the current working directory"
   ]
  },
  {
   "cell_type": "code",
   "execution_count": 75,
   "metadata": {},
   "outputs": [
    {
     "data": {
      "text/plain": [
       "<Book [model_point.xlsx]>"
      ]
     },
     "execution_count": 75,
     "metadata": {},
     "output_type": "execute_result"
    }
   ],
   "source": [
    "wb"
   ]
  },
  {
   "cell_type": "code",
   "execution_count": 76,
   "metadata": {},
   "outputs": [
    {
     "data": {
      "text/plain": [
       "Sheets([<Sheet [model_point.xlsx]Sheet1>])"
      ]
     },
     "execution_count": 76,
     "metadata": {},
     "output_type": "execute_result"
    }
   ],
   "source": [
    "wb.sheets\n"
   ]
  },
  {
   "attachments": {},
   "cell_type": "markdown",
   "metadata": {},
   "source": [
    "### Selecting a named range `model_point` in `wb.sheets[0]`"
   ]
  },
  {
   "cell_type": "code",
   "execution_count": 78,
   "metadata": {},
   "outputs": [
    {
     "data": {
      "text/html": [
       "<div>\n",
       "<style scoped>\n",
       "    .dataframe tbody tr th:only-of-type {\n",
       "        vertical-align: middle;\n",
       "    }\n",
       "\n",
       "    .dataframe tbody tr th {\n",
       "        vertical-align: top;\n",
       "    }\n",
       "\n",
       "    .dataframe thead th {\n",
       "        text-align: right;\n",
       "    }\n",
       "</style>\n",
       "<table border=\"1\" class=\"dataframe\">\n",
       "  <thead>\n",
       "    <tr style=\"text-align: right;\">\n",
       "      <th></th>\n",
       "      <th>policy_id</th>\n",
       "      <th>UUid</th>\n",
       "      <th>Age At Entry</th>\n",
       "      <th>Sex</th>\n",
       "      <th>Policy Term</th>\n",
       "      <th>Policy Count</th>\n",
       "      <th>Sum Assured</th>\n",
       "      <th>Issue date</th>\n",
       "      <th>Payment freq</th>\n",
       "      <th>Payment_term</th>\n",
       "      <th>Premium</th>\n",
       "    </tr>\n",
       "  </thead>\n",
       "  <tbody>\n",
       "    <tr>\n",
       "      <th>0</th>\n",
       "      <td>1.0</td>\n",
       "      <td>ee7602f8-c0ef-11ed-9035-0242ac1c000c</td>\n",
       "      <td>47.0</td>\n",
       "      <td>M</td>\n",
       "      <td>10.0</td>\n",
       "      <td>86.0</td>\n",
       "      <td>622000.0</td>\n",
       "      <td>2021-12-15</td>\n",
       "      <td>1.0</td>\n",
       "      <td>5.0</td>\n",
       "      <td>NaN</td>\n",
       "    </tr>\n",
       "    <tr>\n",
       "      <th>1</th>\n",
       "      <td>2.0</td>\n",
       "      <td>ee7604c4-c0ef-11ed-9035-0242ac1c000c</td>\n",
       "      <td>29.0</td>\n",
       "      <td>M</td>\n",
       "      <td>20.0</td>\n",
       "      <td>56.0</td>\n",
       "      <td>752000.0</td>\n",
       "      <td>2004-07-02</td>\n",
       "      <td>2.0</td>\n",
       "      <td>NaN</td>\n",
       "      <td>61.139589</td>\n",
       "    </tr>\n",
       "    <tr>\n",
       "      <th>2</th>\n",
       "      <td>3.0</td>\n",
       "      <td>ee76055a-c0ef-11ed-9035-0242ac1c000c</td>\n",
       "      <td>51.0</td>\n",
       "      <td>F</td>\n",
       "      <td>NaN</td>\n",
       "      <td>83.0</td>\n",
       "      <td>799000.0</td>\n",
       "      <td>2020-10-02</td>\n",
       "      <td>12.0</td>\n",
       "      <td>10.0</td>\n",
       "      <td>158.651775</td>\n",
       "    </tr>\n",
       "    <tr>\n",
       "      <th>3</th>\n",
       "      <td>4.0</td>\n",
       "      <td>ee7605d2-c0ef-11ed-9035-0242ac1c000c</td>\n",
       "      <td>32.0</td>\n",
       "      <td>F</td>\n",
       "      <td>20.0</td>\n",
       "      <td>72.0</td>\n",
       "      <td>422000.0</td>\n",
       "      <td>2011-08-05</td>\n",
       "      <td>1.0</td>\n",
       "      <td>10.0</td>\n",
       "      <td>39.517808</td>\n",
       "    </tr>\n",
       "    <tr>\n",
       "      <th>4</th>\n",
       "      <td>5.0</td>\n",
       "      <td>ee760640-c0ef-11ed-9035-0242ac1c000c</td>\n",
       "      <td>28.0</td>\n",
       "      <td>M</td>\n",
       "      <td>15.0</td>\n",
       "      <td>99.0</td>\n",
       "      <td>605000.0</td>\n",
       "      <td>2017-05-22</td>\n",
       "      <td>NaN</td>\n",
       "      <td>10.0</td>\n",
       "      <td>41.458442</td>\n",
       "    </tr>\n",
       "    <tr>\n",
       "      <th>...</th>\n",
       "      <td>...</td>\n",
       "      <td>...</td>\n",
       "      <td>...</td>\n",
       "      <td>...</td>\n",
       "      <td>...</td>\n",
       "      <td>...</td>\n",
       "      <td>...</td>\n",
       "      <td>...</td>\n",
       "      <td>...</td>\n",
       "      <td>...</td>\n",
       "      <td>...</td>\n",
       "    </tr>\n",
       "    <tr>\n",
       "      <th>9995</th>\n",
       "      <td>9996.0</td>\n",
       "      <td>ee887c26-c0ef-11ed-9035-0242ac1c000c</td>\n",
       "      <td>47.0</td>\n",
       "      <td>None</td>\n",
       "      <td>20.0</td>\n",
       "      <td>25.0</td>\n",
       "      <td>827000.0</td>\n",
       "      <td>2008-12-01</td>\n",
       "      <td>1.0</td>\n",
       "      <td>10.0</td>\n",
       "      <td>191.420371</td>\n",
       "    </tr>\n",
       "    <tr>\n",
       "      <th>9996</th>\n",
       "      <td>9997.0</td>\n",
       "      <td>ee887ca8-c0ef-11ed-9035-0242ac1c000c</td>\n",
       "      <td>30.0</td>\n",
       "      <td>M</td>\n",
       "      <td>15.0</td>\n",
       "      <td>81.0</td>\n",
       "      <td>826000.0</td>\n",
       "      <td>2008-01-13</td>\n",
       "      <td>1.0</td>\n",
       "      <td>15.0</td>\n",
       "      <td>NaN</td>\n",
       "    </tr>\n",
       "    <tr>\n",
       "      <th>9997</th>\n",
       "      <td>9998.0</td>\n",
       "      <td>ee887d34-c0ef-11ed-9035-0242ac1c000c</td>\n",
       "      <td>45.0</td>\n",
       "      <td>F</td>\n",
       "      <td>20.0</td>\n",
       "      <td>10.0</td>\n",
       "      <td>NaN</td>\n",
       "      <td>2009-11-07</td>\n",
       "      <td>2.0</td>\n",
       "      <td>10.0</td>\n",
       "      <td>NaN</td>\n",
       "    </tr>\n",
       "    <tr>\n",
       "      <th>9998</th>\n",
       "      <td>9999.0</td>\n",
       "      <td>ee887dca-c0ef-11ed-9035-0242ac1c000c</td>\n",
       "      <td>39.0</td>\n",
       "      <td>M</td>\n",
       "      <td>20.0</td>\n",
       "      <td>9.0</td>\n",
       "      <td>302000.0</td>\n",
       "      <td>2021-01-22</td>\n",
       "      <td>12.0</td>\n",
       "      <td>10.0</td>\n",
       "      <td>41.381991</td>\n",
       "    </tr>\n",
       "    <tr>\n",
       "      <th>9999</th>\n",
       "      <td>10000.0</td>\n",
       "      <td>None</td>\n",
       "      <td>22.0</td>\n",
       "      <td>F</td>\n",
       "      <td>15.0</td>\n",
       "      <td>18.0</td>\n",
       "      <td>576000.0</td>\n",
       "      <td>2008-03-16</td>\n",
       "      <td>2.0</td>\n",
       "      <td>10.0</td>\n",
       "      <td>31.841899</td>\n",
       "    </tr>\n",
       "  </tbody>\n",
       "</table>\n",
       "<p>10000 rows × 11 columns</p>\n",
       "</div>"
      ],
      "text/plain": [
       "      policy_id                                 UUid   Age At Entry  Sex   \\\n",
       "0           1.0  ee7602f8-c0ef-11ed-9035-0242ac1c000c          47.0     M   \n",
       "1           2.0  ee7604c4-c0ef-11ed-9035-0242ac1c000c          29.0     M   \n",
       "2           3.0  ee76055a-c0ef-11ed-9035-0242ac1c000c          51.0     F   \n",
       "3           4.0  ee7605d2-c0ef-11ed-9035-0242ac1c000c          32.0     F   \n",
       "4           5.0  ee760640-c0ef-11ed-9035-0242ac1c000c          28.0     M   \n",
       "...         ...                                   ...           ...   ...   \n",
       "9995     9996.0  ee887c26-c0ef-11ed-9035-0242ac1c000c          47.0  None   \n",
       "9996     9997.0  ee887ca8-c0ef-11ed-9035-0242ac1c000c          30.0     M   \n",
       "9997     9998.0  ee887d34-c0ef-11ed-9035-0242ac1c000c          45.0     F   \n",
       "9998     9999.0  ee887dca-c0ef-11ed-9035-0242ac1c000c          39.0     M   \n",
       "9999    10000.0                                  None          22.0     F   \n",
       "\n",
       "      Policy Term    Policy Count  Sum Assured  Issue date  Payment freq  \\\n",
       "0              10.0          86.0      622000.0 2021-12-15           1.0   \n",
       "1              20.0          56.0      752000.0 2004-07-02           2.0   \n",
       "2               NaN          83.0      799000.0 2020-10-02          12.0   \n",
       "3              20.0          72.0      422000.0 2011-08-05           1.0   \n",
       "4              15.0          99.0      605000.0 2017-05-22           NaN   \n",
       "...             ...           ...           ...        ...           ...   \n",
       "9995           20.0          25.0      827000.0 2008-12-01           1.0   \n",
       "9996           15.0          81.0      826000.0 2008-01-13           1.0   \n",
       "9997           20.0          10.0           NaN 2009-11-07           2.0   \n",
       "9998           20.0           9.0      302000.0 2021-01-22          12.0   \n",
       "9999           15.0          18.0      576000.0 2008-03-16           2.0   \n",
       "\n",
       "      Payment_term     Premium  \n",
       "0              5.0         NaN  \n",
       "1              NaN   61.139589  \n",
       "2             10.0  158.651775  \n",
       "3             10.0   39.517808  \n",
       "4             10.0   41.458442  \n",
       "...            ...         ...  \n",
       "9995          10.0  191.420371  \n",
       "9996          15.0         NaN  \n",
       "9997          10.0         NaN  \n",
       "9998          10.0   41.381991  \n",
       "9999          10.0   31.841899  \n",
       "\n",
       "[10000 rows x 11 columns]"
      ]
     },
     "execution_count": 78,
     "metadata": {},
     "output_type": "execute_result"
    }
   ],
   "source": [
    "wb.sheets[0].range('model_point').options(pd.DataFrame, index=False).value"
   ]
  },
  {
   "attachments": {},
   "cell_type": "markdown",
   "metadata": {},
   "source": [
    "Get the process id `pid` of the Excel instances open \n"
   ]
  },
  {
   "cell_type": "code",
   "execution_count": 53,
   "metadata": {},
   "outputs": [
    {
     "data": {
      "text/plain": [
       "[1456]"
      ]
     },
     "execution_count": 53,
     "metadata": {},
     "output_type": "execute_result"
    }
   ],
   "source": [
    "xw.apps.keys()"
   ]
  },
  {
   "cell_type": "code",
   "execution_count": 56,
   "metadata": {},
   "outputs": [
    {
     "data": {
      "text/plain": [
       "Sheets([<Sheet [model_point.xlsx]Sheet1>])"
      ]
     },
     "execution_count": 56,
     "metadata": {},
     "output_type": "execute_result"
    }
   ],
   "source": [
    "wb.sheets"
   ]
  },
  {
   "cell_type": "code",
   "execution_count": 58,
   "metadata": {},
   "outputs": [
    {
     "data": {
      "text/plain": [
       "<Sheet [model_point.xlsx]Sheet1>"
      ]
     },
     "execution_count": 58,
     "metadata": {},
     "output_type": "execute_result"
    }
   ],
   "source": [
    "wb.sheets['Sheet1']"
   ]
  },
  {
   "attachments": {},
   "cell_type": "markdown",
   "metadata": {},
   "source": [
    "# `xwings` : `Interactive Mode`"
   ]
  },
  {
   "cell_type": "code",
   "execution_count": 41,
   "metadata": {},
   "outputs": [
    {
     "data": {
      "text/plain": [
       "Sheets([<Sheet [model_point.xlsx]Sheet1>])"
      ]
     },
     "execution_count": 41,
     "metadata": {},
     "output_type": "execute_result"
    }
   ],
   "source": [
    "# to list the sheets in the workbook in xlwings\n",
    "wb.sheets"
   ]
  },
  {
   "cell_type": "code",
   "execution_count": 45,
   "metadata": {},
   "outputs": [
    {
     "name": "stdout",
     "output_type": "stream",
     "text": [
      "policy_id\n"
     ]
    }
   ],
   "source": [
    "# Looking at the values in our newly created workbook\n",
    "print(wb.sheets[0][\"A1\"].value)"
   ]
  },
  {
   "attachments": {},
   "cell_type": "markdown",
   "metadata": {},
   "source": [
    "## Modifying Excel Workbook from `python`"
   ]
  },
  {
   "cell_type": "code",
   "execution_count": 34,
   "metadata": {},
   "outputs": [],
   "source": [
    "# Assigning values to a cell\n",
    "# Notice the mismatched dimensionality\n",
    "# Impact is similar to pasting table into a cell in Excel\n",
    "wb.sheets[0][\"A1\"].value = pd.DataFrame({\"A\": [1, 2, 3], \"B\": [4, 5, 6]})"
   ]
  },
  {
   "attachments": {},
   "cell_type": "markdown",
   "metadata": {},
   "source": [
    "We obsere, not only does our `pd.DataFrame` expands beyond `\"A1\"`,`\"A1\"` is not filled with the `pd.DataFrame` \n",
    "\n",
    "However if we assign a  single value to `\"A1\"` the value of `\"A1\"` itself is set. Seems to be related to the dimensionality mismatch. Is almost like pasting a table to a cell in Excel."
   ]
  },
  {
   "attachments": {},
   "cell_type": "markdown",
   "metadata": {},
   "source": [
    "# `xwings` : `Reader Mode`"
   ]
  },
  {
   "cell_type": "code",
   "execution_count": 2,
   "metadata": {},
   "outputs": [
    {
     "data": {
      "text/plain": [
       "['cashflows_seriatim_10K.xlsx',\n",
       " 'generate_model_points_for_cluster.ipynb',\n",
       " 'PV_shocks.xlsx',\n",
       " 'BasicTerm_ME_for_Cluster',\n",
       " 'pv_seriatim_10K_lapse50.xlsx',\n",
       " 'pv_seriatim_10K.xlsx',\n",
       " 'cashflows_seriatim_10K_lapse50.xlsx',\n",
       " 'pv_seriatim_10K_mort15.xlsx',\n",
       " 'cluster_model_points.ipynb',\n",
       " 'cashflows_seriatim_10K_mort15.xlsx']"
      ]
     },
     "execution_count": 2,
     "metadata": {},
     "output_type": "execute_result"
    }
   ],
   "source": [
    "# Reader mode: read\n",
    "import os\n",
    "os.listdir(\"cluster\")"
   ]
  },
  {
   "attachments": {},
   "cell_type": "markdown",
   "metadata": {},
   "source": []
  },
  {
   "attachments": {},
   "cell_type": "markdown",
   "metadata": {},
   "source": [
    "### Loading our data into `xw.sheet` objects?"
   ]
  },
  {
   "cell_type": "code",
   "execution_count": 79,
   "metadata": {},
   "outputs": [
    {
     "data": {
      "text/plain": [
       "Sheets([<Sheet [cashflows_seriatim_10K.xlsx]Sheet1>])"
      ]
     },
     "execution_count": 79,
     "metadata": {},
     "output_type": "execute_result"
    }
   ],
   "source": [
    "base = xw.Book('cluster/cashflows_seriatim_10K.xlsx')\n",
    "base.sheets"
   ]
  },
  {
   "cell_type": "code",
   "execution_count": 63,
   "metadata": {},
   "outputs": [
    {
     "data": {
      "text/plain": [
       "Sheets([<Sheet [cashflows_seriatim_10K_lapse50.xlsx]Sheet1>])"
      ]
     },
     "execution_count": 63,
     "metadata": {},
     "output_type": "execute_result"
    }
   ],
   "source": [
    "lapse50 = xw.Book('cluster/cashflows_seriatim_10K_lapse50.xlsx')\n",
    "lapse50.sheets"
   ]
  },
  {
   "cell_type": "code",
   "execution_count": 80,
   "metadata": {},
   "outputs": [
    {
     "data": {
      "text/plain": [
       "Sheets([<Sheet [cashflows_seriatim_10K_mort15.xlsx]Sheet1>])"
      ]
     },
     "execution_count": 80,
     "metadata": {},
     "output_type": "execute_result"
    }
   ],
   "source": [
    "mort15 = xw.Book('cluster/cashflows_seriatim_10K_mort15.xlsx')\n",
    "mort15.sheets"
   ]
  },
  {
   "cell_type": "code",
   "execution_count": 65,
   "metadata": {},
   "outputs": [
    {
     "data": {
      "text/html": [
       "<div>\n",
       "<style scoped>\n",
       "    .dataframe tbody tr th:only-of-type {\n",
       "        vertical-align: middle;\n",
       "    }\n",
       "\n",
       "    .dataframe tbody tr th {\n",
       "        vertical-align: top;\n",
       "    }\n",
       "\n",
       "    .dataframe thead th {\n",
       "        text-align: right;\n",
       "    }\n",
       "</style>\n",
       "<table border=\"1\" class=\"dataframe\">\n",
       "  <thead>\n",
       "    <tr style=\"text-align: right;\">\n",
       "      <th></th>\n",
       "    </tr>\n",
       "    <tr>\n",
       "      <th>Premium</th>\n",
       "    </tr>\n",
       "  </thead>\n",
       "  <tbody>\n",
       "  </tbody>\n",
       "</table>\n",
       "</div>"
      ],
      "text/plain": [
       "Empty DataFrame\n",
       "Columns: []\n",
       "Index: []"
      ]
     },
     "execution_count": 65,
     "metadata": {},
     "output_type": "execute_result"
    }
   ],
   "source": [
    "base.selection(0).options(pd.DataFrame, expand='table').value"
   ]
  },
  {
   "cell_type": "code",
   "execution_count": 81,
   "metadata": {},
   "outputs": [
    {
     "data": {
      "text/plain": [
       "[<matplotlib.lines.Line2D at 0x14fa68ee0>]"
      ]
     },
     "execution_count": 81,
     "metadata": {},
     "output_type": "execute_result"
    },
    {
     "data": {
      "image/png": "[encoded data removed]",
      "text/plain": [
       "<Figure size 640x480 with 1 Axes>"
      ]
     },
     "metadata": {},
     "output_type": "display_data"
    }
   ],
   "source": [
    "plt.plot(base.selection(0).options(pd.DataFrame, expand='table').value.sum())"
   ]
  },
  {
   "cell_type": "code",
   "execution_count": 61,
   "metadata": {},
   "outputs": [
    {
     "data": {
      "text/html": [
       "<div>\n",
       "<style scoped>\n",
       "    .dataframe tbody tr th:only-of-type {\n",
       "        vertical-align: middle;\n",
       "    }\n",
       "\n",
       "    .dataframe tbody tr th {\n",
       "        vertical-align: top;\n",
       "    }\n",
       "\n",
       "    .dataframe thead th {\n",
       "        text-align: right;\n",
       "    }\n",
       "</style>\n",
       "<table border=\"1\" class=\"dataframe\">\n",
       "  <thead>\n",
       "    <tr style=\"text-align: right;\">\n",
       "      <th></th>\n",
       "      <th>Base</th>\n",
       "      <th>Lapse+50%</th>\n",
       "      <th>Mort+15%</th>\n",
       "    </tr>\n",
       "  </thead>\n",
       "  <tbody>\n",
       "  </tbody>\n",
       "</table>\n",
       "</div>"
      ],
      "text/plain": [
       "Empty DataFrame\n",
       "Columns: [Base, Lapse+50%, Mort+15%]\n",
       "Index: []"
      ]
     },
     "execution_count": 61,
     "metadata": {},
     "output_type": "execute_result"
    }
   ],
   "source": [
    "pd.DataFrame.from_dict({\n",
    "    'Base': base.selection(0).options(pd.DataFrame, expand='table').value.sum(),\n",
    "    'Lapse+50%': lapse50.selection(0).options(pd.DataFrame, expand='table').value.sum(),\n",
    "    'Mort+15%': mort15.selection(0).options(pd.DataFrame, expand='table').value.sum()})#.plot(grid=True, title='Cashflows')\n"
   ]
  },
  {
   "cell_type": "code",
   "execution_count": 67,
   "metadata": {},
   "outputs": [],
   "source": [
    "cfs = pd.read_excel('cluster/cashflows_seriatim_10K.xlsx', index_col=0)\n",
    "cfs_lapse50 = pd.read_excel('cluster/cashflows_seriatim_10K_lapse50.xlsx', index_col=0)\n",
    "cfs_mort15 = pd.read_excel('cluster/cashflows_seriatim_10K_mort15.xlsx', index_col=0)\n",
    "cfs_list = [cfs, cfs_lapse50, cfs_mort15]"
   ]
  },
  {
   "cell_type": "code",
   "execution_count": 94,
   "metadata": {},
   "outputs": [
    {
     "data": {
      "text/plain": [
       "[<matplotlib.lines.Line2D at 0x1580297e0>,\n",
       " <matplotlib.lines.Line2D at 0x158029870>]"
      ]
     },
     "execution_count": 94,
     "metadata": {},
     "output_type": "execute_result"
    },
    {
     "data": {
      "image/png": "[encoded data removed]",
      "text/plain": [
       "<Figure size 640x480 with 1 Axes>"
      ]
     },
     "metadata": {},
     "output_type": "display_data"
    }
   ],
   "source": [
    "plt.plot(cfs.sum(),\n",
    "\n",
    "         cfs_mort15.sum(), \n",
    "\n",
    "         cfs_lapse50.sum())"
   ]
  },
  {
   "cell_type": "code",
   "execution_count": 68,
   "metadata": {},
   "outputs": [
    {
     "data": {
      "text/plain": [
       "<Axes: title={'center': 'Cashflows'}>"
      ]
     },
     "execution_count": 68,
     "metadata": {},
     "output_type": "execute_result"
    },
    {
     "data": {
      "image/png": "[encoded data removed]",
      "text/plain": [
       "<Figure size 640x480 with 1 Axes>"
      ]
     },
     "metadata": {},
     "output_type": "display_data"
    }
   ],
   "source": [
    "pd.DataFrame.from_dict({\n",
    "    'Base': cfs.sum(),\n",
    "    'Lapse+50%': cfs_lapse50.sum(),\n",
    "    'Mort+15%': cfs_mort15.sum()}).plot(grid=True, title='Cashflows')"
   ]
  },
  {
   "cell_type": "code",
   "execution_count": 70,
   "metadata": {},
   "outputs": [
    {
     "data": {
      "text/plain": [
       "[<matplotlib.lines.Line2D at 0x14d963df0>]"
      ]
     },
     "execution_count": 70,
     "metadata": {},
     "output_type": "execute_result"
    },
    {
     "data": {
      "image/png": "[encoded data removed]",
      "text/plain": [
       "<Figure size 640x480 with 1 Axes>"
      ]
     },
     "metadata": {},
     "output_type": "display_data"
    }
   ],
   "source": [
    "import matplotlib.pyplot as plt\n",
    "fig = plt.figure()\n",
    "\n",
    "plt.plot( base.selection(0).options(pd.DataFrame, expand='table').value.sum())\n",
    "#plt.plot( lapse50.selection(0).options(pd.DataFrame, expand='table').value.sum())"
   ]
  },
  {
   "attachments": {},
   "cell_type": "markdown",
   "metadata": {},
   "source": [
    "### What can one do with a sheet object?"
   ]
  },
  {
   "attachments": {},
   "cell_type": "markdown",
   "metadata": {},
   "source": [
    "```\n",
    "for func in list(dir(base)):\n",
    "    if not func.startswith(\"_\"):\n",
    "        print(\"\\n\" + str(func) + \"\\n\")\n",
    "        print(getattr(base,func))\n",
    "```"
   ]
  },
  {
   "cell_type": "code",
   "execution_count": 43,
   "metadata": {},
   "outputs": [
    {
     "name": "stdout",
     "output_type": "stream",
     "text": [
      "<Range [cashflows_seriatim_10K_mort15.xlsx]Sheet1!$A$1>\n",
      "\n",
      "<Range [cashflows_seriatim_10K_mort15.xlsx]Sheet1!$A$1>\n",
      "\n",
      "<Range [cashflows_seriatim_10K_mort15.xlsx]Sheet1!$A$1048576>\n",
      "\n"
     ]
    }
   ],
   "source": [
    "# How .selection works\n",
    "for i in [0, 1, -1]:\n",
    "    print(str(base.selection(i)) + \"\\n\")\n"
   ]
  },
  {
   "cell_type": "code",
   "execution_count": 62,
   "metadata": {},
   "outputs": [
    {
     "data": {
      "text/plain": [
       "10001"
      ]
     },
     "execution_count": 62,
     "metadata": {},
     "output_type": "execute_result"
    }
   ],
   "source": [
    "len(base.selection(0).expand().value)"
   ]
  },
  {
   "cell_type": "code",
   "execution_count": null,
   "metadata": {},
   "outputs": [],
   "source": [
    "len(base.selection(0).expand().value)"
   ]
  },
  {
   "attachments": {},
   "cell_type": "markdown",
   "metadata": {},
   "source": [
    "### [`TOP-LEVEL FUNCTIONS: view()`](https://docs.xlwings.org/en/stable/api/top_level_functions.html#xlwings.view)\n",
    "\n",
    "`view()` takes any object and writes it to an Excel table as a new object\n",
    "\n",
    "\n",
    "> *ℹ️ Only use this in an interactive context like e.g. a Jupyter notebook! Don’t use this in a script as it depends on the active book.*\n"
   ]
  },
  {
   "cell_type": "code",
   "execution_count": 29,
   "metadata": {},
   "outputs": [],
   "source": [
    "from xlwings import view\n",
    "# using `view` we can see how .selection.expand() works\n",
    "# notice how .expand() selects all adjacent cells\n",
    "df = pd.DataFrame(data = base.selection(0).expand().value)\n",
    "view(df)"
   ]
  },
  {
   "cell_type": "code",
   "execution_count": 84,
   "metadata": {},
   "outputs": [],
   "source": [
    "#If you wanted to reuse the same workbook,\n",
    "# provide a sheet object\n",
    "#TODO! This is not working \n",
    "#specific_sheet = xw.Book()\n",
    "#view(df, sheet=specific_sheet)"
   ]
  },
  {
   "attachments": {},
   "cell_type": "markdown",
   "metadata": {},
   "source": [
    "### [`TOP-LEVEL FUNCTIONS: load()`](https://docs.xlwings.org/en/stable/api/top_level_functions.html#xlwings.load)\n",
    "\n",
    "Loads the selected cell(s) of the active workbook into a `pd.DataFrame`.\n",
    "\n",
    "If you select a single cell that has adjacent cells, the range is auto-expanded (via current region) and turned into a `pd.DataFrame`\n",
    "\n",
    "> *ℹ️ Only use this in an interactive context like e.g. a Jupyter notebook! Don’t use this in a script as it depends on the active book.*"
   ]
  },
  {
   "cell_type": "code",
   "execution_count": 99,
   "metadata": {},
   "outputs": [],
   "source": [
    "base = xw.Book('cluster/cashflows_seriatim_10K.xlsx')\n",
    "base_df = xw.load()"
   ]
  },
  {
   "cell_type": "code",
   "execution_count": 92,
   "metadata": {},
   "outputs": [],
   "source": [
    "lapse50 = xw.Book('cluster/cashflows_seriatim_10K_lapse50.xlsx')\n",
    "lapse50_df = xw.load()"
   ]
  },
  {
   "cell_type": "code",
   "execution_count": 91,
   "metadata": {},
   "outputs": [],
   "source": [
    "mort15 = xw.Book('cluster/cashflows_seriatim_10K_mort15.xlsx')\n",
    "mort15_df = xw.load()"
   ]
  },
  {
   "attachments": {},
   "cell_type": "markdown",
   "metadata": {},
   "source": [
    "### [`UDF decorators`](https://docs.xlwings.org/en/stable/api/udf_decorators.html)\n"
   ]
  }
 ],
 "metadata": {
  "kernelspec": {
   "display_name": "Python 3",
   "language": "python",
   "name": "python3"
  },
  "language_info": {
   "codemirror_mode": {
    "name": "ipython",
    "version": 3
   },
   "file_extension": ".py",
   "mimetype": "text/x-python",
   "name": "python",
   "nbconvert_exporter": "python",
   "pygments_lexer": "ipython3",
   "version": "3.10.10"
  },
  "orig_nbformat": 4,
  "vscode": {
   "interpreter": {
    "hash": "f6d9bc0a9092f2a46cbf7759509c214af57f5c4436f9f797145ab10897d6cd07"
   }
  }
 },
 "nbformat": 4,
 "nbformat_minor": 2
}
