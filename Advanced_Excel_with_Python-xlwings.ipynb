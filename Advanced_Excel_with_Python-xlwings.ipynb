{
 "cells": [
  {
   "cell_type": "code",
   "execution_count": 2,
   "metadata": {},
   "outputs": [
    {
     "name": "stdout",
     "output_type": "stream",
     "text": [
      "Note: you may need to restart the kernel to use updated packages.\n"
     ]
    }
   ],
   "source": [
    "%pip install openpyxl appscript psutil xlwings -q"
   ]
  },
  {
   "attachments": {},
   "cell_type": "markdown",
   "metadata": {},
   "source": [
    "### [Syntax Overview](https://docs.xlwings.org/en/latest/syntax_overview.html)"
   ]
  },
  {
   "cell_type": "code",
   "execution_count": 3,
   "metadata": {},
   "outputs": [
    {
     "data": {
      "text/plain": [
       "<App [excel] 1456>"
      ]
     },
     "execution_count": 3,
     "metadata": {},
     "output_type": "execute_result"
    }
   ],
   "source": [
    "import xlwings as xw\n",
    "# Active app (i.e. Excel instance)\n",
    "app = xw.apps.active\n",
    "app\n"
   ]
  },
  {
   "cell_type": "code",
   "execution_count": 4,
   "metadata": {},
   "outputs": [],
   "source": [
    "#!TODO The object you are trying to access does not exist\n",
    "# Active book\n",
    "wb = xw.books.active  # in active app\n",
    "#wb"
   ]
  },
  {
   "cell_type": "code",
   "execution_count": 5,
   "metadata": {},
   "outputs": [],
   "source": [
    "#TODO The object you are trying to access does not exist\n",
    "#wb = app.books.active  # in specific app\n",
    "#wb"
   ]
  },
  {
   "cell_type": "code",
   "execution_count": 6,
   "metadata": {},
   "outputs": [],
   "source": [
    "#TODO The object you are trying to access does not exist\n",
    "# Active sheet\n",
    "#sheet = xw.sheets.active  # in active book\n",
    "#sheet"
   ]
  },
  {
   "cell_type": "code",
   "execution_count": 7,
   "metadata": {},
   "outputs": [],
   "source": [
    "# import necessary packages\n",
    "import numpy as np\n",
    "import pandas as pd\n",
    "import xlwings as xw\n",
    "\n",
    "# path to data we just downloaded\n",
    "# if you are interested in how modelpoints were created,\n",
    "# check out the `generating_modelpoints.ipynb` file in the repo\n",
    "DATA_XLS = \"./dstoolkit/model_point.xlsx\"\n",
    "\n",
    "# ingesting our data into a dataframe (df)\n",
    "\n",
    "\n",
    "# Open workbook in < Interactve Mode >\n",
    "#new = xw.Book()\n",
    "wb = xw.Book(DATA_XLS) # connect to a file that is open or in the current working directory"
   ]
  },
  {
   "cell_type": "code",
   "execution_count": 8,
   "metadata": {},
   "outputs": [
    {
     "data": {
      "text/plain": [
       "<Book [model_point.xlsx]>"
      ]
     },
     "execution_count": 8,
     "metadata": {},
     "output_type": "execute_result"
    }
   ],
   "source": [
    "wb"
   ]
  },
  {
   "cell_type": "code",
   "execution_count": 9,
   "metadata": {},
   "outputs": [
    {
     "data": {
      "text/plain": [
       "Sheets([<Sheet [model_point.xlsx]Sheet1>])"
      ]
     },
     "execution_count": 9,
     "metadata": {},
     "output_type": "execute_result"
    }
   ],
   "source": [
    "wb.sheets\n"
   ]
  },
  {
   "attachments": {},
   "cell_type": "markdown",
   "metadata": {},
   "source": [
    "### Selecting a named range `model_point` in `wb.sheets[0]`"
   ]
  },
  {
   "cell_type": "code",
   "execution_count": 24,
   "metadata": {},
   "outputs": [
    {
     "ename": "CommandError",
     "evalue": "Command failed:\n\t\tOSERROR: -1728\n\t\tMESSAGE: The object you are trying to access does not exist\n\t\tCOMMAND: app(pid=1456).workbooks['model_point.xlsx'].count(each=k.worksheet)",
     "output_type": "error",
     "traceback": [
      "\u001b[0;31m---------------------------------------------------------------------------\u001b[0m",
      "\u001b[0;31mEventError\u001b[0m                                Traceback (most recent call last)",
      "File \u001b[0;32m~/dev/dstoolkit/.conda/lib/python3.10/site-packages/aeosa/appscript/reference.py:479\u001b[0m, in \u001b[0;36mCommand.__call__\u001b[0;34m(self, *args, **kargs)\u001b[0m\n\u001b[1;32m    478\u001b[0m \u001b[39mtry\u001b[39;00m:\n\u001b[0;32m--> 479\u001b[0m \t\u001b[39mreturn\u001b[39;00m \u001b[39mself\u001b[39;49m\u001b[39m.\u001b[39;49mAS_appdata\u001b[39m.\u001b[39;49mtarget()\u001b[39m.\u001b[39;49mevent(\u001b[39mself\u001b[39;49m\u001b[39m.\u001b[39;49m_code, params, atts, codecs\u001b[39m=\u001b[39;49m\u001b[39mself\u001b[39;49m\u001b[39m.\u001b[39;49mAS_appdata)\u001b[39m.\u001b[39;49msend(timeout, sendflags)\n\u001b[1;32m    480\u001b[0m \u001b[39mexcept\u001b[39;00m aem\u001b[39m.\u001b[39mEventError \u001b[39mas\u001b[39;00m e:\n",
      "File \u001b[0;32m~/dev/dstoolkit/.conda/lib/python3.10/site-packages/aeosa/aem/aemsend.py:92\u001b[0m, in \u001b[0;36mEvent.send\u001b[0;34m(self, timeout, flags)\u001b[0m\n\u001b[1;32m     91\u001b[0m \t\t\terrormsg \u001b[39m=\u001b[39m _defaultcodecs\u001b[39m.\u001b[39munpack(errormsg)\n\u001b[0;32m---> 92\u001b[0m \t\t\u001b[39mraise\u001b[39;00m EventError(errornum, errormsg, eventresult)\n\u001b[1;32m     93\u001b[0m \u001b[39mif\u001b[39;00m kae\u001b[39m.\u001b[39mkeyAEResult \u001b[39min\u001b[39;00m eventresult: \u001b[39m# application has returned a value\u001b[39;00m\n\u001b[1;32m     94\u001b[0m \t\u001b[39m# note: unpack result with [optionally] user-specified codecs, allowing clients to customise unpacking (e.g. appscript)\u001b[39;00m\n",
      "\u001b[0;31mEventError\u001b[0m: Command failed: The object you are trying to access does not exist (-1728)",
      "\nThe above exception was the direct cause of the following exception:\n",
      "\u001b[0;31mCommandError\u001b[0m                              Traceback (most recent call last)",
      "Cell \u001b[0;32mIn[24], line 1\u001b[0m\n\u001b[0;32m----> 1\u001b[0m wb\u001b[39m.\u001b[39;49msheets[\u001b[39m0\u001b[39;49m]\u001b[39m.\u001b[39mrange(\u001b[39m'\u001b[39m\u001b[39mmodel_point\u001b[39m\u001b[39m'\u001b[39m)\u001b[39m.\u001b[39mvalue\n",
      "File \u001b[0;32m~/dev/dstoolkit/.conda/lib/python3.10/site-packages/xlwings/main.py:73\u001b[0m, in \u001b[0;36mCollection.__getitem__\u001b[0;34m(self, key)\u001b[0m\n\u001b[1;32m     71\u001b[0m \u001b[39mdef\u001b[39;00m \u001b[39m__getitem__\u001b[39m(\u001b[39mself\u001b[39m, key):\n\u001b[1;32m     72\u001b[0m     \u001b[39mif\u001b[39;00m \u001b[39misinstance\u001b[39m(key, numbers\u001b[39m.\u001b[39mNumber):\n\u001b[0;32m---> 73\u001b[0m         length \u001b[39m=\u001b[39m \u001b[39mlen\u001b[39;49m(\u001b[39mself\u001b[39;49m)\n\u001b[1;32m     74\u001b[0m         \u001b[39mif\u001b[39;00m key \u001b[39m>\u001b[39m\u001b[39m=\u001b[39m length:\n\u001b[1;32m     75\u001b[0m             \u001b[39mraise\u001b[39;00m \u001b[39mIndexError\u001b[39;00m(\u001b[39m\"\u001b[39m\u001b[39mIndex \u001b[39m\u001b[39m%s\u001b[39;00m\u001b[39m out of range (\u001b[39m\u001b[39m%s\u001b[39;00m\u001b[39m elements)\u001b[39m\u001b[39m\"\u001b[39m \u001b[39m%\u001b[39m (key, length))\n",
      "File \u001b[0;32m~/dev/dstoolkit/.conda/lib/python3.10/site-packages/xlwings/main.py:58\u001b[0m, in \u001b[0;36mCollection.__len__\u001b[0;34m(self)\u001b[0m\n\u001b[1;32m     57\u001b[0m \u001b[39mdef\u001b[39;00m \u001b[39m__len__\u001b[39m(\u001b[39mself\u001b[39m):\n\u001b[0;32m---> 58\u001b[0m     \u001b[39mreturn\u001b[39;00m \u001b[39mlen\u001b[39;49m(\u001b[39mself\u001b[39;49m\u001b[39m.\u001b[39;49mimpl)\n",
      "File \u001b[0;32m~/dev/dstoolkit/.conda/lib/python3.10/site-packages/xlwings/_xlmac.py:622\u001b[0m, in \u001b[0;36mSheets.__len__\u001b[0;34m(self)\u001b[0m\n\u001b[1;32m    621\u001b[0m \u001b[39mdef\u001b[39;00m \u001b[39m__len__\u001b[39m(\u001b[39mself\u001b[39m):\n\u001b[0;32m--> 622\u001b[0m     \u001b[39mreturn\u001b[39;00m \u001b[39mself\u001b[39;49m\u001b[39m.\u001b[39;49mworkbook\u001b[39m.\u001b[39;49mxl\u001b[39m.\u001b[39;49mcount(each\u001b[39m=\u001b[39;49mkw\u001b[39m.\u001b[39;49mworksheet)\n",
      "File \u001b[0;32m~/dev/dstoolkit/.conda/lib/python3.10/site-packages/aeosa/appscript/reference.py:515\u001b[0m, in \u001b[0;36mCommand.__call__\u001b[0;34m(self, *args, **kargs)\u001b[0m\n\u001b[1;32m    513\u001b[0m \t\t\t\u001b[39mreturn\u001b[39;00m\n\u001b[1;32m    514\u001b[0m \t\t\u001b[39mraise\u001b[39;00m CommandError(\u001b[39mself\u001b[39m, (args, kargs), e, \u001b[39mself\u001b[39m\u001b[39m.\u001b[39mAS_appdata) \u001b[39mfrom\u001b[39;00m \u001b[39me\u001b[39;00m\n\u001b[0;32m--> 515\u001b[0m \u001b[39mraise\u001b[39;00m CommandError(\u001b[39mself\u001b[39m, (args, kargs), e, \u001b[39mself\u001b[39m\u001b[39m.\u001b[39mAS_appdata) \u001b[39mfrom\u001b[39;00m \u001b[39me\u001b[39;00m\n",
      "\u001b[0;31mCommandError\u001b[0m: Command failed:\n\t\tOSERROR: -1728\n\t\tMESSAGE: The object you are trying to access does not exist\n\t\tCOMMAND: app(pid=1456).workbooks['model_point.xlsx'].count(each=k.worksheet)"
     ]
    }
   ],
   "source": [
    "wb.sheets[0].range('model_point').value"
   ]
  },
  {
   "attachments": {},
   "cell_type": "markdown",
   "metadata": {},
   "source": [
    "Get the process id `pid` of the Excel instances open \n"
   ]
  },
  {
   "cell_type": "code",
   "execution_count": 53,
   "metadata": {},
   "outputs": [
    {
     "data": {
      "text/plain": [
       "[1456]"
      ]
     },
     "execution_count": 53,
     "metadata": {},
     "output_type": "execute_result"
    }
   ],
   "source": [
    "xw.apps.keys()"
   ]
  },
  {
   "cell_type": "code",
   "execution_count": 56,
   "metadata": {},
   "outputs": [
    {
     "data": {
      "text/plain": [
       "Sheets([<Sheet [model_point.xlsx]Sheet1>])"
      ]
     },
     "execution_count": 56,
     "metadata": {},
     "output_type": "execute_result"
    }
   ],
   "source": [
    "wb.sheets"
   ]
  },
  {
   "cell_type": "code",
   "execution_count": 58,
   "metadata": {},
   "outputs": [
    {
     "data": {
      "text/plain": [
       "<Sheet [model_point.xlsx]Sheet1>"
      ]
     },
     "execution_count": 58,
     "metadata": {},
     "output_type": "execute_result"
    }
   ],
   "source": [
    "wb.sheets['Sheet1']"
   ]
  },
  {
   "attachments": {},
   "cell_type": "markdown",
   "metadata": {},
   "source": [
    "# `xwings` : `Interactive Mode`"
   ]
  },
  {
   "cell_type": "code",
   "execution_count": 41,
   "metadata": {},
   "outputs": [
    {
     "data": {
      "text/plain": [
       "Sheets([<Sheet [model_point.xlsx]Sheet1>])"
      ]
     },
     "execution_count": 41,
     "metadata": {},
     "output_type": "execute_result"
    }
   ],
   "source": [
    "# to list the sheets in the workbook in xlwings\n",
    "wb.sheets"
   ]
  },
  {
   "cell_type": "code",
   "execution_count": 45,
   "metadata": {},
   "outputs": [
    {
     "name": "stdout",
     "output_type": "stream",
     "text": [
      "policy_id\n"
     ]
    }
   ],
   "source": [
    "# Looking at the values in our newly created workbook\n",
    "print(wb.sheets[0][\"A1\"].value)"
   ]
  },
  {
   "attachments": {},
   "cell_type": "markdown",
   "metadata": {},
   "source": [
    "## Modifying Excel Workbook from `python`"
   ]
  },
  {
   "cell_type": "code",
   "execution_count": 34,
   "metadata": {},
   "outputs": [],
   "source": [
    "# Assigning values to a cell\n",
    "# Notice the mismatched dimensionality\n",
    "# Impact is similar to pasting table into a cell in Excel\n",
    "wb.sheets[0][\"A1\"].value = pd.DataFrame({\"A\": [1, 2, 3], \"B\": [4, 5, 6]})"
   ]
  },
  {
   "attachments": {},
   "cell_type": "markdown",
   "metadata": {},
   "source": [
    "We obsere, not only does our `pd.DataFrame` expands beyond `\"A1\"`,`\"A1\"` is not filled with the `pd.DataFrame` \n",
    "\n",
    "However if we assign a  single value to `\"A1\"` the value of `\"A1\"` itself is set. Seems to be related to the dimensionality mismatch. Is almost like pasting a table to a cell in Excel."
   ]
  },
  {
   "attachments": {},
   "cell_type": "markdown",
   "metadata": {},
   "source": [
    "# `xwings` : `Reader Mode`"
   ]
  },
  {
   "cell_type": "code",
   "execution_count": 2,
   "metadata": {},
   "outputs": [
    {
     "data": {
      "text/plain": [
       "['cashflows_seriatim_10K.xlsx',\n",
       " 'generate_model_points_for_cluster.ipynb',\n",
       " 'PV_shocks.xlsx',\n",
       " 'BasicTerm_ME_for_Cluster',\n",
       " 'pv_seriatim_10K_lapse50.xlsx',\n",
       " 'pv_seriatim_10K.xlsx',\n",
       " 'cashflows_seriatim_10K_lapse50.xlsx',\n",
       " 'pv_seriatim_10K_mort15.xlsx',\n",
       " 'cluster_model_points.ipynb',\n",
       " 'cashflows_seriatim_10K_mort15.xlsx']"
      ]
     },
     "execution_count": 2,
     "metadata": {},
     "output_type": "execute_result"
    }
   ],
   "source": [
    "# Reader mode: read\n",
    "import os\n",
    "os.listdir(\"cluster\")"
   ]
  },
  {
   "attachments": {},
   "cell_type": "markdown",
   "metadata": {},
   "source": []
  },
  {
   "attachments": {},
   "cell_type": "markdown",
   "metadata": {},
   "source": [
    "### Loading our data into `xw.sheet` objects?"
   ]
  },
  {
   "cell_type": "code",
   "execution_count": 25,
   "metadata": {},
   "outputs": [
    {
     "data": {
      "text/plain": [
       "Sheets([<Sheet [cashflows_seriatim_10K.xlsx]Sheet1>])"
      ]
     },
     "execution_count": 25,
     "metadata": {},
     "output_type": "execute_result"
    }
   ],
   "source": [
    "base = xw.Book('cluster/cashflows_seriatim_10K.xlsx')\n",
    "base.sheets"
   ]
  },
  {
   "cell_type": "code",
   "execution_count": 26,
   "metadata": {},
   "outputs": [
    {
     "data": {
      "text/plain": [
       "Sheets([<Sheet [cashflows_seriatim_10K_lapse50.xlsx]Sheet1>])"
      ]
     },
     "execution_count": 26,
     "metadata": {},
     "output_type": "execute_result"
    }
   ],
   "source": [
    "lapse50 = xw.Book('cluster/cashflows_seriatim_10K_lapse50.xlsx')\n",
    "lapse50.sheets"
   ]
  },
  {
   "cell_type": "code",
   "execution_count": 27,
   "metadata": {},
   "outputs": [
    {
     "data": {
      "text/plain": [
       "Sheets([<Sheet [cashflows_seriatim_10K_mort15.xlsx]Sheet1>])"
      ]
     },
     "execution_count": 27,
     "metadata": {},
     "output_type": "execute_result"
    }
   ],
   "source": [
    "mort15 = xw.Book('cluster/cashflows_seriatim_10K_mort15.xlsx')\n",
    "mort15.sheets"
   ]
  },
  {
   "cell_type": "code",
   "execution_count": 40,
   "metadata": {},
   "outputs": [
    {
     "data": {
      "text/html": [
       "<div>\n",
       "<style scoped>\n",
       "    .dataframe tbody tr th:only-of-type {\n",
       "        vertical-align: middle;\n",
       "    }\n",
       "\n",
       "    .dataframe tbody tr th {\n",
       "        vertical-align: top;\n",
       "    }\n",
       "\n",
       "    .dataframe thead th {\n",
       "        text-align: right;\n",
       "    }\n",
       "</style>\n",
       "<table border=\"1\" class=\"dataframe\">\n",
       "  <thead>\n",
       "    <tr style=\"text-align: right;\">\n",
       "      <th></th>\n",
       "      <th>0.0</th>\n",
       "      <th>1.0</th>\n",
       "      <th>2.0</th>\n",
       "      <th>3.0</th>\n",
       "      <th>4.0</th>\n",
       "      <th>5.0</th>\n",
       "      <th>6.0</th>\n",
       "      <th>7.0</th>\n",
       "      <th>8.0</th>\n",
       "      <th>9.0</th>\n",
       "      <th>10.0</th>\n",
       "      <th>11.0</th>\n",
       "      <th>12.0</th>\n",
       "      <th>13.0</th>\n",
       "      <th>14.0</th>\n",
       "      <th>15.0</th>\n",
       "      <th>16.0</th>\n",
       "      <th>17.0</th>\n",
       "      <th>18.0</th>\n",
       "      <th>19.0</th>\n",
       "    </tr>\n",
       "    <tr>\n",
       "      <th>policy_id</th>\n",
       "      <th></th>\n",
       "      <th></th>\n",
       "      <th></th>\n",
       "      <th></th>\n",
       "      <th></th>\n",
       "      <th></th>\n",
       "      <th></th>\n",
       "      <th></th>\n",
       "      <th></th>\n",
       "      <th></th>\n",
       "      <th></th>\n",
       "      <th></th>\n",
       "      <th></th>\n",
       "      <th></th>\n",
       "      <th></th>\n",
       "      <th></th>\n",
       "      <th></th>\n",
       "      <th></th>\n",
       "      <th></th>\n",
       "      <th></th>\n",
       "    </tr>\n",
       "  </thead>\n",
       "  <tbody>\n",
       "    <tr>\n",
       "      <th>1.0</th>\n",
       "      <td>454.929938</td>\n",
       "      <td>310.300392</td>\n",
       "      <td>190.402436</td>\n",
       "      <td>103.660852</td>\n",
       "      <td>60.242358</td>\n",
       "      <td>21.088041</td>\n",
       "      <td>-16.544396</td>\n",
       "      <td>-27.751069</td>\n",
       "      <td>0.000000</td>\n",
       "      <td>0.000000</td>\n",
       "      <td>0.000000</td>\n",
       "      <td>0.000000</td>\n",
       "      <td>0.000000</td>\n",
       "      <td>0.000000</td>\n",
       "      <td>0.000000</td>\n",
       "      <td>0.00000</td>\n",
       "      <td>0.0000</td>\n",
       "      <td>0.0</td>\n",
       "      <td>0.0</td>\n",
       "      <td>0.0</td>\n",
       "    </tr>\n",
       "    <tr>\n",
       "      <th>2.0</th>\n",
       "      <td>-113.478934</td>\n",
       "      <td>-155.860222</td>\n",
       "      <td>-41.341617</td>\n",
       "      <td>0.000000</td>\n",
       "      <td>0.000000</td>\n",
       "      <td>0.000000</td>\n",
       "      <td>0.000000</td>\n",
       "      <td>0.000000</td>\n",
       "      <td>0.000000</td>\n",
       "      <td>0.000000</td>\n",
       "      <td>0.000000</td>\n",
       "      <td>0.000000</td>\n",
       "      <td>0.000000</td>\n",
       "      <td>0.000000</td>\n",
       "      <td>0.000000</td>\n",
       "      <td>0.00000</td>\n",
       "      <td>0.0000</td>\n",
       "      <td>0.0</td>\n",
       "      <td>0.0</td>\n",
       "      <td>0.0</td>\n",
       "    </tr>\n",
       "    <tr>\n",
       "      <th>3.0</th>\n",
       "      <td>676.812950</td>\n",
       "      <td>428.804452</td>\n",
       "      <td>239.065037</td>\n",
       "      <td>144.628379</td>\n",
       "      <td>59.786543</td>\n",
       "      <td>-21.431505</td>\n",
       "      <td>-61.849044</td>\n",
       "      <td>0.000000</td>\n",
       "      <td>0.000000</td>\n",
       "      <td>0.000000</td>\n",
       "      <td>0.000000</td>\n",
       "      <td>0.000000</td>\n",
       "      <td>0.000000</td>\n",
       "      <td>0.000000</td>\n",
       "      <td>0.000000</td>\n",
       "      <td>0.00000</td>\n",
       "      <td>0.0000</td>\n",
       "      <td>0.0</td>\n",
       "      <td>0.0</td>\n",
       "      <td>0.0</td>\n",
       "    </tr>\n",
       "    <tr>\n",
       "      <th>4.0</th>\n",
       "      <td>38.419532</td>\n",
       "      <td>17.670184</td>\n",
       "      <td>-3.802256</td>\n",
       "      <td>-26.067321</td>\n",
       "      <td>-49.200605</td>\n",
       "      <td>-73.284343</td>\n",
       "      <td>-98.408043</td>\n",
       "      <td>-124.669193</td>\n",
       "      <td>-44.236933</td>\n",
       "      <td>0.000000</td>\n",
       "      <td>0.000000</td>\n",
       "      <td>0.000000</td>\n",
       "      <td>0.000000</td>\n",
       "      <td>0.000000</td>\n",
       "      <td>0.000000</td>\n",
       "      <td>0.00000</td>\n",
       "      <td>0.0000</td>\n",
       "      <td>0.0</td>\n",
       "      <td>0.0</td>\n",
       "      <td>0.0</td>\n",
       "    </tr>\n",
       "    <tr>\n",
       "      <th>5.0</th>\n",
       "      <td>79.846717</td>\n",
       "      <td>61.399261</td>\n",
       "      <td>45.036933</td>\n",
       "      <td>29.644374</td>\n",
       "      <td>14.071303</td>\n",
       "      <td>-1.979159</td>\n",
       "      <td>-18.549807</td>\n",
       "      <td>-35.687112</td>\n",
       "      <td>-31.501112</td>\n",
       "      <td>0.000000</td>\n",
       "      <td>0.000000</td>\n",
       "      <td>0.000000</td>\n",
       "      <td>0.000000</td>\n",
       "      <td>0.000000</td>\n",
       "      <td>0.000000</td>\n",
       "      <td>0.00000</td>\n",
       "      <td>0.0000</td>\n",
       "      <td>0.0</td>\n",
       "      <td>0.0</td>\n",
       "      <td>0.0</td>\n",
       "    </tr>\n",
       "    <tr>\n",
       "      <th>...</th>\n",
       "      <td>...</td>\n",
       "      <td>...</td>\n",
       "      <td>...</td>\n",
       "      <td>...</td>\n",
       "      <td>...</td>\n",
       "      <td>...</td>\n",
       "      <td>...</td>\n",
       "      <td>...</td>\n",
       "      <td>...</td>\n",
       "      <td>...</td>\n",
       "      <td>...</td>\n",
       "      <td>...</td>\n",
       "      <td>...</td>\n",
       "      <td>...</td>\n",
       "      <td>...</td>\n",
       "      <td>...</td>\n",
       "      <td>...</td>\n",
       "      <td>...</td>\n",
       "      <td>...</td>\n",
       "      <td>...</td>\n",
       "    </tr>\n",
       "    <tr>\n",
       "      <th>9996.0</th>\n",
       "      <td>21.829035</td>\n",
       "      <td>-151.131485</td>\n",
       "      <td>-333.363260</td>\n",
       "      <td>-525.782600</td>\n",
       "      <td>-729.386065</td>\n",
       "      <td>-945.256305</td>\n",
       "      <td>0.000000</td>\n",
       "      <td>0.000000</td>\n",
       "      <td>0.000000</td>\n",
       "      <td>0.000000</td>\n",
       "      <td>0.000000</td>\n",
       "      <td>0.000000</td>\n",
       "      <td>0.000000</td>\n",
       "      <td>0.000000</td>\n",
       "      <td>0.000000</td>\n",
       "      <td>0.00000</td>\n",
       "      <td>0.0000</td>\n",
       "      <td>0.0</td>\n",
       "      <td>0.0</td>\n",
       "      <td>0.0</td>\n",
       "    </tr>\n",
       "    <tr>\n",
       "      <th>9997.0</th>\n",
       "      <td>-63.056938</td>\n",
       "      <td>0.000000</td>\n",
       "      <td>0.000000</td>\n",
       "      <td>0.000000</td>\n",
       "      <td>0.000000</td>\n",
       "      <td>0.000000</td>\n",
       "      <td>0.000000</td>\n",
       "      <td>0.000000</td>\n",
       "      <td>0.000000</td>\n",
       "      <td>0.000000</td>\n",
       "      <td>0.000000</td>\n",
       "      <td>0.000000</td>\n",
       "      <td>0.000000</td>\n",
       "      <td>0.000000</td>\n",
       "      <td>0.000000</td>\n",
       "      <td>0.00000</td>\n",
       "      <td>0.0000</td>\n",
       "      <td>0.0</td>\n",
       "      <td>0.0</td>\n",
       "      <td>0.0</td>\n",
       "    </tr>\n",
       "    <tr>\n",
       "      <th>9998.0</th>\n",
       "      <td>129.457751</td>\n",
       "      <td>1.548025</td>\n",
       "      <td>-132.731547</td>\n",
       "      <td>-274.016351</td>\n",
       "      <td>-422.998834</td>\n",
       "      <td>-580.433319</td>\n",
       "      <td>-596.913587</td>\n",
       "      <td>0.000000</td>\n",
       "      <td>0.000000</td>\n",
       "      <td>0.000000</td>\n",
       "      <td>0.000000</td>\n",
       "      <td>0.000000</td>\n",
       "      <td>0.000000</td>\n",
       "      <td>0.000000</td>\n",
       "      <td>0.000000</td>\n",
       "      <td>0.00000</td>\n",
       "      <td>0.0000</td>\n",
       "      <td>0.0</td>\n",
       "      <td>0.0</td>\n",
       "      <td>0.0</td>\n",
       "    </tr>\n",
       "    <tr>\n",
       "      <th>9999.0</th>\n",
       "      <td>205.288760</td>\n",
       "      <td>151.545136</td>\n",
       "      <td>114.721164</td>\n",
       "      <td>94.484535</td>\n",
       "      <td>77.698674</td>\n",
       "      <td>63.159113</td>\n",
       "      <td>49.816860</td>\n",
       "      <td>36.306032</td>\n",
       "      <td>22.306770</td>\n",
       "      <td>7.769249</td>\n",
       "      <td>-7.360759</td>\n",
       "      <td>-23.142312</td>\n",
       "      <td>-39.639765</td>\n",
       "      <td>-56.923272</td>\n",
       "      <td>-75.069347</td>\n",
       "      <td>-94.16146</td>\n",
       "      <td>-61.3422</td>\n",
       "      <td>0.0</td>\n",
       "      <td>0.0</td>\n",
       "      <td>0.0</td>\n",
       "    </tr>\n",
       "    <tr>\n",
       "      <th>10000.0</th>\n",
       "      <td>-36.960421</td>\n",
       "      <td>-3.168801</td>\n",
       "      <td>0.000000</td>\n",
       "      <td>0.000000</td>\n",
       "      <td>0.000000</td>\n",
       "      <td>0.000000</td>\n",
       "      <td>0.000000</td>\n",
       "      <td>0.000000</td>\n",
       "      <td>0.000000</td>\n",
       "      <td>0.000000</td>\n",
       "      <td>0.000000</td>\n",
       "      <td>0.000000</td>\n",
       "      <td>0.000000</td>\n",
       "      <td>0.000000</td>\n",
       "      <td>0.000000</td>\n",
       "      <td>0.00000</td>\n",
       "      <td>0.0000</td>\n",
       "      <td>0.0</td>\n",
       "      <td>0.0</td>\n",
       "      <td>0.0</td>\n",
       "    </tr>\n",
       "  </tbody>\n",
       "</table>\n",
       "<p>10000 rows × 20 columns</p>\n",
       "</div>"
      ],
      "text/plain": [
       "                  0.0         1.0         2.0         3.0         4.0  \\\n",
       "policy_id                                                               \n",
       "1.0        454.929938  310.300392  190.402436  103.660852   60.242358   \n",
       "2.0       -113.478934 -155.860222  -41.341617    0.000000    0.000000   \n",
       "3.0        676.812950  428.804452  239.065037  144.628379   59.786543   \n",
       "4.0         38.419532   17.670184   -3.802256  -26.067321  -49.200605   \n",
       "5.0         79.846717   61.399261   45.036933   29.644374   14.071303   \n",
       "...               ...         ...         ...         ...         ...   \n",
       "9996.0      21.829035 -151.131485 -333.363260 -525.782600 -729.386065   \n",
       "9997.0     -63.056938    0.000000    0.000000    0.000000    0.000000   \n",
       "9998.0     129.457751    1.548025 -132.731547 -274.016351 -422.998834   \n",
       "9999.0     205.288760  151.545136  114.721164   94.484535   77.698674   \n",
       "10000.0    -36.960421   -3.168801    0.000000    0.000000    0.000000   \n",
       "\n",
       "                  5.0         6.0         7.0        8.0       9.0      10.0  \\\n",
       "policy_id                                                                      \n",
       "1.0         21.088041  -16.544396  -27.751069   0.000000  0.000000  0.000000   \n",
       "2.0          0.000000    0.000000    0.000000   0.000000  0.000000  0.000000   \n",
       "3.0        -21.431505  -61.849044    0.000000   0.000000  0.000000  0.000000   \n",
       "4.0        -73.284343  -98.408043 -124.669193 -44.236933  0.000000  0.000000   \n",
       "5.0         -1.979159  -18.549807  -35.687112 -31.501112  0.000000  0.000000   \n",
       "...               ...         ...         ...        ...       ...       ...   \n",
       "9996.0    -945.256305    0.000000    0.000000   0.000000  0.000000  0.000000   \n",
       "9997.0       0.000000    0.000000    0.000000   0.000000  0.000000  0.000000   \n",
       "9998.0    -580.433319 -596.913587    0.000000   0.000000  0.000000  0.000000   \n",
       "9999.0      63.159113   49.816860   36.306032  22.306770  7.769249 -7.360759   \n",
       "10000.0      0.000000    0.000000    0.000000   0.000000  0.000000  0.000000   \n",
       "\n",
       "                11.0       12.0       13.0       14.0      15.0     16.0  \\\n",
       "policy_id                                                                  \n",
       "1.0         0.000000   0.000000   0.000000   0.000000   0.00000   0.0000   \n",
       "2.0         0.000000   0.000000   0.000000   0.000000   0.00000   0.0000   \n",
       "3.0         0.000000   0.000000   0.000000   0.000000   0.00000   0.0000   \n",
       "4.0         0.000000   0.000000   0.000000   0.000000   0.00000   0.0000   \n",
       "5.0         0.000000   0.000000   0.000000   0.000000   0.00000   0.0000   \n",
       "...              ...        ...        ...        ...       ...      ...   \n",
       "9996.0      0.000000   0.000000   0.000000   0.000000   0.00000   0.0000   \n",
       "9997.0      0.000000   0.000000   0.000000   0.000000   0.00000   0.0000   \n",
       "9998.0      0.000000   0.000000   0.000000   0.000000   0.00000   0.0000   \n",
       "9999.0    -23.142312 -39.639765 -56.923272 -75.069347 -94.16146 -61.3422   \n",
       "10000.0     0.000000   0.000000   0.000000   0.000000   0.00000   0.0000   \n",
       "\n",
       "           17.0  18.0  19.0  \n",
       "policy_id                    \n",
       "1.0         0.0   0.0   0.0  \n",
       "2.0         0.0   0.0   0.0  \n",
       "3.0         0.0   0.0   0.0  \n",
       "4.0         0.0   0.0   0.0  \n",
       "5.0         0.0   0.0   0.0  \n",
       "...         ...   ...   ...  \n",
       "9996.0      0.0   0.0   0.0  \n",
       "9997.0      0.0   0.0   0.0  \n",
       "9998.0      0.0   0.0   0.0  \n",
       "9999.0      0.0   0.0   0.0  \n",
       "10000.0     0.0   0.0   0.0  \n",
       "\n",
       "[10000 rows x 20 columns]"
      ]
     },
     "execution_count": 40,
     "metadata": {},
     "output_type": "execute_result"
    }
   ],
   "source": [
    "base.selection(0).options(pd.DataFrame, expand='table').value"
   ]
  },
  {
   "cell_type": "code",
   "execution_count": 37,
   "metadata": {},
   "outputs": [
    {
     "data": {
      "text/plain": [
       "<Axes: title={'center': 'Cashflows'}>"
      ]
     },
     "execution_count": 37,
     "metadata": {},
     "output_type": "execute_result"
    },
    {
     "data": {
      "image/png": "[encoded data removed]",
      "text/plain": [
       "<Figure size 640x480 with 1 Axes>"
      ]
     },
     "metadata": {},
     "output_type": "display_data"
    }
   ],
   "source": [
    "pd.DataFrame.from_dict({\n",
    "    'Base': base.selection(0).options(pd.DataFrame, expand='table').value.sum(),\n",
    "    'Lapse+50%': lapse50.selection(0).options(pd.DataFrame, expand='table').value.sum(),\n",
    "    'Mort+15%': mort15.selection(0).options(pd.DataFrame, expand='table').value.sum()}).plot(grid=True, title='Cashflows')"
   ]
  },
  {
   "cell_type": "code",
   "execution_count": 36,
   "metadata": {},
   "outputs": [
    {
     "data": {
      "text/plain": [
       "[<matplotlib.lines.Line2D at 0x14bfbc460>]"
      ]
     },
     "execution_count": 36,
     "metadata": {},
     "output_type": "execute_result"
    },
    {
     "data": {
      "image/png": "[encoded data removed]",
      "text/plain": [
       "<Figure size 640x480 with 1 Axes>"
      ]
     },
     "metadata": {},
     "output_type": "display_data"
    }
   ],
   "source": [
    "import matplotlib.pyplot as plt\n",
    "fig = plt.figure()\n",
    "\n",
    "plt.plot( base.selection(0).options(pd.DataFrame, expand='table').value.sum())\n",
    "#plt.plot( lapse50.selection(0).options(pd.DataFrame, expand='table').value.sum())"
   ]
  },
  {
   "attachments": {},
   "cell_type": "markdown",
   "metadata": {},
   "source": [
    "### What can one do with a sheet object?"
   ]
  },
  {
   "attachments": {},
   "cell_type": "markdown",
   "metadata": {},
   "source": [
    "```\n",
    "for func in list(dir(base)):\n",
    "    if not func.startswith(\"_\"):\n",
    "        print(\"\\n\" + str(func) + \"\\n\")\n",
    "        print(getattr(base,func))\n",
    "```"
   ]
  },
  {
   "cell_type": "code",
   "execution_count": 43,
   "metadata": {},
   "outputs": [
    {
     "name": "stdout",
     "output_type": "stream",
     "text": [
      "<Range [cashflows_seriatim_10K_mort15.xlsx]Sheet1!$A$1>\n",
      "\n",
      "<Range [cashflows_seriatim_10K_mort15.xlsx]Sheet1!$A$1>\n",
      "\n",
      "<Range [cashflows_seriatim_10K_mort15.xlsx]Sheet1!$A$1048576>\n",
      "\n"
     ]
    }
   ],
   "source": [
    "# How .selection works\n",
    "for i in [0, 1, -1]:\n",
    "    print(str(base.selection(i)) + \"\\n\")\n"
   ]
  },
  {
   "cell_type": "code",
   "execution_count": 62,
   "metadata": {},
   "outputs": [
    {
     "data": {
      "text/plain": [
       "10001"
      ]
     },
     "execution_count": 62,
     "metadata": {},
     "output_type": "execute_result"
    }
   ],
   "source": [
    "len(base.selection(0).expand().value)"
   ]
  },
  {
   "cell_type": "code",
   "execution_count": null,
   "metadata": {},
   "outputs": [],
   "source": [
    "len(base.selection(0).expand().value)"
   ]
  },
  {
   "attachments": {},
   "cell_type": "markdown",
   "metadata": {},
   "source": [
    "### [`TOP-LEVEL FUNCTIONS: view()`](https://docs.xlwings.org/en/stable/api/top_level_functions.html#xlwings.view)\n",
    "\n",
    "`view()` takes any object and writes it to an Excel table as a new object\n",
    "\n",
    "\n",
    "> *ℹ️ Only use this in an interactive context like e.g. a Jupyter notebook! Don’t use this in a script as it depends on the active book.*\n"
   ]
  },
  {
   "cell_type": "code",
   "execution_count": 29,
   "metadata": {},
   "outputs": [],
   "source": [
    "from xlwings import view\n",
    "# using `view` we can see how .selection.expand() works\n",
    "# notice how .expand() selects all adjacent cells\n",
    "df = pd.DataFrame(data = base.selection(0).expand().value)\n",
    "view(df)"
   ]
  },
  {
   "cell_type": "code",
   "execution_count": 84,
   "metadata": {},
   "outputs": [],
   "source": [
    "#If you wanted to reuse the same workbook,\n",
    "# provide a sheet object\n",
    "#TODO! This is not working \n",
    "#specific_sheet = xw.Book()\n",
    "#view(df, sheet=specific_sheet)"
   ]
  },
  {
   "attachments": {},
   "cell_type": "markdown",
   "metadata": {},
   "source": [
    "### [`TOP-LEVEL FUNCTIONS: load()`](https://docs.xlwings.org/en/stable/api/top_level_functions.html#xlwings.load)\n",
    "\n",
    "Loads the selected cell(s) of the active workbook into a `pd.DataFrame`.\n",
    "\n",
    "If you select a single cell that has adjacent cells, the range is auto-expanded (via current region) and turned into a `pd.DataFrame`\n",
    "\n",
    "> *ℹ️ Only use this in an interactive context like e.g. a Jupyter notebook! Don’t use this in a script as it depends on the active book.*"
   ]
  },
  {
   "cell_type": "code",
   "execution_count": 99,
   "metadata": {},
   "outputs": [],
   "source": [
    "base = xw.Book('cluster/cashflows_seriatim_10K.xlsx')\n",
    "base_df = xw.load()"
   ]
  },
  {
   "cell_type": "code",
   "execution_count": 92,
   "metadata": {},
   "outputs": [],
   "source": [
    "lapse50 = xw.Book('cluster/cashflows_seriatim_10K_lapse50.xlsx')\n",
    "lapse50_df = xw.load()"
   ]
  },
  {
   "cell_type": "code",
   "execution_count": 91,
   "metadata": {},
   "outputs": [],
   "source": [
    "mort15 = xw.Book('cluster/cashflows_seriatim_10K_mort15.xlsx')\n",
    "mort15_df = xw.load()"
   ]
  },
  {
   "attachments": {},
   "cell_type": "markdown",
   "metadata": {},
   "source": [
    "### [`UDF decorators`](https://docs.xlwings.org/en/stable/api/udf_decorators.html)\n"
   ]
  }
 ],
 "metadata": {
  "kernelspec": {
   "display_name": "Python 3",
   "language": "python",
   "name": "python3"
  },
  "language_info": {
   "codemirror_mode": {
    "name": "ipython",
    "version": 3
   },
   "file_extension": ".py",
   "mimetype": "text/x-python",
   "name": "python",
   "nbconvert_exporter": "python",
   "pygments_lexer": "ipython3",
   "version": "3.10.10"
  },
  "orig_nbformat": 4,
  "vscode": {
   "interpreter": {
    "hash": "f6d9bc0a9092f2a46cbf7759509c214af57f5c4436f9f797145ab10897d6cd07"
   }
  }
 },
 "nbformat": 4,
 "nbformat_minor": 2
}
