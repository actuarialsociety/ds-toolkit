{
 "cells": [
  {
   "cell_type": "code",
   "execution_count": null,
   "metadata": {},
   "outputs": [],
   "source": [
    "# import necessary packages\n",
    "import numpy as np\n",
    "import pandas as pd\n",
    "\n",
    "# path to data we just downloaded\n",
    "# if you are interested in how modelpoints were created,\n",
    "# check out the `generating_modelpoints.ipynb` file in the repo\n",
    "DATA_XLS = \"./dstoolkit/model_point.xlsx\"\n",
    "\n",
    "# ingesting our data into a dataframe (df)"
   ]
  },
  {
   "attachments": {},
   "cell_type": "markdown",
   "metadata": {},
   "source": [
    "### Creating & editting spreadsheets from CLI with `openpyxl` & 'xlwings`"
   ]
  },
  {
   "cell_type": "code",
   "execution_count": 6,
   "metadata": {},
   "outputs": [
    {
     "name": "stdout",
     "output_type": "stream",
     "text": [
      "Requirement already satisfied: openpyxl in ./.conda/lib/python3.10/site-packages (3.1.2)\n",
      "Requirement already satisfied: appscript in ./.conda/lib/python3.10/site-packages (1.2.2)\n",
      "Requirement already satisfied: psutil in ./.conda/lib/python3.10/site-packages (5.9.0)\n",
      "Requirement already satisfied: xlwings in ./.conda/lib/python3.10/site-packages (0.30.4)\n",
      "Requirement already satisfied: et-xmlfile in ./.conda/lib/python3.10/site-packages (from openpyxl) (1.1.0)\n",
      "Requirement already satisfied: lxml>=4.7.1 in ./.conda/lib/python3.10/site-packages (from appscript) (4.9.2)\n",
      "Note: you may need to restart the kernel to use updated packages.\n"
     ]
    }
   ],
   "source": [
    "%pip install openpyxl appscript psutil xlwings"
   ]
  },
  {
   "cell_type": "code",
   "execution_count": 1,
   "metadata": {},
   "outputs": [],
   "source": [
    "import xlwings as xw\n",
    "import pandas as pd\n",
    "\n",
    "# Interactive mode: open new workbook\n",
    "# write pd.DataFrame to \"A1\" then read it back\n",
    "\n",
    "book = xw.Book()\n",
    "sheet = book.sheets[0]\n",
    "sheet.range(\"A1\").value = pd.DataFrame({\"A\": [1, 2, 3], \"B\": [4, 5, 6]})\n",
    "df = sheet.range(\"A1\").options(pd.DataFrame, expand=\"table\").value\n"
   ]
  },
  {
   "cell_type": "code",
   "execution_count": null,
   "metadata": {},
   "outputs": [],
   "source": []
  }
 ],
 "metadata": {
  "kernelspec": {
   "display_name": "Python 3",
   "language": "python",
   "name": "python3"
  },
  "language_info": {
   "codemirror_mode": {
    "name": "ipython",
    "version": 3
   },
   "file_extension": ".py",
   "mimetype": "text/x-python",
   "name": "python",
   "nbconvert_exporter": "python",
   "pygments_lexer": "ipython3",
   "version": "3.10.10"
  },
  "orig_nbformat": 4
 },
 "nbformat": 4,
 "nbformat_minor": 2
}
