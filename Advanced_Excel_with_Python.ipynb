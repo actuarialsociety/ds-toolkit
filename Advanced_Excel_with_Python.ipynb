{
 "cells": [
  {
   "cell_type": "code",
   "execution_count": 6,
   "metadata": {},
   "outputs": [
    {
     "name": "stdout",
     "output_type": "stream",
     "text": [
      "Note: you may need to restart the kernel to use updated packages.\n"
     ]
    }
   ],
   "source": [
    "%pip install openpyxl appscript psutil xlwings -q"
   ]
  },
  {
   "cell_type": "code",
   "execution_count": 7,
   "metadata": {},
   "outputs": [],
   "source": [
    "# import necessary packages\n",
    "import numpy as np\n",
    "import pandas as pd\n",
    "import xlwings as xw\n",
    "\n",
    "# path to data we just downloaded\n",
    "# if you are interested in how modelpoints were created,\n",
    "# check out the `generating_modelpoints.ipynb` file in the repo\n",
    "DATA_XLS = \"./dstoolkit/model_point.xlsx\"\n",
    "\n",
    "# ingesting our data into a dataframe (df)\n",
    "\n",
    "\n",
    "# Open workbook in < Interactve Mode >\n",
    "#new = xw.Book()\n",
    "wb = xw.Book(DATA_XLS) # connect to a file that is open or in the current working directory"
   ]
  },
  {
   "attachments": {},
   "cell_type": "markdown",
   "metadata": {},
   "source": [
    "Get the process id `pid` of the Excel instances open \n"
   ]
  },
  {
   "cell_type": "code",
   "execution_count": 55,
   "metadata": {},
   "outputs": [
    {
     "data": {
      "text/plain": [
       "[47597]"
      ]
     },
     "execution_count": 55,
     "metadata": {},
     "output_type": "execute_result"
    }
   ],
   "source": [
    "xw.apps.keys()"
   ]
  },
  {
   "cell_type": "code",
   "execution_count": 56,
   "metadata": {},
   "outputs": [
    {
     "data": {
      "text/plain": [
       "Sheets([<Sheet [model_point.xlsx]Sheet1>])"
      ]
     },
     "execution_count": 56,
     "metadata": {},
     "output_type": "execute_result"
    }
   ],
   "source": [
    "wb.sheets"
   ]
  },
  {
   "cell_type": "code",
   "execution_count": 58,
   "metadata": {},
   "outputs": [
    {
     "data": {
      "text/plain": [
       "<Sheet [model_point.xlsx]Sheet1>"
      ]
     },
     "execution_count": 58,
     "metadata": {},
     "output_type": "execute_result"
    }
   ],
   "source": [
    "wb.sheets['Sheet1']"
   ]
  },
  {
   "attachments": {},
   "cell_type": "markdown",
   "metadata": {},
   "source": [
    "# `xwings` : `Interactive Mode`"
   ]
  },
  {
   "cell_type": "code",
   "execution_count": 41,
   "metadata": {},
   "outputs": [
    {
     "data": {
      "text/plain": [
       "Sheets([<Sheet [model_point.xlsx]Sheet1>])"
      ]
     },
     "execution_count": 41,
     "metadata": {},
     "output_type": "execute_result"
    }
   ],
   "source": [
    "# to list the sheets in the workbook in xlwings\n",
    "wb.sheets"
   ]
  },
  {
   "cell_type": "code",
   "execution_count": 45,
   "metadata": {},
   "outputs": [
    {
     "name": "stdout",
     "output_type": "stream",
     "text": [
      "policy_id\n"
     ]
    }
   ],
   "source": [
    "# Looking at the values in our newly created workbook\n",
    "print(wb.sheets[0][\"A1\"].value)"
   ]
  },
  {
   "attachments": {},
   "cell_type": "markdown",
   "metadata": {},
   "source": [
    "## Modifying Excel Workbook from `python`"
   ]
  },
  {
   "cell_type": "code",
   "execution_count": 34,
   "metadata": {},
   "outputs": [],
   "source": [
    "# Assigning values to a cell\n",
    "# Notice the mismatched dimensionality\n",
    "# Impact is similar to pasting table into a cell in Excel\n",
    "wb.sheets[0][\"A1\"].value = pd.DataFrame({\"A\": [1, 2, 3], \"B\": [4, 5, 6]})"
   ]
  },
  {
   "attachments": {},
   "cell_type": "markdown",
   "metadata": {},
   "source": [
    "We obsere, not only does our `pd.DataFrame` expands beyond `\"A1\"`,`\"A1\"` is not filled with the `pd.DataFrame` \n",
    "\n",
    "However if we assign a  single value to `\"A1\"` the value of `\"A1\"` itself is set. Seems to be related to the dimensionality mismatch. Is almost like pasting a table to a cell in Excel."
   ]
  },
  {
   "attachments": {},
   "cell_type": "markdown",
   "metadata": {},
   "source": [
    "# `xwings` : `Reader Mode`"
   ]
  },
  {
   "cell_type": "code",
   "execution_count": 2,
   "metadata": {},
   "outputs": [
    {
     "data": {
      "text/plain": [
       "['cashflows_seriatim_10K.xlsx',\n",
       " 'generate_model_points_for_cluster.ipynb',\n",
       " 'PV_shocks.xlsx',\n",
       " 'BasicTerm_ME_for_Cluster',\n",
       " 'pv_seriatim_10K_lapse50.xlsx',\n",
       " 'pv_seriatim_10K.xlsx',\n",
       " 'cashflows_seriatim_10K_lapse50.xlsx',\n",
       " 'pv_seriatim_10K_mort15.xlsx',\n",
       " 'cluster_model_points.ipynb',\n",
       " 'cashflows_seriatim_10K_mort15.xlsx']"
      ]
     },
     "execution_count": 2,
     "metadata": {},
     "output_type": "execute_result"
    }
   ],
   "source": [
    "# Reader mode: read\n",
    "import os\n",
    "os.listdir(\"cluster\")"
   ]
  },
  {
   "cell_type": "code",
   "execution_count": 12,
   "metadata": {},
   "outputs": [
    {
     "data": {
      "text/plain": [
       "Sheets([<Sheet [cashflows_seriatim_10K_lapse50.xlsx]Sheet1>])"
      ]
     },
     "execution_count": 12,
     "metadata": {},
     "output_type": "execute_result"
    }
   ],
   "source": [
    "base = xw.Book('cluster/cashflows_seriatim_10K_lapse50.xlsx')\n",
    "base.sheets"
   ]
  },
  {
   "cell_type": "code",
   "execution_count": null,
   "metadata": {},
   "outputs": [],
   "source": []
  },
  {
   "cell_type": "code",
   "execution_count": 13,
   "metadata": {},
   "outputs": [
    {
     "ename": "FileNotFoundError",
     "evalue": "No such file: 'cluster/cashflows_seriatim_10K_lapse50'",
     "output_type": "error",
     "traceback": [
      "\u001b[0;31m---------------------------------------------------------------------------\u001b[0m",
      "\u001b[0;31mFileNotFoundError\u001b[0m                         Traceback (most recent call last)",
      "Cell \u001b[0;32mIn[13], line 1\u001b[0m\n\u001b[0;32m----> 1\u001b[0m lapse50 \u001b[39m=\u001b[39m xw\u001b[39m.\u001b[39;49mBook(\u001b[39m'\u001b[39;49m\u001b[39mcluster/cashflows_seriatim_10K_lapse50\u001b[39;49m\u001b[39m'\u001b[39;49m)\n\u001b[1;32m      2\u001b[0m lapse50\u001b[39m.\u001b[39msheets\n",
      "File \u001b[0;32m~/dev/dstoolkit/.conda/lib/python3.10/site-packages/xlwings/main.py:927\u001b[0m, in \u001b[0;36mBook.__init__\u001b[0;34m(self, fullname, update_links, read_only, format, password, write_res_password, ignore_read_only_recommended, origin, delimiter, editable, notify, converter, add_to_mru, local, corrupt_load, impl, json, mode, engine)\u001b[0m\n\u001b[1;32m    925\u001b[0m     \u001b[39mif\u001b[39;00m \u001b[39mnot\u001b[39;00m app:\n\u001b[1;32m    926\u001b[0m         app \u001b[39m=\u001b[39m App(add_book\u001b[39m=\u001b[39m\u001b[39mFalse\u001b[39;00m)\n\u001b[0;32m--> 927\u001b[0m     impl \u001b[39m=\u001b[39m app\u001b[39m.\u001b[39;49mbooks\u001b[39m.\u001b[39;49mopen(\n\u001b[1;32m    928\u001b[0m         fullname,\n\u001b[1;32m    929\u001b[0m         update_links,\n\u001b[1;32m    930\u001b[0m         read_only,\n\u001b[1;32m    931\u001b[0m         \u001b[39mformat\u001b[39;49m,\n\u001b[1;32m    932\u001b[0m         password,\n\u001b[1;32m    933\u001b[0m         write_res_password,\n\u001b[1;32m    934\u001b[0m         ignore_read_only_recommended,\n\u001b[1;32m    935\u001b[0m         origin,\n\u001b[1;32m    936\u001b[0m         delimiter,\n\u001b[1;32m    937\u001b[0m         editable,\n\u001b[1;32m    938\u001b[0m         notify,\n\u001b[1;32m    939\u001b[0m         converter,\n\u001b[1;32m    940\u001b[0m         add_to_mru,\n\u001b[1;32m    941\u001b[0m         local,\n\u001b[1;32m    942\u001b[0m         corrupt_load,\n\u001b[1;32m    943\u001b[0m     )\u001b[39m.\u001b[39mimpl\n\u001b[1;32m    944\u001b[0m \u001b[39melif\u001b[39;00m \u001b[39mlen\u001b[39m(candidates) \u001b[39m>\u001b[39m \u001b[39m1\u001b[39m:\n\u001b[1;32m    945\u001b[0m     \u001b[39mraise\u001b[39;00m \u001b[39mException\u001b[39;00m(\n\u001b[1;32m    946\u001b[0m         \u001b[39m\"\u001b[39m\u001b[39mWorkbook \u001b[39m\u001b[39m'\u001b[39m\u001b[39m%s\u001b[39;00m\u001b[39m'\u001b[39m\u001b[39m is open in more than one Excel instance.\u001b[39m\u001b[39m\"\u001b[39m\n\u001b[1;32m    947\u001b[0m         \u001b[39m%\u001b[39m fullname\n\u001b[1;32m    948\u001b[0m     )\n",
      "File \u001b[0;32m~/dev/dstoolkit/.conda/lib/python3.10/site-packages/xlwings/main.py:5048\u001b[0m, in \u001b[0;36mBooks.open\u001b[0;34m(self, fullname, update_links, read_only, format, password, write_res_password, ignore_read_only_recommended, origin, delimiter, editable, notify, converter, add_to_mru, local, corrupt_load, json)\u001b[0m\n\u001b[1;32m   5046\u001b[0m fullname \u001b[39m=\u001b[39m utils\u001b[39m.\u001b[39mfspath(fullname)\n\u001b[1;32m   5047\u001b[0m \u001b[39mif\u001b[39;00m \u001b[39mnot\u001b[39;00m os\u001b[39m.\u001b[39mpath\u001b[39m.\u001b[39mexists(fullname):\n\u001b[0;32m-> 5048\u001b[0m     \u001b[39mraise\u001b[39;00m \u001b[39mFileNotFoundError\u001b[39;00m(\u001b[39m\"\u001b[39m\u001b[39mNo such file: \u001b[39m\u001b[39m'\u001b[39m\u001b[39m%s\u001b[39;00m\u001b[39m'\u001b[39m\u001b[39m\"\u001b[39m \u001b[39m%\u001b[39m fullname)\n\u001b[1;32m   5049\u001b[0m fullname \u001b[39m=\u001b[39m os\u001b[39m.\u001b[39mpath\u001b[39m.\u001b[39mrealpath(fullname)\n\u001b[1;32m   5050\u001b[0m _, name \u001b[39m=\u001b[39m os\u001b[39m.\u001b[39mpath\u001b[39m.\u001b[39msplit(fullname)\n",
      "\u001b[0;31mFileNotFoundError\u001b[0m: No such file: 'cluster/cashflows_seriatim_10K_lapse50'"
     ]
    }
   ],
   "source": [
    "lapse50 = xw.Book('cluster/cashflows_seriatim_10K_lapse50')\n",
    "lapse50.sheets"
   ]
  },
  {
   "cell_type": "code",
   "execution_count": null,
   "metadata": {},
   "outputs": [],
   "source": []
  }
 ],
 "metadata": {
  "kernelspec": {
   "display_name": "Python 3",
   "language": "python",
   "name": "python3"
  },
  "language_info": {
   "codemirror_mode": {
    "name": "ipython",
    "version": 3
   },
   "file_extension": ".py",
   "mimetype": "text/x-python",
   "name": "python",
   "nbconvert_exporter": "python",
   "pygments_lexer": "ipython3",
   "version": "3.10.10"
  },
  "orig_nbformat": 4,
  "vscode": {
   "interpreter": {
    "hash": "f6d9bc0a9092f2a46cbf7759509c214af57f5c4436f9f797145ab10897d6cd07"
   }
  }
 },
 "nbformat": 4,
 "nbformat_minor": 2
}
