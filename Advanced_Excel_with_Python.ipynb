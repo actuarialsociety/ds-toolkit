{
 "cells": [
  {
   "cell_type": "code",
   "execution_count": null,
   "metadata": {},
   "outputs": [],
   "source": [
    "# import necessary packages\n",
    "import numpy as np\n",
    "import pandas as pd\n",
    "\n",
    "# path to data we just downloaded\n",
    "# if you are interested in how modelpoints were created,\n",
    "# check out the `generating_modelpoints.ipynb` file in the repo\n",
    "DATA_XLS = \"./dstoolkit/model_point.xlsx\"\n",
    "\n",
    "# ingesting our data into a dataframe (df)"
   ]
  },
  {
   "attachments": {},
   "cell_type": "markdown",
   "metadata": {},
   "source": [
    "### Creating & editting spreadsheets from CLI with `openpyxl` & 'xlwings`"
   ]
  },
  {
   "cell_type": "code",
   "execution_count": 4,
   "metadata": {},
   "outputs": [
    {
     "name": "stdout",
     "output_type": "stream",
     "text": [
      "Requirement already satisfied: openpyxl in ./.conda/lib/python3.10/site-packages (3.1.2)\n",
      "Requirement already satisfied: appscript in ./.conda/lib/python3.10/site-packages (1.2.2)\n",
      "Requirement already satisfied: psutil in ./.conda/lib/python3.10/site-packages (5.9.0)\n",
      "Requirement already satisfied: xlwings in ./.conda/lib/python3.10/site-packages (0.30.4)\n",
      "Requirement already satisfied: et-xmlfile in ./.conda/lib/python3.10/site-packages (from openpyxl) (1.1.0)\n",
      "Requirement already satisfied: lxml>=4.7.1 in ./.conda/lib/python3.10/site-packages (from appscript) (4.9.2)\n",
      "Note: you may need to restart the kernel to use updated packages.\n"
     ]
    }
   ],
   "source": [
    "%pip install openpyxl appscript psutil xlwings"
   ]
  },
  {
   "cell_type": "code",
   "execution_count": 5,
   "metadata": {},
   "outputs": [
    {
     "ename": "XlwingsError",
     "evalue": "Make sure to have \"appscript\" and \"psutil\", dependencies of xlwings, installed.",
     "output_type": "error",
     "traceback": [
      "\u001b[0;31m---------------------------------------------------------------------------\u001b[0m",
      "\u001b[0;31mXlwingsError\u001b[0m                              Traceback (most recent call last)",
      "Cell \u001b[0;32mIn[5], line 7\u001b[0m\n\u001b[1;32m      2\u001b[0m \u001b[39mimport\u001b[39;00m \u001b[39mpandas\u001b[39;00m \u001b[39mas\u001b[39;00m \u001b[39mpd\u001b[39;00m\n\u001b[1;32m      4\u001b[0m \u001b[39m# Interactive mode: open new workbook\u001b[39;00m\n\u001b[1;32m      5\u001b[0m \u001b[39m# write pd.DataFrame to \"A1\" then read it back\u001b[39;00m\n\u001b[0;32m----> 7\u001b[0m book \u001b[39m=\u001b[39m xw\u001b[39m.\u001b[39;49mBook()\n\u001b[1;32m      8\u001b[0m sheet \u001b[39m=\u001b[39m book\u001b[39m.\u001b[39msheets[\u001b[39m0\u001b[39m]\n\u001b[1;32m      9\u001b[0m sheet\u001b[39m.\u001b[39mrange(\u001b[39m\"\u001b[39m\u001b[39mA1\u001b[39m\u001b[39m\"\u001b[39m)\u001b[39m.\u001b[39mvalue \u001b[39m=\u001b[39m pd\u001b[39m.\u001b[39mDataFrame({\u001b[39m\"\u001b[39m\u001b[39mA\u001b[39m\u001b[39m\"\u001b[39m: [\u001b[39m1\u001b[39m, \u001b[39m2\u001b[39m, \u001b[39m3\u001b[39m], \u001b[39m\"\u001b[39m\u001b[39mB\u001b[39m\u001b[39m\"\u001b[39m: [\u001b[39m4\u001b[39m, \u001b[39m5\u001b[39m, \u001b[39m6\u001b[39m]})\n",
      "File \u001b[0;32m~/dev/dstoolkit/.conda/lib/python3.10/site-packages/xlwings/main.py:953\u001b[0m, in \u001b[0;36mBook.__init__\u001b[0;34m(self, fullname, update_links, read_only, format, password, write_res_password, ignore_read_only_recommended, origin, delimiter, editable, notify, converter, add_to_mru, local, corrupt_load, impl, json, mode, engine)\u001b[0m\n\u001b[1;32m    950\u001b[0m         impl \u001b[39m=\u001b[39m candidates[\u001b[39m0\u001b[39m][\u001b[39m1\u001b[39m]\u001b[39m.\u001b[39mimpl\n\u001b[1;32m    951\u001b[0m \u001b[39melse\u001b[39;00m:\n\u001b[1;32m    952\u001b[0m     \u001b[39m# Open Excel if necessary and create a new workbook\u001b[39;00m\n\u001b[0;32m--> 953\u001b[0m     \u001b[39mif\u001b[39;00m apps\u001b[39m.\u001b[39;49mactive:\n\u001b[1;32m    954\u001b[0m         impl \u001b[39m=\u001b[39m apps\u001b[39m.\u001b[39mactive\u001b[39m.\u001b[39mbooks\u001b[39m.\u001b[39madd()\u001b[39m.\u001b[39mimpl\n\u001b[1;32m    955\u001b[0m     \u001b[39melse\u001b[39;00m:\n",
      "File \u001b[0;32m~/dev/dstoolkit/.conda/lib/python3.10/site-packages/xlwings/main.py:219\u001b[0m, in \u001b[0;36mApps.active\u001b[0;34m(self)\u001b[0m\n\u001b[1;32m    212\u001b[0m \u001b[39m@property\u001b[39m\n\u001b[1;32m    213\u001b[0m \u001b[39mdef\u001b[39;00m \u001b[39mactive\u001b[39m(\u001b[39mself\u001b[39m):\n\u001b[1;32m    214\u001b[0m \u001b[39m    \u001b[39m\u001b[39m\"\"\"\u001b[39;00m\n\u001b[1;32m    215\u001b[0m \u001b[39m    Returns the active app.\u001b[39;00m\n\u001b[1;32m    216\u001b[0m \n\u001b[1;32m    217\u001b[0m \u001b[39m    .. versionadded:: 0.9.0\u001b[39;00m\n\u001b[1;32m    218\u001b[0m \u001b[39m    \"\"\"\u001b[39;00m\n\u001b[0;32m--> 219\u001b[0m     \u001b[39mfor\u001b[39;00m app \u001b[39min\u001b[39;00m \u001b[39mself\u001b[39;49m\u001b[39m.\u001b[39;49mimpl:\n\u001b[1;32m    220\u001b[0m         \u001b[39mreturn\u001b[39;00m App(impl\u001b[39m=\u001b[39mapp)\n\u001b[1;32m    221\u001b[0m     \u001b[39mreturn\u001b[39;00m \u001b[39mNone\u001b[39;00m\n",
      "File \u001b[0;32m~/dev/dstoolkit/.conda/lib/python3.10/site-packages/xlwings/main.py:5162\u001b[0m, in \u001b[0;36mActiveEngineApps.impl\u001b[0;34m(self)\u001b[0m\n\u001b[1;32m   5157\u001b[0m     \u001b[39mraise\u001b[39;00m XlwingsError(\n\u001b[1;32m   5158\u001b[0m         \u001b[39m\"\u001b[39m\u001b[39mThe interactive mode of xlwings is only supported on Windows and \u001b[39m\u001b[39m\"\u001b[39m\n\u001b[1;32m   5159\u001b[0m         \u001b[39m\"\u001b[39m\u001b[39mmacOS. On Linux, you can use xlwings Server or xlwings Reader.\u001b[39m\u001b[39m\"\u001b[39m\n\u001b[1;32m   5160\u001b[0m     )\n\u001b[1;32m   5161\u001b[0m \u001b[39melif\u001b[39;00m sys\u001b[39m.\u001b[39mplatform\u001b[39m.\u001b[39mstartswith(\u001b[39m\"\u001b[39m\u001b[39mdarwin\u001b[39m\u001b[39m\"\u001b[39m):\n\u001b[0;32m-> 5162\u001b[0m     \u001b[39mraise\u001b[39;00m XlwingsError(\n\u001b[1;32m   5163\u001b[0m         \u001b[39m'\u001b[39m\u001b[39mMake sure to have \u001b[39m\u001b[39m\"\u001b[39m\u001b[39mappscript\u001b[39m\u001b[39m\"\u001b[39m\u001b[39m and \u001b[39m\u001b[39m\"\u001b[39m\u001b[39mpsutil\u001b[39m\u001b[39m\"\u001b[39m\u001b[39m, \u001b[39m\u001b[39m'\u001b[39m\n\u001b[1;32m   5164\u001b[0m         \u001b[39m\"\u001b[39m\u001b[39mdependencies of xlwings, installed.\u001b[39m\u001b[39m\"\u001b[39m\n\u001b[1;32m   5165\u001b[0m     )\n\u001b[1;32m   5166\u001b[0m \u001b[39melif\u001b[39;00m sys\u001b[39m.\u001b[39mplatform\u001b[39m.\u001b[39mstartswith(\u001b[39m\"\u001b[39m\u001b[39mwin\u001b[39m\u001b[39m\"\u001b[39m):\n\u001b[1;32m   5167\u001b[0m     \u001b[39mraise\u001b[39;00m XlwingsError(\n\u001b[1;32m   5168\u001b[0m         \u001b[39m'\u001b[39m\u001b[39mMake sure to have \u001b[39m\u001b[39m\"\u001b[39m\u001b[39mpywin32\u001b[39m\u001b[39m\"\u001b[39m\u001b[39m, a dependency of xlwings, installed.\u001b[39m\u001b[39m'\u001b[39m\n\u001b[1;32m   5169\u001b[0m     )\n",
      "\u001b[0;31mXlwingsError\u001b[0m: Make sure to have \"appscript\" and \"psutil\", dependencies of xlwings, installed."
     ]
    }
   ],
   "source": [
    "import xlwings as xw\n",
    "import pandas as pd\n",
    "\n",
    "# Interactive mode: open new workbook\n",
    "# write pd.DataFrame to \"A1\" then read it back\n",
    "\n",
    "book = xw.Book()\n",
    "sheet = book.sheets[0]\n",
    "sheet.range(\"A1\").value = pd.DataFrame({\"A\": [1, 2, 3], \"B\": [4, 5, 6]})\n",
    "df = sheet.range(\"A1\").options(pd.DataFrame, expand=\"table\").value\n"
   ]
  },
  {
   "cell_type": "code",
   "execution_count": null,
   "metadata": {},
   "outputs": [],
   "source": []
  }
 ],
 "metadata": {
  "kernelspec": {
   "display_name": "Python 3",
   "language": "python",
   "name": "python3"
  },
  "language_info": {
   "codemirror_mode": {
    "name": "ipython",
    "version": 3
   },
   "file_extension": ".py",
   "mimetype": "text/x-python",
   "name": "python",
   "nbconvert_exporter": "python",
   "pygments_lexer": "ipython3",
   "version": "3.10.10"
  },
  "orig_nbformat": 4
 },
 "nbformat": 4,
 "nbformat_minor": 2
}
