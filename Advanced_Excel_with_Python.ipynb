{
 "cells": [
  {
   "cell_type": "code",
   "execution_count": null,
   "metadata": {},
   "outputs": [],
   "source": [
    "# import necessary packages\n",
    "import numpy as np\n",
    "import pandas as pd\n",
    "\n",
    "# path to data we just downloaded\n",
    "# if you are interested in how modelpoints were created,\n",
    "# check out the `generating_modelpoints.ipynb` file in the repo\n",
    "DATA_XLS = \"./dstoolkit/model_point.xlsx\"\n",
    "\n",
    "# ingesting our data into a dataframe (df)"
   ]
  },
  {
   "attachments": {},
   "cell_type": "markdown",
   "metadata": {},
   "source": [
    "### Creating & editting spreadsheets from CLI with `openpyxl` & 'xlwings`"
   ]
  },
  {
   "cell_type": "code",
   "execution_count": 6,
   "metadata": {},
   "outputs": [
    {
     "name": "stdout",
     "output_type": "stream",
     "text": [
      "Requirement already satisfied: openpyxl in ./.conda/lib/python3.10/site-packages (3.1.2)\n",
      "Requirement already satisfied: appscript in ./.conda/lib/python3.10/site-packages (1.2.2)\n",
      "Requirement already satisfied: psutil in ./.conda/lib/python3.10/site-packages (5.9.0)\n",
      "Requirement already satisfied: xlwings in ./.conda/lib/python3.10/site-packages (0.30.4)\n",
      "Requirement already satisfied: et-xmlfile in ./.conda/lib/python3.10/site-packages (from openpyxl) (1.1.0)\n",
      "Requirement already satisfied: lxml>=4.7.1 in ./.conda/lib/python3.10/site-packages (from appscript) (4.9.2)\n",
      "Note: you may need to restart the kernel to use updated packages.\n"
     ]
    }
   ],
   "source": [
    "%pip install openpyxl appscript psutil xlwings"
   ]
  },
  {
   "cell_type": "code",
   "execution_count": 16,
   "metadata": {},
   "outputs": [],
   "source": [
    "import xlwings as xwngs # non-standard alias, I just prefer\n",
    "import pandas as pd\n",
    "\n",
    "# with xw one can open new workbook in Interactve mode\n",
    "book = xwngs.Book()"
   ]
  },
  {
   "attachments": {},
   "cell_type": "markdown",
   "metadata": {},
   "source": [
    "# `xwings` Interactive Mode"
   ]
  },
  {
   "cell_type": "code",
   "execution_count": 21,
   "metadata": {},
   "outputs": [
    {
     "data": {
      "text/plain": [
       "Sheets([<Sheet [Book8]Sheet1>])"
      ]
     },
     "execution_count": 21,
     "metadata": {},
     "output_type": "execute_result"
    }
   ],
   "source": [
    "# to list the sheets in the workbook in xlwings\n",
    "book.sheets"
   ]
  },
  {
   "cell_type": "code",
   "execution_count": 25,
   "metadata": {},
   "outputs": [
    {
     "name": "stdout",
     "output_type": "stream",
     "text": [
      "None\n"
     ]
    }
   ],
   "source": [
    "# We wish to then change the values of cells in our workbook sheet\n",
    "print(book.sheets[0][\"A1\"].value)"
   ]
  },
  {
   "cell_type": "code",
   "execution_count": 27,
   "metadata": {},
   "outputs": [],
   "source": [
    "book.sheets[0][\"A1\"].value = pd.DataFrame({\"A\": [1, 2, 3], \"B\": [4, 5, 6]})"
   ]
  },
  {
   "attachments": {},
   "cell_type": "markdown",
   "metadata": {},
   "source": [
    "We obsere, not only does our `pd.DataFrame` expands beyond `\"A1\"`,`\"A1\"` is not filled with the `pd.DataFrame` \n",
    "\n",
    "However if we assign a  single value to `\"A1\"` the value of `\"A1\"` itself is set. Seems to be related to the dimensionality mismatch. Is almost like pasting a table to a cell in Excel."
   ]
  },
  {
   "cell_type": "code",
   "execution_count": 30,
   "metadata": {},
   "outputs": [
    {
     "name": "stdout",
     "output_type": "stream",
     "text": [
      "None\n"
     ]
    }
   ],
   "source": [
    "print(book.sheets[0][\"A1\"].value)"
   ]
  },
  {
   "cell_type": "code",
   "execution_count": null,
   "metadata": {},
   "outputs": [],
   "source": []
  }
 ],
 "metadata": {
  "kernelspec": {
   "display_name": "Python 3",
   "language": "python",
   "name": "python3"
  },
  "language_info": {
   "codemirror_mode": {
    "name": "ipython",
    "version": 3
   },
   "file_extension": ".py",
   "mimetype": "text/x-python",
   "name": "python",
   "nbconvert_exporter": "python",
   "pygments_lexer": "ipython3",
   "version": "3.10.10"
  },
  "orig_nbformat": 4
 },
 "nbformat": 4,
 "nbformat_minor": 2
}
