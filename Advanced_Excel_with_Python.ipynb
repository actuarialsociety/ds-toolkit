{
 "cells": [
  {
   "cell_type": "code",
   "execution_count": 6,
   "metadata": {},
   "outputs": [
    {
     "name": "stdout",
     "output_type": "stream",
     "text": [
      "Note: you may need to restart the kernel to use updated packages.\n"
     ]
    }
   ],
   "source": [
    "%pip install openpyxl appscript psutil xlwings -q"
   ]
  },
  {
   "cell_type": "code",
   "execution_count": 7,
   "metadata": {},
   "outputs": [],
   "source": [
    "# import necessary packages\n",
    "import numpy as np\n",
    "import pandas as pd\n",
    "import xlwings as xw\n",
    "\n",
    "# path to data we just downloaded\n",
    "# if you are interested in how modelpoints were created,\n",
    "# check out the `generating_modelpoints.ipynb` file in the repo\n",
    "DATA_XLS = \"./dstoolkit/model_point.xlsx\"\n",
    "\n",
    "# ingesting our data into a dataframe (df)\n",
    "\n",
    "\n",
    "# Open workbook in < Interactve Mode >\n",
    "#new = xw.Book()\n",
    "wb = xw.Book(DATA_XLS) # connect to a file that is open or in the current working directory"
   ]
  },
  {
   "attachments": {},
   "cell_type": "markdown",
   "metadata": {},
   "source": [
    "Get the process id `pid` of the Excel instances open \n"
   ]
  },
  {
   "cell_type": "code",
   "execution_count": 55,
   "metadata": {},
   "outputs": [
    {
     "data": {
      "text/plain": [
       "[47597]"
      ]
     },
     "execution_count": 55,
     "metadata": {},
     "output_type": "execute_result"
    }
   ],
   "source": [
    "xw.apps.keys()"
   ]
  },
  {
   "cell_type": "code",
   "execution_count": 56,
   "metadata": {},
   "outputs": [
    {
     "data": {
      "text/plain": [
       "Sheets([<Sheet [model_point.xlsx]Sheet1>])"
      ]
     },
     "execution_count": 56,
     "metadata": {},
     "output_type": "execute_result"
    }
   ],
   "source": [
    "wb.sheets"
   ]
  },
  {
   "cell_type": "code",
   "execution_count": 58,
   "metadata": {},
   "outputs": [
    {
     "data": {
      "text/plain": [
       "<Sheet [model_point.xlsx]Sheet1>"
      ]
     },
     "execution_count": 58,
     "metadata": {},
     "output_type": "execute_result"
    }
   ],
   "source": [
    "wb.sheets['Sheet1']"
   ]
  },
  {
   "attachments": {},
   "cell_type": "markdown",
   "metadata": {},
   "source": [
    "# `xwings` : `Interactive Mode`"
   ]
  },
  {
   "cell_type": "code",
   "execution_count": 41,
   "metadata": {},
   "outputs": [
    {
     "data": {
      "text/plain": [
       "Sheets([<Sheet [model_point.xlsx]Sheet1>])"
      ]
     },
     "execution_count": 41,
     "metadata": {},
     "output_type": "execute_result"
    }
   ],
   "source": [
    "# to list the sheets in the workbook in xlwings\n",
    "wb.sheets"
   ]
  },
  {
   "cell_type": "code",
   "execution_count": 45,
   "metadata": {},
   "outputs": [
    {
     "name": "stdout",
     "output_type": "stream",
     "text": [
      "policy_id\n"
     ]
    }
   ],
   "source": [
    "# Looking at the values in our newly created workbook\n",
    "print(wb.sheets[0][\"A1\"].value)"
   ]
  },
  {
   "attachments": {},
   "cell_type": "markdown",
   "metadata": {},
   "source": [
    "## Modifying Excel Workbook from `python`"
   ]
  },
  {
   "cell_type": "code",
   "execution_count": 34,
   "metadata": {},
   "outputs": [],
   "source": [
    "# Assigning values to a cell\n",
    "# Notice the mismatched dimensionality\n",
    "# Impact is similar to pasting table into a cell in Excel\n",
    "wb.sheets[0][\"A1\"].value = pd.DataFrame({\"A\": [1, 2, 3], \"B\": [4, 5, 6]})"
   ]
  },
  {
   "attachments": {},
   "cell_type": "markdown",
   "metadata": {},
   "source": [
    "We obsere, not only does our `pd.DataFrame` expands beyond `\"A1\"`,`\"A1\"` is not filled with the `pd.DataFrame` \n",
    "\n",
    "However if we assign a  single value to `\"A1\"` the value of `\"A1\"` itself is set. Seems to be related to the dimensionality mismatch. Is almost like pasting a table to a cell in Excel."
   ]
  },
  {
   "attachments": {},
   "cell_type": "markdown",
   "metadata": {},
   "source": [
    "# `xwings` : `Reader Mode`"
   ]
  },
  {
   "cell_type": "code",
   "execution_count": 2,
   "metadata": {},
   "outputs": [
    {
     "data": {
      "text/plain": [
       "['cashflows_seriatim_10K.xlsx',\n",
       " 'generate_model_points_for_cluster.ipynb',\n",
       " 'PV_shocks.xlsx',\n",
       " 'BasicTerm_ME_for_Cluster',\n",
       " 'pv_seriatim_10K_lapse50.xlsx',\n",
       " 'pv_seriatim_10K.xlsx',\n",
       " 'cashflows_seriatim_10K_lapse50.xlsx',\n",
       " 'pv_seriatim_10K_mort15.xlsx',\n",
       " 'cluster_model_points.ipynb',\n",
       " 'cashflows_seriatim_10K_mort15.xlsx']"
      ]
     },
     "execution_count": 2,
     "metadata": {},
     "output_type": "execute_result"
    }
   ],
   "source": [
    "# Reader mode: read\n",
    "import os\n",
    "os.listdir(\"cluster\")"
   ]
  },
  {
   "attachments": {},
   "cell_type": "markdown",
   "metadata": {},
   "source": []
  },
  {
   "attachments": {},
   "cell_type": "markdown",
   "metadata": {},
   "source": [
    "### Loading our data into `xw.sheet` objects?"
   ]
  },
  {
   "cell_type": "code",
   "execution_count": 14,
   "metadata": {},
   "outputs": [
    {
     "data": {
      "text/plain": [
       "Sheets([<Sheet [cashflows_seriatim_10K.xlsx]Sheet1>])"
      ]
     },
     "execution_count": 14,
     "metadata": {},
     "output_type": "execute_result"
    }
   ],
   "source": [
    "base = xw.Book('cluster/cashflows_seriatim_10K.xlsx')\n",
    "base.sheets"
   ]
  },
  {
   "cell_type": "code",
   "execution_count": 15,
   "metadata": {},
   "outputs": [
    {
     "data": {
      "text/plain": [
       "Sheets([<Sheet [cashflows_seriatim_10K_lapse50.xlsx]Sheet1>])"
      ]
     },
     "execution_count": 15,
     "metadata": {},
     "output_type": "execute_result"
    }
   ],
   "source": [
    "lapse50 = xw.Book('cluster/cashflows_seriatim_10K_lapse50.xlsx')\n",
    "lapse50.sheets"
   ]
  },
  {
   "cell_type": "code",
   "execution_count": 17,
   "metadata": {},
   "outputs": [
    {
     "data": {
      "text/plain": [
       "Sheets([<Sheet [cashflows_seriatim_10K_mort15.xlsx]Sheet1>])"
      ]
     },
     "execution_count": 17,
     "metadata": {},
     "output_type": "execute_result"
    }
   ],
   "source": [
    "mort15 = xw.Book('cluster/cashflows_seriatim_10K_mort15.xlsx')\n",
    "mort15.sheets"
   ]
  },
  {
   "attachments": {},
   "cell_type": "markdown",
   "metadata": {},
   "source": [
    "### What can one do with a sheet object?"
   ]
  },
  {
   "cell_type": "code",
   "execution_count": 19,
   "metadata": {},
   "outputs": [
    {
     "data": {
      "text/plain": [
       "['__class__',\n",
       " '__delattr__',\n",
       " '__dict__',\n",
       " '__dir__',\n",
       " '__doc__',\n",
       " '__enter__',\n",
       " '__eq__',\n",
       " '__exit__',\n",
       " '__format__',\n",
       " '__ge__',\n",
       " '__getattribute__',\n",
       " '__gt__',\n",
       " '__hash__',\n",
       " '__init__',\n",
       " '__init_subclass__',\n",
       " '__le__',\n",
       " '__lt__',\n",
       " '__module__',\n",
       " '__ne__',\n",
       " '__new__',\n",
       " '__reduce__',\n",
       " '__reduce_ex__',\n",
       " '__repr__',\n",
       " '__setattr__',\n",
       " '__sizeof__',\n",
       " '__str__',\n",
       " '__subclasshook__',\n",
       " '__weakref__',\n",
       " 'activate',\n",
       " 'api',\n",
       " 'app',\n",
       " 'caller',\n",
       " 'close',\n",
       " 'fullname',\n",
       " 'impl',\n",
       " 'json',\n",
       " 'macro',\n",
       " 'name',\n",
       " 'names',\n",
       " 'render_template',\n",
       " 'save',\n",
       " 'selection',\n",
       " 'set_mock_caller',\n",
       " 'sheet_names',\n",
       " 'sheets',\n",
       " 'to_pdf']"
      ]
     },
     "execution_count": 19,
     "metadata": {},
     "output_type": "execute_result"
    }
   ],
   "source": [
    "dir(base)"
   ]
  },
  {
   "cell_type": "code",
   "execution_count": 20,
   "metadata": {},
   "outputs": [
    {
     "data": {
      "text/plain": [
       "[]"
      ]
     },
     "execution_count": 20,
     "metadata": {},
     "output_type": "execute_result"
    }
   ],
   "source": [
    "base.names"
   ]
  },
  {
   "cell_type": "code",
   "execution_count": null,
   "metadata": {},
   "outputs": [],
   "source": []
  }
 ],
 "metadata": {
  "kernelspec": {
   "display_name": "Python 3",
   "language": "python",
   "name": "python3"
  },
  "language_info": {
   "codemirror_mode": {
    "name": "ipython",
    "version": 3
   },
   "file_extension": ".py",
   "mimetype": "text/x-python",
   "name": "python",
   "nbconvert_exporter": "python",
   "pygments_lexer": "ipython3",
   "version": "3.10.10"
  },
  "orig_nbformat": 4,
  "vscode": {
   "interpreter": {
    "hash": "f6d9bc0a9092f2a46cbf7759509c214af57f5c4436f9f797145ab10897d6cd07"
   }
  }
 },
 "nbformat": 4,
 "nbformat_minor": 2
}
