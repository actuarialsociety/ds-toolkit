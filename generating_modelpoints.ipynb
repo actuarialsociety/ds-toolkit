{
  "cells": [
    {
      "cell_type": "markdown",
      "metadata": {
        "id": "m9g0wOZcvtTy"
      },
      "source": [
        "Following guide from [lifelib](https://lifelib.io/libraries/notebooks/basiclife/generate_model_points.html)\n",
        "\n",
        "# [Generating model points for ASL](https://lifelib.io/libraries/notebooks/basiclife/generate_model_points_ASL.html)"
      ]
    },
    {
      "cell_type": "code",
      "execution_count": 1,
      "metadata": {
        "id": "bbh389WfvjC8"
      },
      "outputs": [],
      "source": [
        "import numpy as np\n",
        "from numpy.random import default_rng  # Requires NumPy 1.17 or newer\n",
        "import pandas as pd\n",
        "import uuid\n",
        "\n",
        "rng = default_rng(12345)\n",
        "\n",
        "# Number of Model Points\n",
        "point_size = 10000\n",
        "\n",
        "# Issue Age (Integer): 20 - 59 year old\n",
        "age_at_entry = rng.integers(low=20, high=60, size=point_size)\n",
        "\n",
        "# Sex (Char)\n",
        "Sex = [\n",
        "    \"M\",\n",
        "    \"F\"\n",
        "]\n",
        "\n",
        "sex = np.fromiter(map(lambda i: Sex[i], rng.integers(low=0, high=len(Sex), size=point_size)), np.dtype('<U1'))\n",
        "\n",
        "# Policy Term (Integer): 10, 15, 20\n",
        "policy_term = rng.integers(low=0, high=3, size=point_size) * 5 + 10\n",
        "\n",
        "\n",
        "# Sum Assured (Float): 10000 - 1000000\n",
        "sum_assured = np.round((1000000 - 10000) * rng.random(size=point_size) + 10000, -3)\n",
        "\n",
        "# Issue Date:\n",
        "# For existing policies, issue dates are set so that the policies are in-force on 2022/1/1.\n",
        "# For new business policie,issue dates are within 3 years from 2022/1/1.\n",
        "\n",
        "dur_offset = (policy_term + 3) * 12 * rng.random(size=point_size) - 36\n",
        "mth_offset = (dur_offset // 1).astype(int)\n",
        "day_offset = 1 - (dur_offset - mth_offset)\n",
        "issue_mth = pd.Series([pd.Period('2022-01', 'M')] * point_size) -1 - mth_offset\n",
        "day_offset = (np.ceil(issue_mth.dt.days_in_month * day_offset)).astype(int)\n",
        "issue_date = (issue_mth.dt.to_timestamp().dt.to_period('D') -1 + day_offset).dt.to_timestamp().to_numpy()\n",
        "\n",
        "# Policy Count (Integer):\n",
        "policy_count = np.rint(100 * rng.random(size=point_size)).astype(int)\n",
        "\n",
        "# Payment Frequency\n",
        "payment_freq = rng.choice([1, 2, 12], size=point_size)\n",
        "\n",
        "# Premium Payment Term\n",
        "short_paidup = pd.Series(rng.choice([True, False], size=point_size))\n",
        "polterm = pd.Series(policy_term)\n",
        "payment_term = polterm.mask(short_paidup & (polterm==10), 5).mask(short_paidup & (polterm>=15), 10).to_numpy()"
      ]
    },
    {
      "cell_type": "code",
      "execution_count": 2,
      "metadata": {
        "id": "ivkV1ZshzNac"
      },
      "outputs": [
        {
          "data": {
            "text/html": [
              "<div>\n",
              "<style scoped>\n",
              "    .dataframe tbody tr th:only-of-type {\n",
              "        vertical-align: middle;\n",
              "    }\n",
              "\n",
              "    .dataframe tbody tr th {\n",
              "        vertical-align: top;\n",
              "    }\n",
              "\n",
              "    .dataframe thead th {\n",
              "        text-align: right;\n",
              "    }\n",
              "</style>\n",
              "<table border=\"1\" class=\"dataframe\">\n",
              "  <thead>\n",
              "    <tr style=\"text-align: right;\">\n",
              "      <th></th>\n",
              "      <th>uuid</th>\n",
              "      <th>age_at_entry</th>\n",
              "      <th>sex</th>\n",
              "      <th>policy_term</th>\n",
              "      <th>policy_count</th>\n",
              "      <th>sum_assured</th>\n",
              "      <th>issue_date</th>\n",
              "      <th>payment_freq</th>\n",
              "      <th>payment_term</th>\n",
              "    </tr>\n",
              "    <tr>\n",
              "      <th>policy_id</th>\n",
              "      <th></th>\n",
              "      <th></th>\n",
              "      <th></th>\n",
              "      <th></th>\n",
              "      <th></th>\n",
              "      <th></th>\n",
              "      <th></th>\n",
              "      <th></th>\n",
              "      <th></th>\n",
              "    </tr>\n",
              "  </thead>\n",
              "  <tbody>\n",
              "    <tr>\n",
              "      <th>1</th>\n",
              "      <td>e4b64238-d935-11ed-b6e8-eedd30f30a66</td>\n",
              "      <td>47</td>\n",
              "      <td>M</td>\n",
              "      <td>10</td>\n",
              "      <td>86</td>\n",
              "      <td>622000.0</td>\n",
              "      <td>2021-12-15</td>\n",
              "      <td>1</td>\n",
              "      <td>5</td>\n",
              "    </tr>\n",
              "    <tr>\n",
              "      <th>2</th>\n",
              "      <td>e4b643b4-d935-11ed-b6e8-eedd30f30a66</td>\n",
              "      <td>29</td>\n",
              "      <td>M</td>\n",
              "      <td>20</td>\n",
              "      <td>56</td>\n",
              "      <td>752000.0</td>\n",
              "      <td>2004-07-02</td>\n",
              "      <td>2</td>\n",
              "      <td>20</td>\n",
              "    </tr>\n",
              "    <tr>\n",
              "      <th>3</th>\n",
              "      <td>e4b643d2-d935-11ed-b6e8-eedd30f30a66</td>\n",
              "      <td>51</td>\n",
              "      <td>F</td>\n",
              "      <td>10</td>\n",
              "      <td>83</td>\n",
              "      <td>799000.0</td>\n",
              "      <td>2020-10-02</td>\n",
              "      <td>12</td>\n",
              "      <td>10</td>\n",
              "    </tr>\n",
              "    <tr>\n",
              "      <th>4</th>\n",
              "      <td>e4b643dc-d935-11ed-b6e8-eedd30f30a66</td>\n",
              "      <td>32</td>\n",
              "      <td>F</td>\n",
              "      <td>20</td>\n",
              "      <td>72</td>\n",
              "      <td>422000.0</td>\n",
              "      <td>2011-08-05</td>\n",
              "      <td>1</td>\n",
              "      <td>10</td>\n",
              "    </tr>\n",
              "    <tr>\n",
              "      <th>5</th>\n",
              "      <td>e4b643f0-d935-11ed-b6e8-eedd30f30a66</td>\n",
              "      <td>28</td>\n",
              "      <td>M</td>\n",
              "      <td>15</td>\n",
              "      <td>99</td>\n",
              "      <td>605000.0</td>\n",
              "      <td>2017-05-22</td>\n",
              "      <td>2</td>\n",
              "      <td>10</td>\n",
              "    </tr>\n",
              "    <tr>\n",
              "      <th>...</th>\n",
              "      <td>...</td>\n",
              "      <td>...</td>\n",
              "      <td>...</td>\n",
              "      <td>...</td>\n",
              "      <td>...</td>\n",
              "      <td>...</td>\n",
              "      <td>...</td>\n",
              "      <td>...</td>\n",
              "      <td>...</td>\n",
              "    </tr>\n",
              "    <tr>\n",
              "      <th>9996</th>\n",
              "      <td>e4b88ae8-d935-11ed-b6e8-eedd30f30a66</td>\n",
              "      <td>47</td>\n",
              "      <td>M</td>\n",
              "      <td>20</td>\n",
              "      <td>25</td>\n",
              "      <td>827000.0</td>\n",
              "      <td>2008-12-01</td>\n",
              "      <td>1</td>\n",
              "      <td>10</td>\n",
              "    </tr>\n",
              "    <tr>\n",
              "      <th>9997</th>\n",
              "      <td>e4b88b06-d935-11ed-b6e8-eedd30f30a66</td>\n",
              "      <td>30</td>\n",
              "      <td>M</td>\n",
              "      <td>15</td>\n",
              "      <td>81</td>\n",
              "      <td>826000.0</td>\n",
              "      <td>2008-01-13</td>\n",
              "      <td>1</td>\n",
              "      <td>15</td>\n",
              "    </tr>\n",
              "    <tr>\n",
              "      <th>9998</th>\n",
              "      <td>e4b88b10-d935-11ed-b6e8-eedd30f30a66</td>\n",
              "      <td>45</td>\n",
              "      <td>F</td>\n",
              "      <td>20</td>\n",
              "      <td>10</td>\n",
              "      <td>783000.0</td>\n",
              "      <td>2009-11-07</td>\n",
              "      <td>2</td>\n",
              "      <td>10</td>\n",
              "    </tr>\n",
              "    <tr>\n",
              "      <th>9999</th>\n",
              "      <td>e4b88b24-d935-11ed-b6e8-eedd30f30a66</td>\n",
              "      <td>39</td>\n",
              "      <td>M</td>\n",
              "      <td>20</td>\n",
              "      <td>9</td>\n",
              "      <td>302000.0</td>\n",
              "      <td>2021-01-22</td>\n",
              "      <td>12</td>\n",
              "      <td>10</td>\n",
              "    </tr>\n",
              "    <tr>\n",
              "      <th>10000</th>\n",
              "      <td>e4b88b2e-d935-11ed-b6e8-eedd30f30a66</td>\n",
              "      <td>22</td>\n",
              "      <td>F</td>\n",
              "      <td>15</td>\n",
              "      <td>18</td>\n",
              "      <td>576000.0</td>\n",
              "      <td>2008-03-16</td>\n",
              "      <td>2</td>\n",
              "      <td>10</td>\n",
              "    </tr>\n",
              "  </tbody>\n",
              "</table>\n",
              "<p>10000 rows × 9 columns</p>\n",
              "</div>"
            ],
            "text/plain": [
              "                                           uuid  age_at_entry sex  \\\n",
              "policy_id                                                           \n",
              "1          e4b64238-d935-11ed-b6e8-eedd30f30a66            47   M   \n",
              "2          e4b643b4-d935-11ed-b6e8-eedd30f30a66            29   M   \n",
              "3          e4b643d2-d935-11ed-b6e8-eedd30f30a66            51   F   \n",
              "4          e4b643dc-d935-11ed-b6e8-eedd30f30a66            32   F   \n",
              "5          e4b643f0-d935-11ed-b6e8-eedd30f30a66            28   M   \n",
              "...                                         ...           ...  ..   \n",
              "9996       e4b88ae8-d935-11ed-b6e8-eedd30f30a66            47   M   \n",
              "9997       e4b88b06-d935-11ed-b6e8-eedd30f30a66            30   M   \n",
              "9998       e4b88b10-d935-11ed-b6e8-eedd30f30a66            45   F   \n",
              "9999       e4b88b24-d935-11ed-b6e8-eedd30f30a66            39   M   \n",
              "10000      e4b88b2e-d935-11ed-b6e8-eedd30f30a66            22   F   \n",
              "\n",
              "           policy_term  policy_count  sum_assured issue_date  payment_freq  \\\n",
              "policy_id                                                                    \n",
              "1                   10            86     622000.0 2021-12-15             1   \n",
              "2                   20            56     752000.0 2004-07-02             2   \n",
              "3                   10            83     799000.0 2020-10-02            12   \n",
              "4                   20            72     422000.0 2011-08-05             1   \n",
              "5                   15            99     605000.0 2017-05-22             2   \n",
              "...                ...           ...          ...        ...           ...   \n",
              "9996                20            25     827000.0 2008-12-01             1   \n",
              "9997                15            81     826000.0 2008-01-13             1   \n",
              "9998                20            10     783000.0 2009-11-07             2   \n",
              "9999                20             9     302000.0 2021-01-22            12   \n",
              "10000               15            18     576000.0 2008-03-16             2   \n",
              "\n",
              "           payment_term  \n",
              "policy_id                \n",
              "1                     5  \n",
              "2                    20  \n",
              "3                    10  \n",
              "4                    10  \n",
              "5                    10  \n",
              "...                 ...  \n",
              "9996                 10  \n",
              "9997                 15  \n",
              "9998                 10  \n",
              "9999                 10  \n",
              "10000                10  \n",
              "\n",
              "[10000 rows x 9 columns]"
            ]
          },
          "execution_count": 2,
          "metadata": {},
          "output_type": "execute_result"
        }
      ],
      "source": [
        "import pandas as pd\n",
        "\n",
        "\n",
        "attrs = [\n",
        "    \"age_at_entry\",\n",
        "    \"sex\",\n",
        "    \"policy_term\",\n",
        "    \"policy_count\",\n",
        "    \"sum_assured\",\n",
        "    \"issue_date\",\n",
        "    \"payment_freq\",\n",
        "    \"payment_term\"\n",
        "]\n",
        "\n",
        "data = [\n",
        "    age_at_entry,\n",
        "    sex,\n",
        "    policy_term,\n",
        "    policy_count,\n",
        "    sum_assured,\n",
        "    issue_date,\n",
        "    payment_freq,\n",
        "    payment_term\n",
        "]\n",
        "\n",
        "model_point_table = pd.DataFrame(dict(zip(attrs, data)), index=range(1, point_size+1))\n",
        "model_point_table.index.name = \"policy_id\"\n",
        "\n",
        "\n",
        "model_point_table[\"uuid\"] = [str(uuid.uuid1()) for i in range(0, model_point_table.shape[0])]\n",
        "\n",
        "# shift column 'Name' to first position\n",
        "first_column = model_point_table.pop('uuid')\n",
        "  \n",
        "# insert column using insert(position,column_name,\n",
        "# first_column) function\n",
        "model_point_table.insert(0, 'uuid', first_column)\n",
        "\n",
        "model_point_table"
      ]
    },
    {
      "cell_type": "markdown",
      "metadata": {
        "id": "9eqAHhau11Eg"
      },
      "source": [
        "# [Create Premium Table](https://lifelib.io/libraries/notebooks/basiclife/create_premium_table.html)"
      ]
    },
    {
      "cell_type": "code",
      "execution_count": 3,
      "metadata": {
        "id": "w4rLv6FG2Y0G"
      },
      "outputs": [
        {
          "name": "stdout",
          "output_type": "stream",
          "text": [
            "Note: you may need to restart the kernel to use updated packages.\n"
          ]
        }
      ],
      "source": [
        "%pip install modelx lifelib -q"
      ]
    },
    {
      "cell_type": "code",
      "execution_count": 11,
      "metadata": {
        "id": "GxkzIPGX5ewp"
      },
      "outputs": [],
      "source": [
        "import os\n",
        "import lifelib\n",
        "import shutil\n",
        "\n",
        "# set to True if you want to remove existing cluster folder\n",
        "REMOVE_CLUSTER = True\n",
        "\n",
        "#check if there is a folder named \"cluster\" in the current directory\n",
        "if os.path.exists(\"cluster\") & REMOVE_CLUSTER:\n",
        "    shutil.rmtree(\"cluster\")\n",
        "\n",
        "lifelib.create(\"cluster\", r\"./cluster\")"
      ]
    },
    {
      "cell_type": "code",
      "execution_count": 12,
      "metadata": {
        "id": "izH6Y0rp12ln"
      },
      "outputs": [],
      "source": [
        "import itertools\n",
        "import modelx as mx\n",
        "import pandas as pd"
      ]
    },
    {
      "cell_type": "code",
      "execution_count": 14,
      "metadata": {
        "id": "9gXnUXQj2XlJ"
      },
      "outputs": [
        {
          "ename": "FileNotFoundError",
          "evalue": "[Errno 2] No such file or directory: 'cluster/BasicTerm_ME/_model.py'",
          "output_type": "error",
          "traceback": [
            "\u001b[0;31m---------------------------------------------------------------------------\u001b[0m",
            "\u001b[0;31mFileNotFoundError\u001b[0m                         Traceback (most recent call last)",
            "Cell \u001b[0;32mIn[14], line 1\u001b[0m\n\u001b[0;32m----> 1\u001b[0m model \u001b[39m=\u001b[39m mx\u001b[39m.\u001b[39;49mread_model(\u001b[39m'\u001b[39;49m\u001b[39mcluster/BasicTerm_ME\u001b[39;49m\u001b[39m'\u001b[39;49m)\n\u001b[1;32m      2\u001b[0m space \u001b[39m=\u001b[39m model\u001b[39m.\u001b[39mProjection\n",
            "File \u001b[0;32m~/dev/dstoolkit/.conda/lib/python3.10/site-packages/modelx/core/api.py:661\u001b[0m, in \u001b[0;36mread_model\u001b[0;34m(model_path, name)\u001b[0m\n\u001b[1;32m    642\u001b[0m \u001b[39mdef\u001b[39;00m \u001b[39mread_model\u001b[39m(model_path, name\u001b[39m=\u001b[39m\u001b[39mNone\u001b[39;00m):\n\u001b[1;32m    643\u001b[0m \u001b[39m    \u001b[39m\u001b[39m\"\"\"Read model from files.\u001b[39;00m\n\u001b[1;32m    644\u001b[0m \n\u001b[1;32m    645\u001b[0m \u001b[39m    Read model form a folder(directory) tree or a zip file ``model_path``.\u001b[39;00m\n\u001b[0;32m   (...)\u001b[0m\n\u001b[1;32m    659\u001b[0m \n\u001b[1;32m    660\u001b[0m \u001b[39m    \"\"\"\u001b[39;00m\n\u001b[0;32m--> 661\u001b[0m     \u001b[39mreturn\u001b[39;00m _serialize\u001b[39m.\u001b[39;49mread_model(_system, model_path, name\u001b[39m=\u001b[39;49mname)\n",
            "File \u001b[0;32m~/dev/dstoolkit/.conda/lib/python3.10/site-packages/modelx/serialize/__init__.py:136\u001b[0m, in \u001b[0;36mread_model\u001b[0;34m(system, model_path, name)\u001b[0m\n\u001b[1;32m    133\u001b[0m \u001b[39melse\u001b[39;00m:\n\u001b[1;32m    134\u001b[0m     serializer \u001b[39m=\u001b[39m _get_serializer(\u001b[39m1\u001b[39m)\n\u001b[0;32m--> 136\u001b[0m \u001b[39mreturn\u001b[39;00m serializer\u001b[39m.\u001b[39;49mModelReader(system, path)\u001b[39m.\u001b[39;49mread_model(\u001b[39m*\u001b[39;49m\u001b[39m*\u001b[39;49mkwargs)\n",
            "File \u001b[0;32m~/dev/dstoolkit/.conda/lib/python3.10/site-packages/modelx/serialize/serializer_1.py:414\u001b[0m, in \u001b[0;36mModelReader.read_model\u001b[0;34m(self, **kwargs)\u001b[0m\n\u001b[1;32m    412\u001b[0m \u001b[39mtry\u001b[39;00m:\n\u001b[1;32m    413\u001b[0m     \u001b[39mself\u001b[39m\u001b[39m.\u001b[39mkwargs \u001b[39m=\u001b[39m kwargs\n\u001b[0;32m--> 414\u001b[0m     instructions, model \u001b[39m=\u001b[39m \u001b[39mself\u001b[39;49m\u001b[39m.\u001b[39;49m_parse_dir()\n\u001b[1;32m    416\u001b[0m     instructions\u001b[39m.\u001b[39mrun_methods([\n\u001b[1;32m    417\u001b[0m         \u001b[39m\"\u001b[39m\u001b[39mfset\u001b[39m\u001b[39m\"\u001b[39m,\n\u001b[1;32m    418\u001b[0m         \u001b[39m\"\u001b[39m\u001b[39mset_formula\u001b[39m\u001b[39m\"\u001b[39m,\n\u001b[1;32m    419\u001b[0m         \u001b[39m\"\u001b[39m\u001b[39mset_property\u001b[39m\u001b[39m\"\u001b[39m,\n\u001b[1;32m    420\u001b[0m         \u001b[39m\"\u001b[39m\u001b[39mnew_cells\u001b[39m\u001b[39m\"\u001b[39m] \u001b[39m+\u001b[39m \u001b[39mlist\u001b[39m(_Instruction\u001b[39m.\u001b[39m_METHODS\u001b[39m.\u001b[39mkeys()))\n\u001b[1;32m    421\u001b[0m     instructions\u001b[39m.\u001b[39mrun_methods([\u001b[39m\"\u001b[39m\u001b[39madd_bases\u001b[39m\u001b[39m\"\u001b[39m])\n",
            "File \u001b[0;32m~/dev/dstoolkit/.conda/lib/python3.10/site-packages/modelx/serialize/serializer_1.py:448\u001b[0m, in \u001b[0;36mModelReader._parse_dir\u001b[0;34m(self, path_, target)\u001b[0m\n\u001b[1;32m    445\u001b[0m                 \u001b[39mbreak\u001b[39;00m\n\u001b[1;32m    447\u001b[0m     \u001b[39mself\u001b[39m\u001b[39m.\u001b[39mmodel \u001b[39m=\u001b[39m target \u001b[39m=\u001b[39m model \u001b[39m=\u001b[39m mx\u001b[39m.\u001b[39mnew_model(name)\n\u001b[0;32m--> 448\u001b[0m     result\u001b[39m.\u001b[39mextend(\u001b[39mself\u001b[39;49m\u001b[39m.\u001b[39;49m_parse_source(path_ \u001b[39m/\u001b[39;49m \u001b[39m\"\u001b[39;49m\u001b[39m_model.py\u001b[39;49m\u001b[39m\"\u001b[39;49m, model))\n\u001b[1;32m    450\u001b[0m \u001b[39mfor\u001b[39;00m source \u001b[39min\u001b[39;00m path_\u001b[39m.\u001b[39mglob(\u001b[39m\"\u001b[39m\u001b[39m[!_]*.py\u001b[39m\u001b[39m\"\u001b[39m):\n\u001b[1;32m    451\u001b[0m     name \u001b[39m=\u001b[39m source\u001b[39m.\u001b[39mname[:\u001b[39m-\u001b[39m\u001b[39m3\u001b[39m]\n",
            "File \u001b[0;32m~/dev/dstoolkit/.conda/lib/python3.10/site-packages/modelx/serialize/serializer_1.py:466\u001b[0m, in \u001b[0;36mModelReader._parse_source\u001b[0;34m(self, path_, obj)\u001b[0m\n\u001b[1;32m    462\u001b[0m \u001b[39mdef\u001b[39;00m \u001b[39m_parse_source\u001b[39m(\u001b[39mself\u001b[39m, path_, obj: Interface):\n\u001b[1;32m    464\u001b[0m     impl \u001b[39m=\u001b[39m obj\u001b[39m.\u001b[39m_impl\n\u001b[0;32m--> 466\u001b[0m     \u001b[39mwith\u001b[39;00m \u001b[39mopen\u001b[39;49m(path_, \u001b[39m\"\u001b[39;49m\u001b[39mr\u001b[39;49m\u001b[39m\"\u001b[39;49m, encoding\u001b[39m=\u001b[39;49m\u001b[39m\"\u001b[39;49m\u001b[39mutf-8\u001b[39;49m\u001b[39m\"\u001b[39;49m) \u001b[39mas\u001b[39;00m f:\n\u001b[1;32m    467\u001b[0m         src \u001b[39m=\u001b[39m f\u001b[39m.\u001b[39mread()\n\u001b[1;32m    469\u001b[0m     atok \u001b[39m=\u001b[39m asttokens\u001b[39m.\u001b[39mASTTokens(src, parse\u001b[39m=\u001b[39m\u001b[39mTrue\u001b[39;00m)\n",
            "\u001b[0;31mFileNotFoundError\u001b[0m: [Errno 2] No such file or directory: 'cluster/BasicTerm_ME/_model.py'"
          ]
        }
      ],
      "source": [
        "model = mx.read_model('cluster/BasicTerm_ME')\n",
        "space = model.Projection"
      ]
    },
    {
      "cell_type": "code",
      "execution_count": null,
      "metadata": {
        "id": "XE6Uj0H86Eo7"
      },
      "outputs": [],
      "source": [
        "space.model_point_table = model_point_table"
      ]
    },
    {
      "cell_type": "code",
      "execution_count": null,
      "metadata": {
        "id": "JdBNG_yY6qKE"
      },
      "outputs": [],
      "source": [
        "@mx.defcells\n",
        "def premium_rate():\n",
        "    return (1 + loading_prem()) * net_premium_pp()"
      ]
    },
    {
      "cell_type": "code",
      "execution_count": null,
      "metadata": {
        "id": "1Z9dleVt91TR"
      },
      "outputs": [],
      "source": [
        "model_point_table['premium'] = space.premium_rate()"
      ]
    },
    {
      "cell_type": "code",
      "execution_count": null,
      "metadata": {
        "id": "3-xTXyJ-NMUS"
      },
      "outputs": [],
      "source": [
        "#Add noise\n",
        "for col in model_point_table.columns:\n",
        "    model_point_table.loc[model_point_table.sample(frac=0.1).index, col] = pd.np.nan\n",
        "\n"
      ]
    },
    {
      "cell_type": "code",
      "execution_count": null,
      "metadata": {
        "id": "OoIcdemfu5zZ"
      },
      "outputs": [],
      "source": [
        "distorted_names = ['UUid ',\n",
        " 'Age At Entry',\n",
        " 'Sex ',\n",
        " 'Policy Term  ',\n",
        " 'Policy Count',\n",
        " 'Sum Assured ',\n",
        " 'Issue date',\n",
        " 'Payment freq',\n",
        " 'Payment_term',\n",
        " 'Premium']\n",
        "rename_dict = dict()\n",
        "for i in range(0,len(distorted_names)):\n",
        "  rename_dict.update({list(model_point_table.columns)[i]:distorted_names[i]})\n",
        "model_point_table = model_point_table.rename(columns=rename_dict)\n",
        "model_point_table.columns"
      ]
    },
    {
      "cell_type": "code",
      "execution_count": null,
      "metadata": {
        "id": "fKH1pFyNzQ8D"
      },
      "outputs": [],
      "source": [
        "model_point_table.to_excel(\"model_point.xlsx\")"
      ]
    },
    {
      "cell_type": "markdown",
      "metadata": {
        "id": "XFPzD0cN-8jd"
      },
      "source": []
    },
    {
      "cell_type": "code",
      "execution_count": null,
      "metadata": {
        "id": "wIaIDID36Zld"
      },
      "outputs": [],
      "source": [
        "space.premium_pp.formula"
      ]
    },
    {
      "cell_type": "code",
      "execution_count": null,
      "metadata": {
        "id": "e4vWjodP2g90"
      },
      "outputs": [],
      "source": [
        "df = pd.DataFrame(itertools.product(range(20, 60), [10, 15, 20]), columns=['age_at_entry', 'policy_term'])\n",
        "df.index += 1\n",
        "df.index.name = 'point_id'\n",
        "df[\"sum_assured\"] = 1\n",
        "df"
      ]
    },
    {
      "cell_type": "code",
      "execution_count": null,
      "metadata": {
        "id": "80x_GEPY7MvO"
      },
      "outputs": [],
      "source": [
        "len(space.premium_rate())"
      ]
    },
    {
      "cell_type": "code",
      "execution_count": null,
      "metadata": {
        "id": "iyfN9phx6tu6"
      },
      "outputs": [],
      "source": [
        "premium_rate_table = df.copy()\n",
        "space.model_point_table = df\n",
        "premium_rate_table[\"premium_rate\"] = space.premium_rate()\n",
        "del premium_rate_table[\"sum_assured\"]\n",
        "premium_rate_table.set_index([\"age_at_entry\", \"policy_term\"], inplace=True)\n",
        "premium_rate_table[\"premium_rate\"]   # As Series"
      ]
    },
    {
      "cell_type": "code",
      "execution_count": null,
      "metadata": {
        "id": "ysinB-rx62EH"
      },
      "outputs": [],
      "source": [
        "model_point_table"
      ]
    },
    {
      "attachments": {},
      "cell_type": "markdown",
      "metadata": {},
      "source": [
        "# Additional Component for IAA preso"
      ]
    },
    {
      "cell_type": "code",
      "execution_count": null,
      "metadata": {
        "id": "0aJCVhqx-t-m"
      },
      "outputs": [],
      "source": []
    }
  ],
  "metadata": {
    "colab": {
      "private_outputs": true,
      "provenance": []
    },
    "kernelspec": {
      "display_name": "Python 3",
      "name": "python3"
    },
    "language_info": {
      "codemirror_mode": {
        "name": "ipython",
        "version": 3
      },
      "file_extension": ".py",
      "mimetype": "text/x-python",
      "name": "python",
      "nbconvert_exporter": "python",
      "pygments_lexer": "ipython3",
      "version": "3.10.10"
    }
  },
  "nbformat": 4,
  "nbformat_minor": 0
}
