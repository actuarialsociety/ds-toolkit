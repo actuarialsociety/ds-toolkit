{
  "cells": [
    {
      "cell_type": "code",
      "execution_count": 32,
      "metadata": {
        "id": "w4rLv6FG2Y0G"
      },
      "outputs": [
        {
          "name": "stdout",
          "output_type": "stream",
          "text": [
            "Note: you may need to restart the kernel to use updated packages.\n"
          ]
        }
      ],
      "source": [
        "%pip install modelx lifelib -q"
      ]
    },
    {
      "attachments": {},
      "cell_type": "markdown",
      "metadata": {
        "id": "m9g0wOZcvtTy"
      },
      "source": [
        "Following guide from [lifelib](https://lifelib.io/libraries/notebooks/basiclife/generate_model_points.html)\n",
        "\n",
        "# [Generating term policy model points with duration](https://lifelib.io/libraries/notebooks/basiclife/generate_model_points_with_duration.html)"
      ]
    },
    {
      "cell_type": "code",
      "execution_count": 4,
      "metadata": {
        "id": "bbh389WfvjC8"
      },
      "outputs": [],
      "source": [
        "### import libraries\n",
        "# standard libraries\n",
        "import numpy as np # for math\n",
        "from numpy.random import default_rng  # Requires NumPy 1.17 or newer\n",
        "import pandas as pd # for data manipulation\n",
        "import itertools # for looping\n",
        "\n",
        "# modelx libraries\n",
        "import modelx as mx # for model building\n",
        "import lifelib # for life table\n",
        "\n",
        "# unique id\n",
        "import uuid\n",
        "\n",
        "\n",
        "# Set seed for reproducibility\n",
        "rng = default_rng(12345)\n",
        "\n",
        "# Number of Model Points\n",
        "MPCount = 10000\n",
        "\n",
        "# Issue Age (Integer): 20 - 59 year old\n",
        "age_at_entry = rng.integers(low=20, high=60, size=MPCount)\n",
        "\n",
        "# Sex (Char)\n",
        "Sex = [\n",
        "    \"M\",\n",
        "    \"F\"\n",
        "]\n",
        "\n",
        "sex = np.fromiter(map(lambda i: Sex[i], rng.integers(low=0, high=len(Sex), size=MPCount)), np.dtype('<U1'))\n",
        "\n",
        "# Policy Term (Integer): 10, 15, 20\n",
        "policy_term = rng.integers(low=0, high=3, size=MPCount) * 5 + 10\n",
        "\n",
        "# Sum Assured (Float): 10000 - 1000000\n",
        "sum_assured = np.round((1000000 - 10000) * rng.random(size=MPCount) + 10000, -3)\n",
        "\n",
        "# Duration in month (Int): -36 < Duration(mth) < Policy Term in month\n",
        "duration_mth = np.rint((policy_term + 3) * 12 * rng.random(size=MPCount) - 36).astype(int)\n",
        "\n",
        "# Policy Count (Integer): 1\n",
        "policy_count = np.rint(100 * rng.random(size=MPCount)).astype(int)"
      ]
    },
    {
      "cell_type": "code",
      "execution_count": 5,
      "metadata": {
        "id": "ivkV1ZshzNac"
      },
      "outputs": [
        {
          "data": {
            "text/html": [
              "<div>\n",
              "<style scoped>\n",
              "    .dataframe tbody tr th:only-of-type {\n",
              "        vertical-align: middle;\n",
              "    }\n",
              "\n",
              "    .dataframe tbody tr th {\n",
              "        vertical-align: top;\n",
              "    }\n",
              "\n",
              "    .dataframe thead th {\n",
              "        text-align: right;\n",
              "    }\n",
              "</style>\n",
              "<table border=\"1\" class=\"dataframe\">\n",
              "  <thead>\n",
              "    <tr style=\"text-align: right;\">\n",
              "      <th></th>\n",
              "      <th>uuid</th>\n",
              "      <th>age_at_entry</th>\n",
              "      <th>sex</th>\n",
              "      <th>policy_term</th>\n",
              "      <th>policy_count</th>\n",
              "      <th>sum_assured</th>\n",
              "      <th>duration_mth</th>\n",
              "    </tr>\n",
              "    <tr>\n",
              "      <th>policy_id</th>\n",
              "      <th></th>\n",
              "      <th></th>\n",
              "      <th></th>\n",
              "      <th></th>\n",
              "      <th></th>\n",
              "      <th></th>\n",
              "      <th></th>\n",
              "    </tr>\n",
              "  </thead>\n",
              "  <tbody>\n",
              "    <tr>\n",
              "      <th>1</th>\n",
              "      <td>d3992640-d93b-11ed-a9fe-eedd30f30a66</td>\n",
              "      <td>47</td>\n",
              "      <td>M</td>\n",
              "      <td>10</td>\n",
              "      <td>86</td>\n",
              "      <td>622000.0</td>\n",
              "      <td>1</td>\n",
              "    </tr>\n",
              "    <tr>\n",
              "      <th>2</th>\n",
              "      <td>d399279e-d93b-11ed-a9fe-eedd30f30a66</td>\n",
              "      <td>29</td>\n",
              "      <td>M</td>\n",
              "      <td>20</td>\n",
              "      <td>56</td>\n",
              "      <td>752000.0</td>\n",
              "      <td>210</td>\n",
              "    </tr>\n",
              "    <tr>\n",
              "      <th>3</th>\n",
              "      <td>d39927bc-d93b-11ed-a9fe-eedd30f30a66</td>\n",
              "      <td>51</td>\n",
              "      <td>F</td>\n",
              "      <td>10</td>\n",
              "      <td>83</td>\n",
              "      <td>799000.0</td>\n",
              "      <td>15</td>\n",
              "    </tr>\n",
              "    <tr>\n",
              "      <th>4</th>\n",
              "      <td>d39927d0-d93b-11ed-a9fe-eedd30f30a66</td>\n",
              "      <td>32</td>\n",
              "      <td>F</td>\n",
              "      <td>20</td>\n",
              "      <td>72</td>\n",
              "      <td>422000.0</td>\n",
              "      <td>125</td>\n",
              "    </tr>\n",
              "    <tr>\n",
              "      <th>5</th>\n",
              "      <td>d39927e4-d93b-11ed-a9fe-eedd30f30a66</td>\n",
              "      <td>28</td>\n",
              "      <td>M</td>\n",
              "      <td>15</td>\n",
              "      <td>99</td>\n",
              "      <td>605000.0</td>\n",
              "      <td>55</td>\n",
              "    </tr>\n",
              "    <tr>\n",
              "      <th>...</th>\n",
              "      <td>...</td>\n",
              "      <td>...</td>\n",
              "      <td>...</td>\n",
              "      <td>...</td>\n",
              "      <td>...</td>\n",
              "      <td>...</td>\n",
              "      <td>...</td>\n",
              "    </tr>\n",
              "    <tr>\n",
              "      <th>9996</th>\n",
              "      <td>d39b83a4-d93b-11ed-a9fe-eedd30f30a66</td>\n",
              "      <td>47</td>\n",
              "      <td>M</td>\n",
              "      <td>20</td>\n",
              "      <td>25</td>\n",
              "      <td>827000.0</td>\n",
              "      <td>157</td>\n",
              "    </tr>\n",
              "    <tr>\n",
              "      <th>9997</th>\n",
              "      <td>d39b83b8-d93b-11ed-a9fe-eedd30f30a66</td>\n",
              "      <td>30</td>\n",
              "      <td>M</td>\n",
              "      <td>15</td>\n",
              "      <td>81</td>\n",
              "      <td>826000.0</td>\n",
              "      <td>168</td>\n",
              "    </tr>\n",
              "    <tr>\n",
              "      <th>9998</th>\n",
              "      <td>d39b83c2-d93b-11ed-a9fe-eedd30f30a66</td>\n",
              "      <td>45</td>\n",
              "      <td>F</td>\n",
              "      <td>20</td>\n",
              "      <td>10</td>\n",
              "      <td>783000.0</td>\n",
              "      <td>146</td>\n",
              "    </tr>\n",
              "    <tr>\n",
              "      <th>9999</th>\n",
              "      <td>d39b83d6-d93b-11ed-a9fe-eedd30f30a66</td>\n",
              "      <td>39</td>\n",
              "      <td>M</td>\n",
              "      <td>20</td>\n",
              "      <td>9</td>\n",
              "      <td>302000.0</td>\n",
              "      <td>11</td>\n",
              "    </tr>\n",
              "    <tr>\n",
              "      <th>10000</th>\n",
              "      <td>d39b83e0-d93b-11ed-a9fe-eedd30f30a66</td>\n",
              "      <td>22</td>\n",
              "      <td>F</td>\n",
              "      <td>15</td>\n",
              "      <td>18</td>\n",
              "      <td>576000.0</td>\n",
              "      <td>166</td>\n",
              "    </tr>\n",
              "  </tbody>\n",
              "</table>\n",
              "<p>10000 rows × 7 columns</p>\n",
              "</div>"
            ],
            "text/plain": [
              "                                           uuid  age_at_entry sex  \\\n",
              "policy_id                                                           \n",
              "1          d3992640-d93b-11ed-a9fe-eedd30f30a66            47   M   \n",
              "2          d399279e-d93b-11ed-a9fe-eedd30f30a66            29   M   \n",
              "3          d39927bc-d93b-11ed-a9fe-eedd30f30a66            51   F   \n",
              "4          d39927d0-d93b-11ed-a9fe-eedd30f30a66            32   F   \n",
              "5          d39927e4-d93b-11ed-a9fe-eedd30f30a66            28   M   \n",
              "...                                         ...           ...  ..   \n",
              "9996       d39b83a4-d93b-11ed-a9fe-eedd30f30a66            47   M   \n",
              "9997       d39b83b8-d93b-11ed-a9fe-eedd30f30a66            30   M   \n",
              "9998       d39b83c2-d93b-11ed-a9fe-eedd30f30a66            45   F   \n",
              "9999       d39b83d6-d93b-11ed-a9fe-eedd30f30a66            39   M   \n",
              "10000      d39b83e0-d93b-11ed-a9fe-eedd30f30a66            22   F   \n",
              "\n",
              "           policy_term  policy_count  sum_assured  duration_mth  \n",
              "policy_id                                                        \n",
              "1                   10            86     622000.0             1  \n",
              "2                   20            56     752000.0           210  \n",
              "3                   10            83     799000.0            15  \n",
              "4                   20            72     422000.0           125  \n",
              "5                   15            99     605000.0            55  \n",
              "...                ...           ...          ...           ...  \n",
              "9996                20            25     827000.0           157  \n",
              "9997                15            81     826000.0           168  \n",
              "9998                20            10     783000.0           146  \n",
              "9999                20             9     302000.0            11  \n",
              "10000               15            18     576000.0           166  \n",
              "\n",
              "[10000 rows x 7 columns]"
            ]
          },
          "metadata": {},
          "output_type": "display_data"
        }
      ],
      "source": [
        "# Set attributes\n",
        "attrs = [\n",
        "    \"age_at_entry\",\n",
        "    \"sex\",\n",
        "    \"policy_term\",\n",
        "    \"policy_count\",\n",
        "    \"sum_assured\",\n",
        "    \"duration_mth\"\n",
        "]\n",
        "\n",
        "# Set data\n",
        "data = [\n",
        "    age_at_entry,\n",
        "    sex,\n",
        "    policy_term,\n",
        "    policy_count,\n",
        "    sum_assured,\n",
        "    duration_mth\n",
        "]\n",
        "\n",
        "# Create model point table\n",
        "model_point_table = pd.DataFrame(dict(zip(attrs, data)), index=range(1, MPCount+1))\n",
        "\n",
        "# Set index name\n",
        "model_point_table.index.name = \"policy_id\"\n",
        "\n",
        "model_point_table[\"uuid\"] = [str(uuid.uuid1()) for i in range(0, model_point_table.shape[0])]\n",
        "\n",
        "# shift column 'Name' to first position\n",
        "first_column = model_point_table.pop('uuid')\n",
        "  \n",
        "# insert column using insert(position,column_name,\n",
        "# first_column) function\n",
        "model_point_table.insert(0, 'uuid', first_column)\n",
        "\n",
        "# Display model point table\n",
        "display(model_point_table)"
      ]
    },
    {
      "attachments": {},
      "cell_type": "markdown",
      "metadata": {},
      "source": [
        "# Additional Component for IAA preso"
      ]
    },
    {
      "cell_type": "code",
      "execution_count": 23,
      "metadata": {},
      "outputs": [
        {
          "name": "stderr",
          "output_type": "stream",
          "text": [
            "FutureWarning: The series.append method is deprecated and will be removed from pandas in a future version. Use pandas.concat instead.\n",
            "FutureWarning: reindexing with a non-unique Index is deprecated and will raise in a future version.\n"
          ]
        },
        {
          "ename": "ValueError",
          "evalue": "cannot reindex on an axis with duplicate labels",
          "output_type": "error",
          "traceback": [
            "\u001b[0;31m---------------------------------------------------------------------------\u001b[0m",
            "\u001b[0;31mValueError\u001b[0m                                Traceback (most recent call last)",
            "Cell \u001b[0;32mIn[23], line 11\u001b[0m\n\u001b[1;32m      8\u001b[0m \u001b[39m# create new pd column and randomly assign values\u001b[39;00m\n\u001b[1;32m      9\u001b[0m underwriter_comments[\u001b[39m\"\u001b[39m\u001b[39mdiscount\u001b[39m\u001b[39m\"\u001b[39m] \u001b[39m=\u001b[39m np\u001b[39m.\u001b[39mrandom\u001b[39m.\u001b[39mchoice([\u001b[39mTrue\u001b[39;00m, \u001b[39mFalse\u001b[39;00m], underwriter_comments\u001b[39m.\u001b[39mshape[\u001b[39m0\u001b[39m])\n\u001b[0;32m---> 11\u001b[0m underwriter_comments\u001b[39m.\u001b[39;49mreindex(model_point_table\u001b[39m.\u001b[39;49mindex)\n\u001b[1;32m     12\u001b[0m display(underwriter_comments)\n",
            "File \u001b[0;32m~/dev/dstoolkit/.conda/lib/python3.10/site-packages/pandas/util/_decorators.py:347\u001b[0m, in \u001b[0;36mrewrite_axis_style_signature.<locals>.decorate.<locals>.wrapper\u001b[0;34m(*args, **kwargs)\u001b[0m\n\u001b[1;32m    345\u001b[0m \u001b[39m@wraps\u001b[39m(func)\n\u001b[1;32m    346\u001b[0m \u001b[39mdef\u001b[39;00m \u001b[39mwrapper\u001b[39m(\u001b[39m*\u001b[39margs, \u001b[39m*\u001b[39m\u001b[39m*\u001b[39mkwargs) \u001b[39m-\u001b[39m\u001b[39m>\u001b[39m Callable[\u001b[39m.\u001b[39m\u001b[39m.\u001b[39m\u001b[39m.\u001b[39m, Any]:\n\u001b[0;32m--> 347\u001b[0m     \u001b[39mreturn\u001b[39;00m func(\u001b[39m*\u001b[39;49margs, \u001b[39m*\u001b[39;49m\u001b[39m*\u001b[39;49mkwargs)\n",
            "File \u001b[0;32m~/dev/dstoolkit/.conda/lib/python3.10/site-packages/pandas/core/frame.py:5205\u001b[0m, in \u001b[0;36mDataFrame.reindex\u001b[0;34m(self, *args, **kwargs)\u001b[0m\n\u001b[1;32m   5203\u001b[0m kwargs\u001b[39m.\u001b[39mpop(\u001b[39m\"\u001b[39m\u001b[39maxis\u001b[39m\u001b[39m\"\u001b[39m, \u001b[39mNone\u001b[39;00m)\n\u001b[1;32m   5204\u001b[0m kwargs\u001b[39m.\u001b[39mpop(\u001b[39m\"\u001b[39m\u001b[39mlabels\u001b[39m\u001b[39m\"\u001b[39m, \u001b[39mNone\u001b[39;00m)\n\u001b[0;32m-> 5205\u001b[0m \u001b[39mreturn\u001b[39;00m \u001b[39msuper\u001b[39;49m()\u001b[39m.\u001b[39;49mreindex(\u001b[39m*\u001b[39;49m\u001b[39m*\u001b[39;49mkwargs)\n",
            "File \u001b[0;32m~/dev/dstoolkit/.conda/lib/python3.10/site-packages/pandas/core/generic.py:5289\u001b[0m, in \u001b[0;36mNDFrame.reindex\u001b[0;34m(self, *args, **kwargs)\u001b[0m\n\u001b[1;32m   5286\u001b[0m     \u001b[39mreturn\u001b[39;00m \u001b[39mself\u001b[39m\u001b[39m.\u001b[39m_reindex_multi(axes, copy, fill_value)\n\u001b[1;32m   5288\u001b[0m \u001b[39m# perform the reindex on the axes\u001b[39;00m\n\u001b[0;32m-> 5289\u001b[0m \u001b[39mreturn\u001b[39;00m \u001b[39mself\u001b[39;49m\u001b[39m.\u001b[39;49m_reindex_axes(\n\u001b[1;32m   5290\u001b[0m     axes, level, limit, tolerance, method, fill_value, copy\n\u001b[1;32m   5291\u001b[0m )\u001b[39m.\u001b[39m__finalize__(\u001b[39mself\u001b[39m, method\u001b[39m=\u001b[39m\u001b[39m\"\u001b[39m\u001b[39mreindex\u001b[39m\u001b[39m\"\u001b[39m)\n",
            "File \u001b[0;32m~/dev/dstoolkit/.conda/lib/python3.10/site-packages/pandas/core/frame.py:5004\u001b[0m, in \u001b[0;36mDataFrame._reindex_axes\u001b[0;34m(self, axes, level, limit, tolerance, method, fill_value, copy)\u001b[0m\n\u001b[1;32m   5002\u001b[0m index \u001b[39m=\u001b[39m axes[\u001b[39m\"\u001b[39m\u001b[39mindex\u001b[39m\u001b[39m\"\u001b[39m]\n\u001b[1;32m   5003\u001b[0m \u001b[39mif\u001b[39;00m index \u001b[39mis\u001b[39;00m \u001b[39mnot\u001b[39;00m \u001b[39mNone\u001b[39;00m:\n\u001b[0;32m-> 5004\u001b[0m     frame \u001b[39m=\u001b[39m frame\u001b[39m.\u001b[39;49m_reindex_index(\n\u001b[1;32m   5005\u001b[0m         index, method, copy, level, fill_value, limit, tolerance\n\u001b[1;32m   5006\u001b[0m     )\n\u001b[1;32m   5008\u001b[0m \u001b[39mreturn\u001b[39;00m frame\n",
            "File \u001b[0;32m~/dev/dstoolkit/.conda/lib/python3.10/site-packages/pandas/core/frame.py:5023\u001b[0m, in \u001b[0;36mDataFrame._reindex_index\u001b[0;34m(self, new_index, method, copy, level, fill_value, limit, tolerance)\u001b[0m\n\u001b[1;32m   5010\u001b[0m \u001b[39mdef\u001b[39;00m \u001b[39m_reindex_index\u001b[39m(\n\u001b[1;32m   5011\u001b[0m     \u001b[39mself\u001b[39m,\n\u001b[1;32m   5012\u001b[0m     new_index,\n\u001b[0;32m   (...)\u001b[0m\n\u001b[1;32m   5018\u001b[0m     tolerance\u001b[39m=\u001b[39m\u001b[39mNone\u001b[39;00m,\n\u001b[1;32m   5019\u001b[0m ):\n\u001b[1;32m   5020\u001b[0m     new_index, indexer \u001b[39m=\u001b[39m \u001b[39mself\u001b[39m\u001b[39m.\u001b[39mindex\u001b[39m.\u001b[39mreindex(\n\u001b[1;32m   5021\u001b[0m         new_index, method\u001b[39m=\u001b[39mmethod, level\u001b[39m=\u001b[39mlevel, limit\u001b[39m=\u001b[39mlimit, tolerance\u001b[39m=\u001b[39mtolerance\n\u001b[1;32m   5022\u001b[0m     )\n\u001b[0;32m-> 5023\u001b[0m     \u001b[39mreturn\u001b[39;00m \u001b[39mself\u001b[39;49m\u001b[39m.\u001b[39;49m_reindex_with_indexers(\n\u001b[1;32m   5024\u001b[0m         {\u001b[39m0\u001b[39;49m: [new_index, indexer]},\n\u001b[1;32m   5025\u001b[0m         copy\u001b[39m=\u001b[39;49mcopy,\n\u001b[1;32m   5026\u001b[0m         fill_value\u001b[39m=\u001b[39;49mfill_value,\n\u001b[1;32m   5027\u001b[0m         allow_dups\u001b[39m=\u001b[39;49m\u001b[39mFalse\u001b[39;49;00m,\n\u001b[1;32m   5028\u001b[0m     )\n",
            "File \u001b[0;32m~/dev/dstoolkit/.conda/lib/python3.10/site-packages/pandas/core/generic.py:5355\u001b[0m, in \u001b[0;36mNDFrame._reindex_with_indexers\u001b[0;34m(self, reindexers, fill_value, copy, allow_dups)\u001b[0m\n\u001b[1;32m   5352\u001b[0m     indexer \u001b[39m=\u001b[39m ensure_platform_int(indexer)\n\u001b[1;32m   5354\u001b[0m \u001b[39m# TODO: speed up on homogeneous DataFrame objects (see _reindex_multi)\u001b[39;00m\n\u001b[0;32m-> 5355\u001b[0m new_data \u001b[39m=\u001b[39m new_data\u001b[39m.\u001b[39;49mreindex_indexer(\n\u001b[1;32m   5356\u001b[0m     index,\n\u001b[1;32m   5357\u001b[0m     indexer,\n\u001b[1;32m   5358\u001b[0m     axis\u001b[39m=\u001b[39;49mbaxis,\n\u001b[1;32m   5359\u001b[0m     fill_value\u001b[39m=\u001b[39;49mfill_value,\n\u001b[1;32m   5360\u001b[0m     allow_dups\u001b[39m=\u001b[39;49mallow_dups,\n\u001b[1;32m   5361\u001b[0m     copy\u001b[39m=\u001b[39;49mcopy,\n\u001b[1;32m   5362\u001b[0m )\n\u001b[1;32m   5363\u001b[0m \u001b[39m# If we've made a copy once, no need to make another one\u001b[39;00m\n\u001b[1;32m   5364\u001b[0m copy \u001b[39m=\u001b[39m \u001b[39mFalse\u001b[39;00m\n",
            "File \u001b[0;32m~/dev/dstoolkit/.conda/lib/python3.10/site-packages/pandas/core/internals/managers.py:737\u001b[0m, in \u001b[0;36mBaseBlockManager.reindex_indexer\u001b[0;34m(self, new_axis, indexer, axis, fill_value, allow_dups, copy, only_slice, use_na_proxy)\u001b[0m\n\u001b[1;32m    735\u001b[0m \u001b[39m# some axes don't allow reindexing with dups\u001b[39;00m\n\u001b[1;32m    736\u001b[0m \u001b[39mif\u001b[39;00m \u001b[39mnot\u001b[39;00m allow_dups:\n\u001b[0;32m--> 737\u001b[0m     \u001b[39mself\u001b[39;49m\u001b[39m.\u001b[39;49maxes[axis]\u001b[39m.\u001b[39;49m_validate_can_reindex(indexer)\n\u001b[1;32m    739\u001b[0m \u001b[39mif\u001b[39;00m axis \u001b[39m>\u001b[39m\u001b[39m=\u001b[39m \u001b[39mself\u001b[39m\u001b[39m.\u001b[39mndim:\n\u001b[1;32m    740\u001b[0m     \u001b[39mraise\u001b[39;00m \u001b[39mIndexError\u001b[39;00m(\u001b[39m\"\u001b[39m\u001b[39mRequested axis not found in manager\u001b[39m\u001b[39m\"\u001b[39m)\n",
            "File \u001b[0;32m~/dev/dstoolkit/.conda/lib/python3.10/site-packages/pandas/core/indexes/base.py:4316\u001b[0m, in \u001b[0;36mIndex._validate_can_reindex\u001b[0;34m(self, indexer)\u001b[0m\n\u001b[1;32m   4314\u001b[0m \u001b[39m# trying to reindex on an axis with duplicates\u001b[39;00m\n\u001b[1;32m   4315\u001b[0m \u001b[39mif\u001b[39;00m \u001b[39mnot\u001b[39;00m \u001b[39mself\u001b[39m\u001b[39m.\u001b[39m_index_as_unique \u001b[39mand\u001b[39;00m \u001b[39mlen\u001b[39m(indexer):\n\u001b[0;32m-> 4316\u001b[0m     \u001b[39mraise\u001b[39;00m \u001b[39mValueError\u001b[39;00m(\u001b[39m\"\u001b[39m\u001b[39mcannot reindex on an axis with duplicate labels\u001b[39m\u001b[39m\"\u001b[39m)\n",
            "\u001b[0;31mValueError\u001b[0m: cannot reindex on an axis with duplicate labels"
          ]
        }
      ],
      "source": [
        "uuid_extension = pd.Series([str(uuid.uuid1()) for i in range(0, model_point_table.shape[0])])\n",
        "\n",
        "underwriter_comments = pd.DataFrame()\n",
        "underwriter_comments[\"uuid\"] = model_point_table.uuid.append(uuid_extension)\n",
        "underwriter_comments.index.name = \"policy_id\"\n",
        "\n",
        "\n",
        "# create new pd column and randomly assign values\n",
        "underwriter_comments[\"discount\"] = np.random.choice([True, False], underwriter_comments.shape[0])\n",
        "\n",
        "underwriter_comments.reindex()\n",
        "display(underwriter_comments)"
      ]
    },
    {
      "cell_type": "markdown",
      "metadata": {
        "id": "9eqAHhau11Eg"
      },
      "source": [
        "# [Create Premium Table](https://lifelib.io/libraries/notebooks/basiclife/create_premium_table.html)"
      ]
    },
    {
      "cell_type": "code",
      "execution_count": 50,
      "metadata": {
        "id": "GxkzIPGX5ewp"
      },
      "outputs": [],
      "source": [
        "# set to True if you want to remove existing cluster folder\n",
        "REMOVE_CLUSTER = True\n",
        "\n",
        "#check if there is a folder named \"cluster\" in the current directory\n",
        "if os.path.exists(\"cluster\") & REMOVE_CLUSTER:\n",
        "    shutil.rmtree(\"cluster\")\n",
        "\n",
        "lifelib.create(\"cluster\", r\"./cluster\")"
      ]
    },
    {
      "cell_type": "code",
      "execution_count": 45,
      "metadata": {
        "id": "XE6Uj0H86Eo7"
      },
      "outputs": [],
      "source": [
        "space.model_point_table = model_point_table"
      ]
    },
    {
      "cell_type": "code",
      "execution_count": 46,
      "metadata": {
        "id": "JdBNG_yY6qKE"
      },
      "outputs": [],
      "source": [
        "@mx.defcells\n",
        "def premium_rate():\n",
        "    return (1 + loading_prem()) * net_premium_pp()"
      ]
    },
    {
      "cell_type": "code",
      "execution_count": 47,
      "metadata": {
        "id": "1Z9dleVt91TR"
      },
      "outputs": [
        {
          "name": "stderr",
          "output_type": "stream",
          "text": [
            "FutureWarning: Series.set_axis 'inplace' keyword is deprecated and will be removed in a future version. Use `obj = obj.set_axis(..., copy=False)` instead\n"
          ]
        }
      ],
      "source": [
        "model_point_table['premium'] = space.premium_rate()"
      ]
    },
    {
      "attachments": {},
      "cell_type": "markdown",
      "metadata": {},
      "source": [
        "# Distorting data for preso"
      ]
    },
    {
      "cell_type": "code",
      "execution_count": null,
      "metadata": {
        "id": "3-xTXyJ-NMUS"
      },
      "outputs": [],
      "source": [
        "#Add noise\n",
        "for col in model_point_table.columns:\n",
        "    model_point_table.loc[model_point_table.sample(frac=0.1).index, col] = pd.np.nan"
      ]
    },
    {
      "cell_type": "code",
      "execution_count": null,
      "metadata": {
        "id": "OoIcdemfu5zZ"
      },
      "outputs": [],
      "source": [
        "distorted_names = ['UUid ',\n",
        " 'Age At Entry',\n",
        " 'Sex ',\n",
        " 'Policy Term  ',\n",
        " 'Policy Count',\n",
        " 'Sum Assured ',\n",
        " 'Issue date',\n",
        " 'Payment freq',\n",
        " 'Payment_term',\n",
        " 'Premium']\n",
        "\n",
        "rename_dict = dict()\n",
        "for i in range(0,len(distorted_names)):\n",
        "  rename_dict.update({list(model_point_table.columns)[i]:distorted_names[i]})\n",
        "  \n",
        "model_point_table = model_point_table.rename(columns=rename_dict)\n",
        "model_point_table.columns"
      ]
    },
    {
      "cell_type": "code",
      "execution_count": null,
      "metadata": {
        "id": "fKH1pFyNzQ8D"
      },
      "outputs": [],
      "source": [
        "model_point_table.to_excel(\"model_point.xlsx\")"
      ]
    },
    {
      "cell_type": "markdown",
      "metadata": {
        "id": "XFPzD0cN-8jd"
      },
      "source": []
    },
    {
      "cell_type": "code",
      "execution_count": null,
      "metadata": {
        "id": "wIaIDID36Zld"
      },
      "outputs": [],
      "source": [
        "space.premium_pp.formula"
      ]
    },
    {
      "cell_type": "code",
      "execution_count": null,
      "metadata": {
        "id": "e4vWjodP2g90"
      },
      "outputs": [],
      "source": [
        "df = pd.DataFrame(itertools.product(range(20, 60), [10, 15, 20]), columns=['age_at_entry', 'policy_term'])\n",
        "df.index += 1\n",
        "df.index.name = 'point_id'\n",
        "df[\"sum_assured\"] = 1\n",
        "df"
      ]
    },
    {
      "cell_type": "code",
      "execution_count": null,
      "metadata": {
        "id": "80x_GEPY7MvO"
      },
      "outputs": [],
      "source": [
        "len(space.premium_rate())"
      ]
    },
    {
      "cell_type": "code",
      "execution_count": null,
      "metadata": {
        "id": "iyfN9phx6tu6"
      },
      "outputs": [],
      "source": [
        "premium_rate_table = df.copy()\n",
        "space.model_point_table = df\n",
        "premium_rate_table[\"premium_rate\"] = space.premium_rate()\n",
        "del premium_rate_table[\"sum_assured\"]\n",
        "premium_rate_table.set_index([\"age_at_entry\", \"policy_term\"], inplace=True)\n",
        "premium_rate_table[\"premium_rate\"]   # As Series"
      ]
    },
    {
      "cell_type": "code",
      "execution_count": null,
      "metadata": {
        "id": "ysinB-rx62EH"
      },
      "outputs": [],
      "source": [
        "model_point_table"
      ]
    },
    {
      "cell_type": "code",
      "execution_count": null,
      "metadata": {
        "id": "0aJCVhqx-t-m"
      },
      "outputs": [],
      "source": []
    }
  ],
  "metadata": {
    "colab": {
      "private_outputs": true,
      "provenance": []
    },
    "kernelspec": {
      "display_name": "Python 3",
      "name": "python3"
    },
    "language_info": {
      "codemirror_mode": {
        "name": "ipython",
        "version": 3
      },
      "file_extension": ".py",
      "mimetype": "text/x-python",
      "name": "python",
      "nbconvert_exporter": "python",
      "pygments_lexer": "ipython3",
      "version": "3.10.10"
    }
  },
  "nbformat": 4,
  "nbformat_minor": 0
}
