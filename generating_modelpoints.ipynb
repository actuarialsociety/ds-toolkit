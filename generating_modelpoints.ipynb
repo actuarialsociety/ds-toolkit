{
  "cells": [
    {
      "attachments": {},
      "cell_type": "markdown",
      "metadata": {
        "id": "m9g0wOZcvtTy"
      },
      "source": [
        "Following guide from [lifelib](https://lifelib.io/libraries/notebooks/basiclife/generate_model_points.html)\n",
        "\n",
        "# [Generating model points for with duration](https://lifelib.io/libraries/notebooks/basiclife/generate_model_points_with_duration.html)"
      ]
    },
    {
      "cell_type": "code",
      "execution_count": 39,
      "metadata": {
        "id": "bbh389WfvjC8"
      },
      "outputs": [],
      "source": [
        "import numpy as np\n",
        "from numpy.random import default_rng  # Requires NumPy 1.17 or newer\n",
        "\n",
        "rng = default_rng(12345)\n",
        "\n",
        "# Number of Model Points\n",
        "MPCount = 10000\n",
        "\n",
        "# Issue Age (Integer): 20 - 59 year old\n",
        "age_at_entry = rng.integers(low=20, high=60, size=MPCount)\n",
        "\n",
        "# Sex (Char)\n",
        "Sex = [\n",
        "    \"M\",\n",
        "    \"F\"\n",
        "]\n",
        "\n",
        "sex = np.fromiter(map(lambda i: Sex[i], rng.integers(low=0, high=len(Sex), size=MPCount)), np.dtype('<U1'))\n",
        "\n",
        "# Policy Term (Integer): 10, 15, 20\n",
        "policy_term = rng.integers(low=0, high=3, size=MPCount) * 5 + 10\n",
        "\n",
        "\n",
        "# Sum Assured (Float): 10000 - 1000000\n",
        "sum_assured = np.round((1000000 - 10000) * rng.random(size=MPCount) + 10000, -3)\n",
        "\n",
        "# Duration in month (Int): -36 < Duration(mth) < Policy Term in month\n",
        "duration_mth = np.rint((policy_term + 3) * 12 * rng.random(size=MPCount) - 36).astype(int)\n",
        "\n",
        "# Policy Count (Integer): 1\n",
        "policy_count = np.rint(100 * rng.random(size=MPCount)).astype(int)"
      ]
    },
    {
      "cell_type": "code",
      "execution_count": 31,
      "metadata": {
        "id": "ivkV1ZshzNac"
      },
      "outputs": [
        {
          "data": {
            "text/html": [
              "<div>\n",
              "<style scoped>\n",
              "    .dataframe tbody tr th:only-of-type {\n",
              "        vertical-align: middle;\n",
              "    }\n",
              "\n",
              "    .dataframe tbody tr th {\n",
              "        vertical-align: top;\n",
              "    }\n",
              "\n",
              "    .dataframe thead th {\n",
              "        text-align: right;\n",
              "    }\n",
              "</style>\n",
              "<table border=\"1\" class=\"dataframe\">\n",
              "  <thead>\n",
              "    <tr style=\"text-align: right;\">\n",
              "      <th></th>\n",
              "      <th>age_at_entry</th>\n",
              "      <th>sex</th>\n",
              "      <th>policy_term</th>\n",
              "      <th>policy_count</th>\n",
              "      <th>sum_assured</th>\n",
              "      <th>duration_mth</th>\n",
              "    </tr>\n",
              "    <tr>\n",
              "      <th>policy_id</th>\n",
              "      <th></th>\n",
              "      <th></th>\n",
              "      <th></th>\n",
              "      <th></th>\n",
              "      <th></th>\n",
              "      <th></th>\n",
              "    </tr>\n",
              "  </thead>\n",
              "  <tbody>\n",
              "    <tr>\n",
              "      <th>1</th>\n",
              "      <td>47</td>\n",
              "      <td>M</td>\n",
              "      <td>10</td>\n",
              "      <td>86</td>\n",
              "      <td>622000.0</td>\n",
              "      <td>1</td>\n",
              "    </tr>\n",
              "    <tr>\n",
              "      <th>2</th>\n",
              "      <td>29</td>\n",
              "      <td>M</td>\n",
              "      <td>20</td>\n",
              "      <td>56</td>\n",
              "      <td>752000.0</td>\n",
              "      <td>210</td>\n",
              "    </tr>\n",
              "    <tr>\n",
              "      <th>3</th>\n",
              "      <td>51</td>\n",
              "      <td>F</td>\n",
              "      <td>10</td>\n",
              "      <td>83</td>\n",
              "      <td>799000.0</td>\n",
              "      <td>15</td>\n",
              "    </tr>\n",
              "    <tr>\n",
              "      <th>4</th>\n",
              "      <td>32</td>\n",
              "      <td>F</td>\n",
              "      <td>20</td>\n",
              "      <td>72</td>\n",
              "      <td>422000.0</td>\n",
              "      <td>125</td>\n",
              "    </tr>\n",
              "    <tr>\n",
              "      <th>5</th>\n",
              "      <td>28</td>\n",
              "      <td>M</td>\n",
              "      <td>15</td>\n",
              "      <td>99</td>\n",
              "      <td>605000.0</td>\n",
              "      <td>55</td>\n",
              "    </tr>\n",
              "    <tr>\n",
              "      <th>...</th>\n",
              "      <td>...</td>\n",
              "      <td>...</td>\n",
              "      <td>...</td>\n",
              "      <td>...</td>\n",
              "      <td>...</td>\n",
              "      <td>...</td>\n",
              "    </tr>\n",
              "    <tr>\n",
              "      <th>9996</th>\n",
              "      <td>47</td>\n",
              "      <td>M</td>\n",
              "      <td>20</td>\n",
              "      <td>25</td>\n",
              "      <td>827000.0</td>\n",
              "      <td>157</td>\n",
              "    </tr>\n",
              "    <tr>\n",
              "      <th>9997</th>\n",
              "      <td>30</td>\n",
              "      <td>M</td>\n",
              "      <td>15</td>\n",
              "      <td>81</td>\n",
              "      <td>826000.0</td>\n",
              "      <td>168</td>\n",
              "    </tr>\n",
              "    <tr>\n",
              "      <th>9998</th>\n",
              "      <td>45</td>\n",
              "      <td>F</td>\n",
              "      <td>20</td>\n",
              "      <td>10</td>\n",
              "      <td>783000.0</td>\n",
              "      <td>146</td>\n",
              "    </tr>\n",
              "    <tr>\n",
              "      <th>9999</th>\n",
              "      <td>39</td>\n",
              "      <td>M</td>\n",
              "      <td>20</td>\n",
              "      <td>9</td>\n",
              "      <td>302000.0</td>\n",
              "      <td>11</td>\n",
              "    </tr>\n",
              "    <tr>\n",
              "      <th>10000</th>\n",
              "      <td>22</td>\n",
              "      <td>F</td>\n",
              "      <td>15</td>\n",
              "      <td>18</td>\n",
              "      <td>576000.0</td>\n",
              "      <td>166</td>\n",
              "    </tr>\n",
              "  </tbody>\n",
              "</table>\n",
              "<p>10000 rows × 6 columns</p>\n",
              "</div>"
            ],
            "text/plain": [
              "           age_at_entry sex  policy_term  policy_count  sum_assured  \\\n",
              "policy_id                                                             \n",
              "1                    47   M           10            86     622000.0   \n",
              "2                    29   M           20            56     752000.0   \n",
              "3                    51   F           10            83     799000.0   \n",
              "4                    32   F           20            72     422000.0   \n",
              "5                    28   M           15            99     605000.0   \n",
              "...                 ...  ..          ...           ...          ...   \n",
              "9996                 47   M           20            25     827000.0   \n",
              "9997                 30   M           15            81     826000.0   \n",
              "9998                 45   F           20            10     783000.0   \n",
              "9999                 39   M           20             9     302000.0   \n",
              "10000                22   F           15            18     576000.0   \n",
              "\n",
              "           duration_mth  \n",
              "policy_id                \n",
              "1                     1  \n",
              "2                   210  \n",
              "3                    15  \n",
              "4                   125  \n",
              "5                    55  \n",
              "...                 ...  \n",
              "9996                157  \n",
              "9997                168  \n",
              "9998                146  \n",
              "9999                 11  \n",
              "10000               166  \n",
              "\n",
              "[10000 rows x 6 columns]"
            ]
          },
          "execution_count": 31,
          "metadata": {},
          "output_type": "execute_result"
        }
      ],
      "source": [
        "import pandas as pd\n",
        "\n",
        "attrs = [\n",
        "    \"age_at_entry\",\n",
        "    \"sex\",\n",
        "    \"policy_term\",\n",
        "    \"policy_count\",\n",
        "    \"sum_assured\",\n",
        "    \"duration_mth\"\n",
        "]\n",
        "\n",
        "data = [\n",
        "    age_at_entry,\n",
        "    sex,\n",
        "    policy_term,\n",
        "    policy_count,\n",
        "    sum_assured,\n",
        "    duration_mth\n",
        "]\n",
        "\n",
        "model_point_table = pd.DataFrame(dict(zip(attrs, data)), index=range(1, MPCount+1))\n",
        "model_point_table.index.name = \"policy_id\"\n",
        "model_point_table"
      ]
    },
    {
      "cell_type": "markdown",
      "metadata": {
        "id": "9eqAHhau11Eg"
      },
      "source": [
        "# [Create Premium Table](https://lifelib.io/libraries/notebooks/basiclife/create_premium_table.html)"
      ]
    },
    {
      "cell_type": "code",
      "execution_count": 32,
      "metadata": {
        "id": "w4rLv6FG2Y0G"
      },
      "outputs": [
        {
          "name": "stdout",
          "output_type": "stream",
          "text": [
            "Note: you may need to restart the kernel to use updated packages.\n"
          ]
        }
      ],
      "source": [
        "%pip install modelx lifelib -q"
      ]
    },
    {
      "cell_type": "code",
      "execution_count": 33,
      "metadata": {
        "id": "GxkzIPGX5ewp"
      },
      "outputs": [],
      "source": [
        "import os\n",
        "import lifelib\n",
        "import shutil\n",
        "\n",
        "# set to True if you want to remove existing cluster folder\n",
        "REMOVE_CLUSTER = True\n",
        "\n",
        "#check if there is a folder named \"cluster\" in the current directory\n",
        "if os.path.exists(\"cluster\") & REMOVE_CLUSTER:\n",
        "    shutil.rmtree(\"cluster\")\n",
        "\n",
        "lifelib.create(\"cluster\", r\"./cluster\")"
      ]
    },
    {
      "cell_type": "code",
      "execution_count": 34,
      "metadata": {
        "id": "izH6Y0rp12ln"
      },
      "outputs": [],
      "source": [
        "import itertools\n",
        "import modelx as mx\n",
        "import pandas as pd"
      ]
    },
    {
      "cell_type": "code",
      "execution_count": 35,
      "metadata": {
        "id": "XE6Uj0H86Eo7"
      },
      "outputs": [],
      "source": [
        "space.model_point_table = model_point_table"
      ]
    },
    {
      "cell_type": "code",
      "execution_count": 36,
      "metadata": {
        "id": "JdBNG_yY6qKE"
      },
      "outputs": [],
      "source": [
        "@mx.defcells\n",
        "def premium_rate():\n",
        "    return (1 + loading_prem()) * net_premium_pp()"
      ]
    },
    {
      "cell_type": "code",
      "execution_count": 38,
      "metadata": {
        "id": "1Z9dleVt91TR"
      },
      "outputs": [
        {
          "name": "stderr",
          "output_type": "stream",
          "text": [
            "FutureWarning: Series.set_axis 'inplace' keyword is deprecated and will be removed in a future version. Use `obj = obj.set_axis(..., copy=False)` instead\n"
          ]
        }
      ],
      "source": [
        "model_point_table['premium'] = space.premium_rate()"
      ]
    },
    {
      "attachments": {},
      "cell_type": "markdown",
      "metadata": {},
      "source": [
        "# Distorting data for preso"
      ]
    },
    {
      "cell_type": "code",
      "execution_count": null,
      "metadata": {
        "id": "3-xTXyJ-NMUS"
      },
      "outputs": [],
      "source": [
        "#Add noise\n",
        "for col in model_point_table.columns:\n",
        "    model_point_table.loc[model_point_table.sample(frac=0.1).index, col] = pd.np.nan"
      ]
    },
    {
      "cell_type": "code",
      "execution_count": null,
      "metadata": {
        "id": "OoIcdemfu5zZ"
      },
      "outputs": [],
      "source": [
        "distorted_names = ['UUid ',\n",
        " 'Age At Entry',\n",
        " 'Sex ',\n",
        " 'Policy Term  ',\n",
        " 'Policy Count',\n",
        " 'Sum Assured ',\n",
        " 'Issue date',\n",
        " 'Payment freq',\n",
        " 'Payment_term',\n",
        " 'Premium']\n",
        "\n",
        "rename_dict = dict()\n",
        "for i in range(0,len(distorted_names)):\n",
        "  rename_dict.update({list(model_point_table.columns)[i]:distorted_names[i]})\n",
        "  \n",
        "model_point_table = model_point_table.rename(columns=rename_dict)\n",
        "model_point_table.columns"
      ]
    },
    {
      "cell_type": "code",
      "execution_count": null,
      "metadata": {
        "id": "fKH1pFyNzQ8D"
      },
      "outputs": [],
      "source": [
        "model_point_table.to_excel(\"model_point.xlsx\")"
      ]
    },
    {
      "cell_type": "markdown",
      "metadata": {
        "id": "XFPzD0cN-8jd"
      },
      "source": []
    },
    {
      "cell_type": "code",
      "execution_count": null,
      "metadata": {
        "id": "wIaIDID36Zld"
      },
      "outputs": [],
      "source": [
        "space.premium_pp.formula"
      ]
    },
    {
      "cell_type": "code",
      "execution_count": null,
      "metadata": {
        "id": "e4vWjodP2g90"
      },
      "outputs": [],
      "source": [
        "df = pd.DataFrame(itertools.product(range(20, 60), [10, 15, 20]), columns=['age_at_entry', 'policy_term'])\n",
        "df.index += 1\n",
        "df.index.name = 'point_id'\n",
        "df[\"sum_assured\"] = 1\n",
        "df"
      ]
    },
    {
      "cell_type": "code",
      "execution_count": null,
      "metadata": {
        "id": "80x_GEPY7MvO"
      },
      "outputs": [],
      "source": [
        "len(space.premium_rate())"
      ]
    },
    {
      "cell_type": "code",
      "execution_count": null,
      "metadata": {
        "id": "iyfN9phx6tu6"
      },
      "outputs": [],
      "source": [
        "premium_rate_table = df.copy()\n",
        "space.model_point_table = df\n",
        "premium_rate_table[\"premium_rate\"] = space.premium_rate()\n",
        "del premium_rate_table[\"sum_assured\"]\n",
        "premium_rate_table.set_index([\"age_at_entry\", \"policy_term\"], inplace=True)\n",
        "premium_rate_table[\"premium_rate\"]   # As Series"
      ]
    },
    {
      "cell_type": "code",
      "execution_count": null,
      "metadata": {
        "id": "ysinB-rx62EH"
      },
      "outputs": [],
      "source": [
        "model_point_table"
      ]
    },
    {
      "attachments": {},
      "cell_type": "markdown",
      "metadata": {},
      "source": [
        "# Additional Component for IAA preso"
      ]
    },
    {
      "cell_type": "code",
      "execution_count": null,
      "metadata": {
        "id": "0aJCVhqx-t-m"
      },
      "outputs": [],
      "source": []
    }
  ],
  "metadata": {
    "colab": {
      "private_outputs": true,
      "provenance": []
    },
    "kernelspec": {
      "display_name": "Python 3",
      "name": "python3"
    },
    "language_info": {
      "codemirror_mode": {
        "name": "ipython",
        "version": 3
      },
      "file_extension": ".py",
      "mimetype": "text/x-python",
      "name": "python",
      "nbconvert_exporter": "python",
      "pygments_lexer": "ipython3",
      "version": "3.10.10"
    }
  },
  "nbformat": 4,
  "nbformat_minor": 0
}
