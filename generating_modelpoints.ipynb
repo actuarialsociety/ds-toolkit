{
  "cells": [
    {
      "cell_type": "markdown",
      "metadata": {
        "id": "m9g0wOZcvtTy"
      },
      "source": [
        "Following guide from [lifelib](https://lifelib.io/libraries/notebooks/basiclife/generate_model_points.html)\n",
        "\n",
        "# [Generating model points for ASL](https://lifelib.io/libraries/notebooks/basiclife/generate_model_points_ASL.html)"
      ]
    },
    {
      "cell_type": "code",
      "execution_count": 22,
      "metadata": {
        "id": "bbh389WfvjC8"
      },
      "outputs": [],
      "source": [
        "import numpy as np\n",
        "from numpy.random import default_rng  # Requires NumPy 1.17 or newer\n",
        "import pandas as pd\n",
        "import uuid\n",
        "\n",
        "rng = default_rng(12345)\n",
        "\n",
        "# Number of Model Points\n",
        "point_size = 10000\n",
        "\n",
        "# Issue Age (Integer): 20 - 59 year old\n",
        "age_at_entry = rng.integers(low=20, high=60, size=point_size)\n",
        "\n",
        "# Sex (Char)\n",
        "Sex = [\n",
        "    \"M\",\n",
        "    \"F\"\n",
        "]\n",
        "\n",
        "sex = np.fromiter(map(lambda i: Sex[i], rng.integers(low=0, high=len(Sex), size=point_size)), np.dtype('<U1'))\n",
        "\n",
        "# Policy Term (Integer): 10, 15, 20\n",
        "policy_term = rng.integers(low=0, high=3, size=point_size) * 5 + 10\n",
        "\n",
        "\n",
        "# Sum Assured (Float): 10000 - 1000000\n",
        "sum_assured = np.round((1000000 - 10000) * rng.random(size=point_size) + 10000, -3)\n",
        "\n",
        "# Issue Date:\n",
        "# For existing policies, issue dates are set so that the policies are in-force on 2022/1/1.\n",
        "# For new business policie,issue dates are within 3 years from 2022/1/1.\n",
        "\n",
        "dur_offset = (policy_term + 3) * 12 * rng.random(size=point_size) - 36\n",
        "mth_offset = (dur_offset // 1).astype(int)\n",
        "day_offset = 1 - (dur_offset - mth_offset)\n",
        "issue_mth = pd.Series([pd.Period('2022-01', 'M')] * point_size) -1 - mth_offset\n",
        "day_offset = (np.ceil(issue_mth.dt.days_in_month * day_offset)).astype(int)\n",
        "issue_date = (issue_mth.dt.to_timestamp().dt.to_period('D') -1 + day_offset).dt.to_timestamp().to_numpy()\n",
        "\n",
        "# Policy Count (Integer):\n",
        "policy_count = np.rint(100 * rng.random(size=point_size)).astype(int)\n",
        "\n",
        "# Payment Frequency\n",
        "payment_freq = rng.choice([1, 2, 12], size=point_size)\n",
        "\n",
        "# Premium Payment Term\n",
        "short_paidup = pd.Series(rng.choice([True, False], size=point_size))\n",
        "polterm = pd.Series(policy_term)\n",
        "payment_term = polterm.mask(short_paidup & (polterm==10), 5).mask(short_paidup & (polterm>=15), 10).to_numpy()"
      ]
    },
    {
      "cell_type": "code",
      "execution_count": 29,
      "metadata": {
        "id": "ivkV1ZshzNac"
      },
      "outputs": [
        {
          "ename": "NameError",
          "evalue": "name 'duration_mth' is not defined",
          "output_type": "error",
          "traceback": [
            "\u001b[0;31m---------------------------------------------------------------------------\u001b[0m",
            "\u001b[0;31mNameError\u001b[0m                                 Traceback (most recent call last)",
            "Cell \u001b[0;32mIn[29], line 18\u001b[0m\n\u001b[1;32m      1\u001b[0m \u001b[39mimport\u001b[39;00m \u001b[39mpandas\u001b[39;00m \u001b[39mas\u001b[39;00m \u001b[39mpd\u001b[39;00m\n\u001b[1;32m      3\u001b[0m attrs \u001b[39m=\u001b[39m [\n\u001b[1;32m      4\u001b[0m     \u001b[39m\"\u001b[39m\u001b[39mage_at_entry\u001b[39m\u001b[39m\"\u001b[39m,\n\u001b[1;32m      5\u001b[0m     \u001b[39m\"\u001b[39m\u001b[39msex\u001b[39m\u001b[39m\"\u001b[39m,\n\u001b[0;32m   (...)\u001b[0m\n\u001b[1;32m      9\u001b[0m     \u001b[39m\"\u001b[39m\u001b[39mduration_mth\u001b[39m\u001b[39m\"\u001b[39m\n\u001b[1;32m     10\u001b[0m ]\n\u001b[1;32m     12\u001b[0m data \u001b[39m=\u001b[39m [\n\u001b[1;32m     13\u001b[0m     age_at_entry,\n\u001b[1;32m     14\u001b[0m     sex,\n\u001b[1;32m     15\u001b[0m     policy_term,\n\u001b[1;32m     16\u001b[0m     policy_count,\n\u001b[1;32m     17\u001b[0m     sum_assured,\n\u001b[0;32m---> 18\u001b[0m     duration_mth\n\u001b[1;32m     19\u001b[0m ]\n\u001b[1;32m     21\u001b[0m model_point_table \u001b[39m=\u001b[39m pd\u001b[39m.\u001b[39mDataFrame(\u001b[39mdict\u001b[39m(\u001b[39mzip\u001b[39m(attrs, data)), index\u001b[39m=\u001b[39m\u001b[39mrange\u001b[39m(\u001b[39m1\u001b[39m, MPCount\u001b[39m+\u001b[39m\u001b[39m1\u001b[39m))\n\u001b[1;32m     22\u001b[0m model_point_table\u001b[39m.\u001b[39mindex\u001b[39m.\u001b[39mname \u001b[39m=\u001b[39m \u001b[39m\"\u001b[39m\u001b[39mpolicy_id\u001b[39m\u001b[39m\"\u001b[39m\n",
            "\u001b[0;31mNameError\u001b[0m: name 'duration_mth' is not defined"
          ]
        }
      ],
      "source": [
        "import pandas as pd\n",
        "\n",
        "attrs = [\n",
        "    \"age_at_entry\",\n",
        "    \"sex\",\n",
        "    \"policy_term\",\n",
        "    \"policy_count\",\n",
        "    \"sum_assured\",\n",
        "    \"duration_mth\"\n",
        "]\n",
        "\n",
        "data = [\n",
        "    age_at_entry,\n",
        "    sex,\n",
        "    policy_term,\n",
        "    policy_count,\n",
        "    sum_assured,\n",
        "    duration_mth\n",
        "]\n",
        "\n",
        "model_point_table = pd.DataFrame(dict(zip(attrs, data)), index=range(1, MPCount+1))\n",
        "model_point_table.index.name = \"policy_id\"\n",
        "model_point_table"
      ]
    },
    {
      "cell_type": "markdown",
      "metadata": {
        "id": "9eqAHhau11Eg"
      },
      "source": [
        "# [Create Premium Table](https://lifelib.io/libraries/notebooks/basiclife/create_premium_table.html)"
      ]
    },
    {
      "cell_type": "code",
      "execution_count": 24,
      "metadata": {
        "id": "w4rLv6FG2Y0G"
      },
      "outputs": [
        {
          "name": "stdout",
          "output_type": "stream",
          "text": [
            "Note: you may need to restart the kernel to use updated packages.\n"
          ]
        }
      ],
      "source": [
        "%pip install modelx lifelib -q"
      ]
    },
    {
      "cell_type": "code",
      "execution_count": 11,
      "metadata": {
        "id": "GxkzIPGX5ewp"
      },
      "outputs": [],
      "source": [
        "import os\n",
        "import lifelib\n",
        "import shutil\n",
        "\n",
        "# set to True if you want to remove existing cluster folder\n",
        "REMOVE_CLUSTER = True\n",
        "\n",
        "#check if there is a folder named \"cluster\" in the current directory\n",
        "if os.path.exists(\"cluster\") & REMOVE_CLUSTER:\n",
        "    shutil.rmtree(\"cluster\")\n",
        "\n",
        "lifelib.create(\"cluster\", r\"./cluster\")"
      ]
    },
    {
      "cell_type": "code",
      "execution_count": 12,
      "metadata": {
        "id": "izH6Y0rp12ln"
      },
      "outputs": [],
      "source": [
        "import itertools\n",
        "import modelx as mx\n",
        "import pandas as pd"
      ]
    },
    {
      "cell_type": "code",
      "execution_count": 26,
      "metadata": {
        "id": "XE6Uj0H86Eo7"
      },
      "outputs": [],
      "source": [
        "space.model_point_table = model_point_table"
      ]
    },
    {
      "cell_type": "code",
      "execution_count": 27,
      "metadata": {
        "id": "JdBNG_yY6qKE"
      },
      "outputs": [],
      "source": [
        "@mx.defcells\n",
        "def premium_rate():\n",
        "    return (1 + loading_prem()) * net_premium_pp()"
      ]
    },
    {
      "cell_type": "code",
      "execution_count": 21,
      "metadata": {},
      "outputs": [
        {
          "data": {
            "text/plain": [
              "Index(['uuid', 'age_at_entry', 'sex', 'policy_term', 'policy_count',\n",
              "       'sum_assured', 'issue_date', 'payment_freq', 'payment_term'],\n",
              "      dtype='object')"
            ]
          },
          "execution_count": 21,
          "metadata": {},
          "output_type": "execute_result"
        }
      ],
      "source": [
        "model_point_table.columns"
      ]
    },
    {
      "cell_type": "code",
      "execution_count": null,
      "metadata": {},
      "outputs": [],
      "source": []
    },
    {
      "cell_type": "code",
      "execution_count": 28,
      "metadata": {
        "id": "1Z9dleVt91TR"
      },
      "outputs": [
        {
          "ename": "FormulaError",
          "evalue": "Error raised during formula execution\nKeyError: 'duration_mth'\n\nFormula traceback:\n0: BasicTerm_ME_for_Cluster.Projection.premium_rate(), line 2\n...\n3: BasicTerm_ME_for_Cluster.Projection.max_proj_len(), line 1\n4: BasicTerm_ME_for_Cluster.Projection.proj_len(), line 21\n5: BasicTerm_ME_for_Cluster.Projection.duration_mth(t=0), line 17\n\nFormula source:\ndef duration_mth(t):\n    \"\"\"Duration of model points at ``t`` in months\n\n    Indicates how many months the policies have been in-force at ``t``.\n    The initial values at time 0 are read from the ``duration_mth`` column in\n    :attr:`model_point_table` through :func:`model_point`.\n    Increments by 1 as ``t`` increments.\n    Negative values of :func:`duration_mth` indicate future new business\n    policies. For example, If the :func:`duration_mth` is\n    -15 at time 0, the model point is issued at ``t=15``.\n\n    .. seealso:: :func:`model_point`\n\n    \"\"\"\n\n    if t == 0:\n        return model_point()['duration_mth']\n    else:\n        return duration_mth(t-1) + 1\n",
          "output_type": "error",
          "traceback": [
            "\u001b[0;31m---------------------------------------------------------------------------\u001b[0m",
            "\u001b[0;31mFormulaError\u001b[0m                              Traceback (most recent call last)",
            "Cell \u001b[0;32mIn[28], line 1\u001b[0m\n\u001b[0;32m----> 1\u001b[0m model_point_table[\u001b[39m'\u001b[39m\u001b[39mpremium\u001b[39m\u001b[39m'\u001b[39m] \u001b[39m=\u001b[39m space\u001b[39m.\u001b[39;49mpremium_rate()\n",
            "File \u001b[0;32m~/dev/dstoolkit/.conda/lib/python3.10/site-packages/modelx/core/cells.py:101\u001b[0m, in \u001b[0;36mCells.__call__\u001b[0;34m(self, *args, **kwargs)\u001b[0m\n\u001b[1;32m    100\u001b[0m \u001b[39mdef\u001b[39;00m \u001b[39m__call__\u001b[39m(\u001b[39mself\u001b[39m, \u001b[39m*\u001b[39margs, \u001b[39m*\u001b[39m\u001b[39m*\u001b[39mkwargs):\n\u001b[0;32m--> 101\u001b[0m     \u001b[39mreturn\u001b[39;00m \u001b[39mself\u001b[39;49m\u001b[39m.\u001b[39;49m_impl\u001b[39m.\u001b[39;49mget_value(args, kwargs)\n",
            "File \u001b[0;32m~/dev/dstoolkit/.conda/lib/python3.10/site-packages/modelx/core/cells.py:613\u001b[0m, in \u001b[0;36mCellsImpl.get_value\u001b[0;34m(self, args, kwargs)\u001b[0m\n\u001b[1;32m    611\u001b[0m \u001b[39mdef\u001b[39;00m \u001b[39mget_value\u001b[39m(\u001b[39mself\u001b[39m, args, kwargs\u001b[39m=\u001b[39m\u001b[39mNone\u001b[39;00m):\n\u001b[1;32m    612\u001b[0m     node \u001b[39m=\u001b[39m get_node(\u001b[39mself\u001b[39m, args, kwargs)\n\u001b[0;32m--> 613\u001b[0m     \u001b[39mreturn\u001b[39;00m \u001b[39mself\u001b[39;49m\u001b[39m.\u001b[39;49msystem\u001b[39m.\u001b[39;49mexecutor\u001b[39m.\u001b[39;49meval_node(node)\n",
            "File \u001b[0;32m~/dev/dstoolkit/.conda/lib/python3.10/site-packages/modelx/core/system.py:61\u001b[0m, in \u001b[0;36mNonThreadedExecutor.eval_node\u001b[0;34m(self, node)\u001b[0m\n\u001b[1;32m     59\u001b[0m         value \u001b[39m=\u001b[39m \u001b[39mself\u001b[39m\u001b[39m.\u001b[39m_eval_formula(node)\n\u001b[1;32m     60\u001b[0m     \u001b[39melse\u001b[39;00m:\n\u001b[0;32m---> 61\u001b[0m         value \u001b[39m=\u001b[39m \u001b[39mself\u001b[39;49m\u001b[39m.\u001b[39;49m_start_exec(node)\n\u001b[1;32m     63\u001b[0m \u001b[39mreturn\u001b[39;00m value\n",
            "File \u001b[0;32m~/dev/dstoolkit/.conda/lib/python3.10/site-packages/modelx/core/system.py:111\u001b[0m, in \u001b[0;36mNonThreadedExecutor._start_exec\u001b[0;34m(self, node)\u001b[0m\n\u001b[1;32m    109\u001b[0m     errmsg \u001b[39m=\u001b[39m \u001b[39m\"\u001b[39m\u001b[39m\"\u001b[39m\u001b[39m.\u001b[39mjoin(errmsg)\n\u001b[1;32m    110\u001b[0m     errmsg \u001b[39m+\u001b[39m\u001b[39m=\u001b[39m \u001b[39mself\u001b[39m\u001b[39m.\u001b[39merrorstack\u001b[39m.\u001b[39mtracemessage()\n\u001b[0;32m--> 111\u001b[0m     \u001b[39mraise\u001b[39;00m FormulaError(\n\u001b[1;32m    112\u001b[0m         \u001b[39m\"\u001b[39m\u001b[39mError raised during formula execution\u001b[39m\u001b[39m\\n\u001b[39;00m\u001b[39m\"\u001b[39m \u001b[39m+\u001b[39m errmsg)\n\u001b[1;32m    113\u001b[0m \u001b[39melse\u001b[39;00m:\n\u001b[1;32m    114\u001b[0m     \u001b[39mraise\u001b[39;00m \u001b[39mself\u001b[39m\u001b[39m.\u001b[39mexcinfo[\u001b[39m1\u001b[39m]\n",
            "\u001b[0;31mFormulaError\u001b[0m: Error raised during formula execution\nKeyError: 'duration_mth'\n\nFormula traceback:\n0: BasicTerm_ME_for_Cluster.Projection.premium_rate(), line 2\n...\n3: BasicTerm_ME_for_Cluster.Projection.max_proj_len(), line 1\n4: BasicTerm_ME_for_Cluster.Projection.proj_len(), line 21\n5: BasicTerm_ME_for_Cluster.Projection.duration_mth(t=0), line 17\n\nFormula source:\ndef duration_mth(t):\n    \"\"\"Duration of model points at ``t`` in months\n\n    Indicates how many months the policies have been in-force at ``t``.\n    The initial values at time 0 are read from the ``duration_mth`` column in\n    :attr:`model_point_table` through :func:`model_point`.\n    Increments by 1 as ``t`` increments.\n    Negative values of :func:`duration_mth` indicate future new business\n    policies. For example, If the :func:`duration_mth` is\n    -15 at time 0, the model point is issued at ``t=15``.\n\n    .. seealso:: :func:`model_point`\n\n    \"\"\"\n\n    if t == 0:\n        return model_point()['duration_mth']\n    else:\n        return duration_mth(t-1) + 1\n"
          ]
        }
      ],
      "source": [
        "model_point_table['premium'] = space.premium_rate()"
      ]
    },
    {
      "cell_type": "code",
      "execution_count": null,
      "metadata": {},
      "outputs": [],
      "source": []
    },
    {
      "cell_type": "code",
      "execution_count": null,
      "metadata": {},
      "outputs": [],
      "source": []
    },
    {
      "cell_type": "code",
      "execution_count": null,
      "metadata": {
        "id": "3-xTXyJ-NMUS"
      },
      "outputs": [],
      "source": [
        "#Add noise\n",
        "for col in model_point_table.columns:\n",
        "    model_point_table.loc[model_point_table.sample(frac=0.1).index, col] = pd.np.nan\n",
        "\n"
      ]
    },
    {
      "cell_type": "code",
      "execution_count": null,
      "metadata": {
        "id": "OoIcdemfu5zZ"
      },
      "outputs": [],
      "source": [
        "distorted_names = ['UUid ',\n",
        " 'Age At Entry',\n",
        " 'Sex ',\n",
        " 'Policy Term  ',\n",
        " 'Policy Count',\n",
        " 'Sum Assured ',\n",
        " 'Issue date',\n",
        " 'Payment freq',\n",
        " 'Payment_term',\n",
        " 'Premium']\n",
        "rename_dict = dict()\n",
        "for i in range(0,len(distorted_names)):\n",
        "  rename_dict.update({list(model_point_table.columns)[i]:distorted_names[i]})\n",
        "model_point_table = model_point_table.rename(columns=rename_dict)\n",
        "model_point_table.columns"
      ]
    },
    {
      "cell_type": "code",
      "execution_count": null,
      "metadata": {
        "id": "fKH1pFyNzQ8D"
      },
      "outputs": [],
      "source": [
        "model_point_table.to_excel(\"model_point.xlsx\")"
      ]
    },
    {
      "cell_type": "markdown",
      "metadata": {
        "id": "XFPzD0cN-8jd"
      },
      "source": []
    },
    {
      "cell_type": "code",
      "execution_count": null,
      "metadata": {
        "id": "wIaIDID36Zld"
      },
      "outputs": [],
      "source": [
        "space.premium_pp.formula"
      ]
    },
    {
      "cell_type": "code",
      "execution_count": null,
      "metadata": {
        "id": "e4vWjodP2g90"
      },
      "outputs": [],
      "source": [
        "df = pd.DataFrame(itertools.product(range(20, 60), [10, 15, 20]), columns=['age_at_entry', 'policy_term'])\n",
        "df.index += 1\n",
        "df.index.name = 'point_id'\n",
        "df[\"sum_assured\"] = 1\n",
        "df"
      ]
    },
    {
      "cell_type": "code",
      "execution_count": null,
      "metadata": {
        "id": "80x_GEPY7MvO"
      },
      "outputs": [],
      "source": [
        "len(space.premium_rate())"
      ]
    },
    {
      "cell_type": "code",
      "execution_count": null,
      "metadata": {
        "id": "iyfN9phx6tu6"
      },
      "outputs": [],
      "source": [
        "premium_rate_table = df.copy()\n",
        "space.model_point_table = df\n",
        "premium_rate_table[\"premium_rate\"] = space.premium_rate()\n",
        "del premium_rate_table[\"sum_assured\"]\n",
        "premium_rate_table.set_index([\"age_at_entry\", \"policy_term\"], inplace=True)\n",
        "premium_rate_table[\"premium_rate\"]   # As Series"
      ]
    },
    {
      "cell_type": "code",
      "execution_count": null,
      "metadata": {
        "id": "ysinB-rx62EH"
      },
      "outputs": [],
      "source": [
        "model_point_table"
      ]
    },
    {
      "attachments": {},
      "cell_type": "markdown",
      "metadata": {},
      "source": [
        "# Additional Component for IAA preso"
      ]
    },
    {
      "cell_type": "code",
      "execution_count": null,
      "metadata": {
        "id": "0aJCVhqx-t-m"
      },
      "outputs": [],
      "source": []
    }
  ],
  "metadata": {
    "colab": {
      "private_outputs": true,
      "provenance": []
    },
    "kernelspec": {
      "display_name": "Python 3",
      "name": "python3"
    },
    "language_info": {
      "codemirror_mode": {
        "name": "ipython",
        "version": 3
      },
      "file_extension": ".py",
      "mimetype": "text/x-python",
      "name": "python",
      "nbconvert_exporter": "python",
      "pygments_lexer": "ipython3",
      "version": "3.10.10"
    }
  },
  "nbformat": 4,
  "nbformat_minor": 0
}
