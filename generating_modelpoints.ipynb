{
  "cells": [
    {
      "cell_type": "code",
      "execution_count": 32,
      "metadata": {
        "id": "w4rLv6FG2Y0G"
      },
      "outputs": [
        {
          "name": "stdout",
          "output_type": "stream",
          "text": [
            "Note: you may need to restart the kernel to use updated packages.\n"
          ]
        }
      ],
      "source": [
        "%pip install modelx lifelib -q"
      ]
    },
    {
      "attachments": {},
      "cell_type": "markdown",
      "metadata": {
        "id": "m9g0wOZcvtTy"
      },
      "source": [
        "Following guide from [lifelib](https://lifelib.io/libraries/notebooks/basiclife/generate_model_points.html)\n",
        "\n",
        "# [Generating model points for with duration](https://lifelib.io/libraries/notebooks/basiclife/generate_model_points_with_duration.html)"
      ]
    },
    {
      "cell_type": "code",
      "execution_count": 39,
      "metadata": {
        "id": "bbh389WfvjC8"
      },
      "outputs": [],
      "source": [
        "# import libraries\n",
        "import numpy as np # for math\n",
        "from numpy.random import default_rng  # Requires NumPy 1.17 or newer\n",
        "import pandas as pd # for data manipulation\n",
        "import itertools # for looping\n",
        "import modelx as mx # for model building\n",
        "import lifelib # for life table\n",
        "\n",
        "# Set seed for reproducibility\n",
        "rng = default_rng(12345)\n",
        "\n",
        "# Number of Model Points\n",
        "MPCount = 10000\n",
        "\n",
        "# Issue Age (Integer): 20 - 59 year old\n",
        "age_at_entry = rng.integers(low=20, high=60, size=MPCount)\n",
        "\n",
        "# Sex (Char)\n",
        "Sex = [\n",
        "    \"M\",\n",
        "    \"F\"\n",
        "]\n",
        "\n",
        "sex = np.fromiter(map(lambda i: Sex[i], rng.integers(low=0, high=len(Sex), size=MPCount)), np.dtype('<U1'))\n",
        "\n",
        "# Policy Term (Integer): 10, 15, 20\n",
        "policy_term = rng.integers(low=0, high=3, size=MPCount) * 5 + 10\n",
        "\n",
        "# Sum Assured (Float): 10000 - 1000000\n",
        "sum_assured = np.round((1000000 - 10000) * rng.random(size=MPCount) + 10000, -3)\n",
        "\n",
        "# Duration in month (Int): -36 < Duration(mth) < Policy Term in month\n",
        "duration_mth = np.rint((policy_term + 3) * 12 * rng.random(size=MPCount) - 36).astype(int)\n",
        "\n",
        "# Policy Count (Integer): 1\n",
        "policy_count = np.rint(100 * rng.random(size=MPCount)).astype(int)"
      ]
    },
    {
      "cell_type": "code",
      "execution_count": 49,
      "metadata": {
        "id": "ivkV1ZshzNac"
      },
      "outputs": [
        {
          "data": {
            "text/html": [
              "<div>\n",
              "<style scoped>\n",
              "    .dataframe tbody tr th:only-of-type {\n",
              "        vertical-align: middle;\n",
              "    }\n",
              "\n",
              "    .dataframe tbody tr th {\n",
              "        vertical-align: top;\n",
              "    }\n",
              "\n",
              "    .dataframe thead th {\n",
              "        text-align: right;\n",
              "    }\n",
              "</style>\n",
              "<table border=\"1\" class=\"dataframe\">\n",
              "  <thead>\n",
              "    <tr style=\"text-align: right;\">\n",
              "      <th></th>\n",
              "      <th>uuid</th>\n",
              "      <th>age_at_entry</th>\n",
              "      <th>sex</th>\n",
              "      <th>policy_term</th>\n",
              "      <th>policy_count</th>\n",
              "      <th>sum_assured</th>\n",
              "      <th>duration_mth</th>\n",
              "    </tr>\n",
              "    <tr>\n",
              "      <th>policy_id</th>\n",
              "      <th></th>\n",
              "      <th></th>\n",
              "      <th></th>\n",
              "      <th></th>\n",
              "      <th></th>\n",
              "      <th></th>\n",
              "      <th></th>\n",
              "    </tr>\n",
              "  </thead>\n",
              "  <tbody>\n",
              "    <tr>\n",
              "      <th>1</th>\n",
              "      <td>2d0a7834-d93a-11ed-b6e8-eedd30f30a66</td>\n",
              "      <td>47</td>\n",
              "      <td>M</td>\n",
              "      <td>10</td>\n",
              "      <td>86</td>\n",
              "      <td>622000.0</td>\n",
              "      <td>1</td>\n",
              "    </tr>\n",
              "    <tr>\n",
              "      <th>2</th>\n",
              "      <td>2d0a7938-d93a-11ed-b6e8-eedd30f30a66</td>\n",
              "      <td>29</td>\n",
              "      <td>M</td>\n",
              "      <td>20</td>\n",
              "      <td>56</td>\n",
              "      <td>752000.0</td>\n",
              "      <td>210</td>\n",
              "    </tr>\n",
              "    <tr>\n",
              "      <th>3</th>\n",
              "      <td>2d0a7956-d93a-11ed-b6e8-eedd30f30a66</td>\n",
              "      <td>51</td>\n",
              "      <td>F</td>\n",
              "      <td>10</td>\n",
              "      <td>83</td>\n",
              "      <td>799000.0</td>\n",
              "      <td>15</td>\n",
              "    </tr>\n",
              "    <tr>\n",
              "      <th>4</th>\n",
              "      <td>2d0a796a-d93a-11ed-b6e8-eedd30f30a66</td>\n",
              "      <td>32</td>\n",
              "      <td>F</td>\n",
              "      <td>20</td>\n",
              "      <td>72</td>\n",
              "      <td>422000.0</td>\n",
              "      <td>125</td>\n",
              "    </tr>\n",
              "    <tr>\n",
              "      <th>5</th>\n",
              "      <td>2d0a797e-d93a-11ed-b6e8-eedd30f30a66</td>\n",
              "      <td>28</td>\n",
              "      <td>M</td>\n",
              "      <td>15</td>\n",
              "      <td>99</td>\n",
              "      <td>605000.0</td>\n",
              "      <td>55</td>\n",
              "    </tr>\n",
              "    <tr>\n",
              "      <th>...</th>\n",
              "      <td>...</td>\n",
              "      <td>...</td>\n",
              "      <td>...</td>\n",
              "      <td>...</td>\n",
              "      <td>...</td>\n",
              "      <td>...</td>\n",
              "      <td>...</td>\n",
              "    </tr>\n",
              "    <tr>\n",
              "      <th>9996</th>\n",
              "      <td>2d0cb284-d93a-11ed-b6e8-eedd30f30a66</td>\n",
              "      <td>47</td>\n",
              "      <td>M</td>\n",
              "      <td>20</td>\n",
              "      <td>25</td>\n",
              "      <td>827000.0</td>\n",
              "      <td>157</td>\n",
              "    </tr>\n",
              "    <tr>\n",
              "      <th>9997</th>\n",
              "      <td>2d0cb28e-d93a-11ed-b6e8-eedd30f30a66</td>\n",
              "      <td>30</td>\n",
              "      <td>M</td>\n",
              "      <td>15</td>\n",
              "      <td>81</td>\n",
              "      <td>826000.0</td>\n",
              "      <td>168</td>\n",
              "    </tr>\n",
              "    <tr>\n",
              "      <th>9998</th>\n",
              "      <td>2d0cb2a2-d93a-11ed-b6e8-eedd30f30a66</td>\n",
              "      <td>45</td>\n",
              "      <td>F</td>\n",
              "      <td>20</td>\n",
              "      <td>10</td>\n",
              "      <td>783000.0</td>\n",
              "      <td>146</td>\n",
              "    </tr>\n",
              "    <tr>\n",
              "      <th>9999</th>\n",
              "      <td>2d0cb2ac-d93a-11ed-b6e8-eedd30f30a66</td>\n",
              "      <td>39</td>\n",
              "      <td>M</td>\n",
              "      <td>20</td>\n",
              "      <td>9</td>\n",
              "      <td>302000.0</td>\n",
              "      <td>11</td>\n",
              "    </tr>\n",
              "    <tr>\n",
              "      <th>10000</th>\n",
              "      <td>2d0cb2b6-d93a-11ed-b6e8-eedd30f30a66</td>\n",
              "      <td>22</td>\n",
              "      <td>F</td>\n",
              "      <td>15</td>\n",
              "      <td>18</td>\n",
              "      <td>576000.0</td>\n",
              "      <td>166</td>\n",
              "    </tr>\n",
              "  </tbody>\n",
              "</table>\n",
              "<p>10000 rows × 7 columns</p>\n",
              "</div>"
            ],
            "text/plain": [
              "                                           uuid  age_at_entry sex  \\\n",
              "policy_id                                                           \n",
              "1          2d0a7834-d93a-11ed-b6e8-eedd30f30a66            47   M   \n",
              "2          2d0a7938-d93a-11ed-b6e8-eedd30f30a66            29   M   \n",
              "3          2d0a7956-d93a-11ed-b6e8-eedd30f30a66            51   F   \n",
              "4          2d0a796a-d93a-11ed-b6e8-eedd30f30a66            32   F   \n",
              "5          2d0a797e-d93a-11ed-b6e8-eedd30f30a66            28   M   \n",
              "...                                         ...           ...  ..   \n",
              "9996       2d0cb284-d93a-11ed-b6e8-eedd30f30a66            47   M   \n",
              "9997       2d0cb28e-d93a-11ed-b6e8-eedd30f30a66            30   M   \n",
              "9998       2d0cb2a2-d93a-11ed-b6e8-eedd30f30a66            45   F   \n",
              "9999       2d0cb2ac-d93a-11ed-b6e8-eedd30f30a66            39   M   \n",
              "10000      2d0cb2b6-d93a-11ed-b6e8-eedd30f30a66            22   F   \n",
              "\n",
              "           policy_term  policy_count  sum_assured  duration_mth  \n",
              "policy_id                                                        \n",
              "1                   10            86     622000.0             1  \n",
              "2                   20            56     752000.0           210  \n",
              "3                   10            83     799000.0            15  \n",
              "4                   20            72     422000.0           125  \n",
              "5                   15            99     605000.0            55  \n",
              "...                ...           ...          ...           ...  \n",
              "9996                20            25     827000.0           157  \n",
              "9997                15            81     826000.0           168  \n",
              "9998                20            10     783000.0           146  \n",
              "9999                20             9     302000.0            11  \n",
              "10000               15            18     576000.0           166  \n",
              "\n",
              "[10000 rows x 7 columns]"
            ]
          },
          "metadata": {},
          "output_type": "display_data"
        }
      ],
      "source": [
        "# Set attributes\n",
        "attrs = [\n",
        "    \"age_at_entry\",\n",
        "    \"sex\",\n",
        "    \"policy_term\",\n",
        "    \"policy_count\",\n",
        "    \"sum_assured\",\n",
        "    \"duration_mth\"\n",
        "]\n",
        "\n",
        "# Set data\n",
        "data = [\n",
        "    age_at_entry,\n",
        "    sex,\n",
        "    policy_term,\n",
        "    policy_count,\n",
        "    sum_assured,\n",
        "    duration_mth\n",
        "]\n",
        "\n",
        "# Create model point table\n",
        "model_point_table = pd.DataFrame(dict(zip(attrs, data)), index=range(1, MPCount+1))\n",
        "\n",
        "# Set index name\n",
        "model_point_table.index.name = \"policy_id\"\n",
        "\n",
        "model_point_table[\"uuid\"] = [str(uuid.uuid1()) for i in range(0, model_point_table.shape[0])]\n",
        "\n",
        "# shift column 'Name' to first position\n",
        "first_column = model_point_table.pop('uuid')\n",
        "  \n",
        "# insert column using insert(position,column_name,\n",
        "# first_column) function\n",
        "model_point_table.insert(0, 'uuid', first_column)\n",
        "\n",
        "# Display model point table\n",
        "display(model_point_table)"
      ]
    },
    {
      "attachments": {},
      "cell_type": "markdown",
      "metadata": {},
      "source": [
        "# Additional Component for IAA preso"
      ]
    },
    {
      "cell_type": "code",
      "execution_count": 56,
      "metadata": {},
      "outputs": [
        {
          "data": {
            "text/html": [
              "<div>\n",
              "<style scoped>\n",
              "    .dataframe tbody tr th:only-of-type {\n",
              "        vertical-align: middle;\n",
              "    }\n",
              "\n",
              "    .dataframe tbody tr th {\n",
              "        vertical-align: top;\n",
              "    }\n",
              "\n",
              "    .dataframe thead th {\n",
              "        text-align: right;\n",
              "    }\n",
              "</style>\n",
              "<table border=\"1\" class=\"dataframe\">\n",
              "  <thead>\n",
              "    <tr style=\"text-align: right;\">\n",
              "      <th></th>\n",
              "      <th>uuid</th>\n",
              "    </tr>\n",
              "    <tr>\n",
              "      <th>policy_id</th>\n",
              "      <th></th>\n",
              "    </tr>\n",
              "  </thead>\n",
              "  <tbody>\n",
              "    <tr>\n",
              "      <th>1</th>\n",
              "      <td>2d0a7834-d93a-11ed-b6e8-eedd30f30a66</td>\n",
              "    </tr>\n",
              "    <tr>\n",
              "      <th>2</th>\n",
              "      <td>2d0a7938-d93a-11ed-b6e8-eedd30f30a66</td>\n",
              "    </tr>\n",
              "    <tr>\n",
              "      <th>3</th>\n",
              "      <td>2d0a7956-d93a-11ed-b6e8-eedd30f30a66</td>\n",
              "    </tr>\n",
              "    <tr>\n",
              "      <th>4</th>\n",
              "      <td>2d0a796a-d93a-11ed-b6e8-eedd30f30a66</td>\n",
              "    </tr>\n",
              "    <tr>\n",
              "      <th>5</th>\n",
              "      <td>2d0a797e-d93a-11ed-b6e8-eedd30f30a66</td>\n",
              "    </tr>\n",
              "    <tr>\n",
              "      <th>...</th>\n",
              "      <td>...</td>\n",
              "    </tr>\n",
              "    <tr>\n",
              "      <th>9996</th>\n",
              "      <td>2d0cb284-d93a-11ed-b6e8-eedd30f30a66</td>\n",
              "    </tr>\n",
              "    <tr>\n",
              "      <th>9997</th>\n",
              "      <td>2d0cb28e-d93a-11ed-b6e8-eedd30f30a66</td>\n",
              "    </tr>\n",
              "    <tr>\n",
              "      <th>9998</th>\n",
              "      <td>2d0cb2a2-d93a-11ed-b6e8-eedd30f30a66</td>\n",
              "    </tr>\n",
              "    <tr>\n",
              "      <th>9999</th>\n",
              "      <td>2d0cb2ac-d93a-11ed-b6e8-eedd30f30a66</td>\n",
              "    </tr>\n",
              "    <tr>\n",
              "      <th>10000</th>\n",
              "      <td>2d0cb2b6-d93a-11ed-b6e8-eedd30f30a66</td>\n",
              "    </tr>\n",
              "  </tbody>\n",
              "</table>\n",
              "<p>10000 rows × 1 columns</p>\n",
              "</div>"
            ],
            "text/plain": [
              "                                           uuid\n",
              "policy_id                                      \n",
              "1          2d0a7834-d93a-11ed-b6e8-eedd30f30a66\n",
              "2          2d0a7938-d93a-11ed-b6e8-eedd30f30a66\n",
              "3          2d0a7956-d93a-11ed-b6e8-eedd30f30a66\n",
              "4          2d0a796a-d93a-11ed-b6e8-eedd30f30a66\n",
              "5          2d0a797e-d93a-11ed-b6e8-eedd30f30a66\n",
              "...                                         ...\n",
              "9996       2d0cb284-d93a-11ed-b6e8-eedd30f30a66\n",
              "9997       2d0cb28e-d93a-11ed-b6e8-eedd30f30a66\n",
              "9998       2d0cb2a2-d93a-11ed-b6e8-eedd30f30a66\n",
              "9999       2d0cb2ac-d93a-11ed-b6e8-eedd30f30a66\n",
              "10000      2d0cb2b6-d93a-11ed-b6e8-eedd30f30a66\n",
              "\n",
              "[10000 rows x 1 columns]"
            ]
          },
          "execution_count": 56,
          "metadata": {},
          "output_type": "execute_result"
        }
      ],
      "source": [
        "# extending model point table\n",
        "\n"
      ]
    },
    {
      "cell_type": "markdown",
      "metadata": {
        "id": "9eqAHhau11Eg"
      },
      "source": [
        "# [Create Premium Table](https://lifelib.io/libraries/notebooks/basiclife/create_premium_table.html)"
      ]
    },
    {
      "cell_type": "code",
      "execution_count": 50,
      "metadata": {
        "id": "GxkzIPGX5ewp"
      },
      "outputs": [],
      "source": [
        "# set to True if you want to remove existing cluster folder\n",
        "REMOVE_CLUSTER = True\n",
        "\n",
        "#check if there is a folder named \"cluster\" in the current directory\n",
        "if os.path.exists(\"cluster\") & REMOVE_CLUSTER:\n",
        "    shutil.rmtree(\"cluster\")\n",
        "\n",
        "lifelib.create(\"cluster\", r\"./cluster\")"
      ]
    },
    {
      "cell_type": "code",
      "execution_count": 45,
      "metadata": {
        "id": "XE6Uj0H86Eo7"
      },
      "outputs": [],
      "source": [
        "space.model_point_table = model_point_table"
      ]
    },
    {
      "cell_type": "code",
      "execution_count": 46,
      "metadata": {
        "id": "JdBNG_yY6qKE"
      },
      "outputs": [],
      "source": [
        "@mx.defcells\n",
        "def premium_rate():\n",
        "    return (1 + loading_prem()) * net_premium_pp()"
      ]
    },
    {
      "cell_type": "code",
      "execution_count": 47,
      "metadata": {
        "id": "1Z9dleVt91TR"
      },
      "outputs": [
        {
          "name": "stderr",
          "output_type": "stream",
          "text": [
            "FutureWarning: Series.set_axis 'inplace' keyword is deprecated and will be removed in a future version. Use `obj = obj.set_axis(..., copy=False)` instead\n"
          ]
        }
      ],
      "source": [
        "model_point_table['premium'] = space.premium_rate()"
      ]
    },
    {
      "attachments": {},
      "cell_type": "markdown",
      "metadata": {},
      "source": [
        "# Distorting data for preso"
      ]
    },
    {
      "cell_type": "code",
      "execution_count": null,
      "metadata": {
        "id": "3-xTXyJ-NMUS"
      },
      "outputs": [],
      "source": [
        "#Add noise\n",
        "for col in model_point_table.columns:\n",
        "    model_point_table.loc[model_point_table.sample(frac=0.1).index, col] = pd.np.nan"
      ]
    },
    {
      "cell_type": "code",
      "execution_count": null,
      "metadata": {
        "id": "OoIcdemfu5zZ"
      },
      "outputs": [],
      "source": [
        "distorted_names = ['UUid ',\n",
        " 'Age At Entry',\n",
        " 'Sex ',\n",
        " 'Policy Term  ',\n",
        " 'Policy Count',\n",
        " 'Sum Assured ',\n",
        " 'Issue date',\n",
        " 'Payment freq',\n",
        " 'Payment_term',\n",
        " 'Premium']\n",
        "\n",
        "rename_dict = dict()\n",
        "for i in range(0,len(distorted_names)):\n",
        "  rename_dict.update({list(model_point_table.columns)[i]:distorted_names[i]})\n",
        "  \n",
        "model_point_table = model_point_table.rename(columns=rename_dict)\n",
        "model_point_table.columns"
      ]
    },
    {
      "cell_type": "code",
      "execution_count": null,
      "metadata": {
        "id": "fKH1pFyNzQ8D"
      },
      "outputs": [],
      "source": [
        "model_point_table.to_excel(\"model_point.xlsx\")"
      ]
    },
    {
      "cell_type": "markdown",
      "metadata": {
        "id": "XFPzD0cN-8jd"
      },
      "source": []
    },
    {
      "cell_type": "code",
      "execution_count": null,
      "metadata": {
        "id": "wIaIDID36Zld"
      },
      "outputs": [],
      "source": [
        "space.premium_pp.formula"
      ]
    },
    {
      "cell_type": "code",
      "execution_count": null,
      "metadata": {
        "id": "e4vWjodP2g90"
      },
      "outputs": [],
      "source": [
        "df = pd.DataFrame(itertools.product(range(20, 60), [10, 15, 20]), columns=['age_at_entry', 'policy_term'])\n",
        "df.index += 1\n",
        "df.index.name = 'point_id'\n",
        "df[\"sum_assured\"] = 1\n",
        "df"
      ]
    },
    {
      "cell_type": "code",
      "execution_count": null,
      "metadata": {
        "id": "80x_GEPY7MvO"
      },
      "outputs": [],
      "source": [
        "len(space.premium_rate())"
      ]
    },
    {
      "cell_type": "code",
      "execution_count": null,
      "metadata": {
        "id": "iyfN9phx6tu6"
      },
      "outputs": [],
      "source": [
        "premium_rate_table = df.copy()\n",
        "space.model_point_table = df\n",
        "premium_rate_table[\"premium_rate\"] = space.premium_rate()\n",
        "del premium_rate_table[\"sum_assured\"]\n",
        "premium_rate_table.set_index([\"age_at_entry\", \"policy_term\"], inplace=True)\n",
        "premium_rate_table[\"premium_rate\"]   # As Series"
      ]
    },
    {
      "cell_type": "code",
      "execution_count": null,
      "metadata": {
        "id": "ysinB-rx62EH"
      },
      "outputs": [],
      "source": [
        "model_point_table"
      ]
    },
    {
      "cell_type": "code",
      "execution_count": null,
      "metadata": {
        "id": "0aJCVhqx-t-m"
      },
      "outputs": [],
      "source": []
    }
  ],
  "metadata": {
    "colab": {
      "private_outputs": true,
      "provenance": []
    },
    "kernelspec": {
      "display_name": "Python 3",
      "name": "python3"
    },
    "language_info": {
      "codemirror_mode": {
        "name": "ipython",
        "version": 3
      },
      "file_extension": ".py",
      "mimetype": "text/x-python",
      "name": "python",
      "nbconvert_exporter": "python",
      "pygments_lexer": "ipython3",
      "version": "3.10.10"
    }
  },
  "nbformat": 4,
  "nbformat_minor": 0
}
